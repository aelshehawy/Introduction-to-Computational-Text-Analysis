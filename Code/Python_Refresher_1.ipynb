{
  "nbformat": 4,
  "nbformat_minor": 0,
  "metadata": {
    "kernelspec": {
      "display_name": "Python 3",
      "language": "python",
      "name": "python3"
    },
    "language_info": {
      "codemirror_mode": {
        "name": "ipython",
        "version": 3
      },
      "file_extension": ".py",
      "mimetype": "text/x-python",
      "name": "python",
      "nbconvert_exporter": "python",
      "pygments_lexer": "ipython3",
      "version": "3.8.5"
    },
    "colab": {
      "name": "Python Refresher 1.ipynb",
      "provenance": [],
      "collapsed_sections": [],
      "include_colab_link": true
    }
  },
  "cells": [
    {
      "cell_type": "markdown",
      "metadata": {
        "id": "view-in-github",
        "colab_type": "text"
      },
      "source": [
        "<a href=\"https://colab.research.google.com/github/aelshehawy/text-as-data-computational-text-analysis-oxford/blob/main/Code/Python_Refresher_1.ipynb\" target=\"_parent\"><img src=\"https://colab.research.google.com/assets/colab-badge.svg\" alt=\"Open In Colab\"/></a>"
      ]
    },
    {
      "cell_type": "markdown",
      "metadata": {
        "id": "8e14z17Vqrbk"
      },
      "source": [
        "# **Welcome to Python Refresher Session 1**\n",
        "\n",
        "\n",
        "\n",
        "\n",
        "\n",
        "\n",
        "\n",
        "\n",
        "\n",
        "\n",
        "\n",
        "\n",
        "\n"
      ]
    },
    {
      "cell_type": "code",
      "metadata": {
        "id": "xXsBQz3lJcY_"
      },
      "source": [
        "from IPython.display import Image\n",
        "Image(url='https://media.giphy.com/media/gkQQqnFR1hhhuYPQHh/giphy.gif')\n"
      ],
      "execution_count": null,
      "outputs": []
    },
    {
      "cell_type": "markdown",
      "metadata": {
        "id": "NFOya9HEKCbY"
      },
      "source": [
        "## Let's get to know each other!"
      ]
    },
    {
      "cell_type": "markdown",
      "metadata": {
        "id": "Cmiz4pMAKSdu"
      },
      "source": [
        "## **Organizational**"
      ]
    },
    {
      "cell_type": "markdown",
      "metadata": {
        "id": "WBJ-rriFqrbs"
      },
      "source": [
        "## Microsoft Teams - Mainly for Communication"
      ]
    },
    {
      "cell_type": "markdown",
      "metadata": {
        "id": "lEajw-Pfqrbt"
      },
      "source": [
        "- general: admin, general news, class links, general questions\n",
        "- windows-Support: channel for all windows related issues, we are going to try to solve them together through group effort\n",
        "- debugging_code: All excercise and python related questions\n",
        "- relevant literature: posting any literature we find highly relevant and interesting\n",
        "- office hours: office hours links and sign up sheet\n"
      ]
    },
    {
      "cell_type": "markdown",
      "metadata": {
        "id": "rTzYMYslqrbv"
      },
      "source": [
        "## Github\n",
        "\n",
        "**Why use GitHub?**\n",
        "\n",
        "- Open Source\n",
        "- Have your code reviewed by the community\n",
        "- Give your projects visibility\n",
        "- Collaborate and track changes for your code visibly\n",
        "- Newsfeed with latest updates - You can  see what changes have been made in any other repositories you follow. \n",
        "- Explore repositories -  On the right of your dashboard, you can locate suggested repositories to follow — these suggestions are based on repositories you have followed or starrted."
      ]
    },
    {
      "cell_type": "markdown",
      "metadata": {
        "id": "SBrwX_Cqqrbw"
      },
      "source": [
        "**How do we use Github?**\n",
        "\n",
        "- Fork a rep: Create a new project based on a project that already exists - you can fork our repository https://github.com/aelshehawy/text-as-data-computational-text-analysis-oxford to have a copy in your profile that you can edit  <br>\n",
        "Use fork to work on new features and submit pull requests containing your new changes to the original repository.\n",
        "- Pull Request:  Authors of the original repository can see your work & choose if they want to accept it to the official project.\n",
        "- Star: Bookmark repository\n",
        "- Desktop version is really nice, you can work on your computer, have a local copy of repositories and fetch updates "
      ]
    },
    {
      "cell_type": "markdown",
      "metadata": {
        "id": "AsNVbtEjqrbw"
      },
      "source": [
        "**Use GitHub to pull data for the class**\n",
        "\n",
        "*My recommendation would be to open Colab sheets from Github and save your edits in your Google Drive.*\n",
        "\n",
        "You can also download the whole repository with one click: https://github.com/aelshehawy/text-as-data-computational-text-analysis-oxford\n",
        "\n",
        "\n",
        "**You could also use GitHub Desktop:**<br> \n",
        "if you have forked our class's repository, then clone my repository on your computer and keep fetching changes.\n",
        "\n",
        "**Just explore and play with GitHub whe you have time**"
      ]
    },
    {
      "cell_type": "markdown",
      "metadata": {
        "id": "DWj_K5852UEV"
      },
      "source": [
        "## Google Colab Sheets\n",
        "\n",
        "- Can be used with browsers like Chrome of Firefox\n",
        "- Saves installation time and effort. Easily use available libraries.\n",
        "- All your notebooks can be saved directly in your Google Drive\n",
        "- Excellent for collaborations!\n",
        "- Check this link for more information https://colab.research.google.com/notebooks/basic_features_overview.ipynb"
      ]
    },
    {
      "cell_type": "markdown",
      "metadata": {
        "id": "O2u-LakX4UaF"
      },
      "source": [
        "### So how does it work?\n",
        "\n",
        "1. To create a new cell you click +\n",
        "2. To run a cell you need to press the play button\n",
        "3. You can create cells where you write text by clicking on the + Text button. Here is a cheat sheet [link](https://github.com/adam-p/markdown-here/wiki/Markdown-Cheatsheet) for markdown, probably you have already used it in R. \n",
        "4. If you need to clear everything that is saved in a python notebook (remove saved variables/data etc.). You can click on Edit and choose **clear all output**\n",
        "6. Save notebooks on your Google Drive - Don't forget!\n",
        "7. Useful Shortcuts under Tools: Example: Control m m will convert a code cell to a text cell. Control m y will convert a text cell to a code cell."
      ]
    },
    {
      "cell_type": "markdown",
      "metadata": {
        "id": "8bsOPxDyqrbx"
      },
      "source": [
        "## **What are we learning in this coding session today**\n",
        "\n",
        "Mainly: Basic Operations of Python\n",
        "\n",
        "* Python Interactive Shell: Print Function\n",
        "* Assigning Variables and Values\n",
        "* Understanding Different Types of Objects in Python\n",
        "* Mathematical Operations\n",
        "* Boolean Operations\n",
        "* Transformation of Objects\n",
        "* Input function \n",
        "* Combining Objects\n",
        "* Understanding Python Strings"
      ]
    },
    {
      "cell_type": "markdown",
      "metadata": {
        "id": "LHCOSpkdqrbx"
      },
      "source": [
        "## Python Interactive Shell"
      ]
    },
    {
      "cell_type": "markdown",
      "metadata": {
        "id": "EzW7La6mqrby"
      },
      "source": [
        "### The print function\n",
        "Here you can use print() built in function for python to print strings, intergers etc. <br>\n",
        "To print a string you need to wrap it in \"\""
      ]
    },
    {
      "cell_type": "code",
      "metadata": {
        "id": "bc1gYoBGqrby"
      },
      "source": [
        " #we use single or double quotation marks\n",
        " #Welcome to Text Analysis Class"
      ],
      "execution_count": null,
      "outputs": []
    },
    {
      "cell_type": "code",
      "metadata": {
        "collapsed": true,
        "id": "3LqWjpy9qrbz"
      },
      "source": [
        " #why do we have an error\n",
        " #print(\"Welcome)"
      ],
      "execution_count": null,
      "outputs": []
    },
    {
      "cell_type": "code",
      "metadata": {
        "id": "1ciGZla0qrb0"
      },
      "source": [
        "#print strings\n"
      ],
      "execution_count": null,
      "outputs": []
    },
    {
      "cell_type": "code",
      "metadata": {
        "id": "e8okzAoTqrb0"
      },
      "source": [
        "#print numbers\n"
      ],
      "execution_count": null,
      "outputs": []
    },
    {
      "cell_type": "code",
      "metadata": {
        "id": "N4u1mKuKqrb1"
      },
      "source": [
        "# you can print intergers and strings together like this - seperate with a comma\n"
      ],
      "execution_count": null,
      "outputs": []
    },
    {
      "cell_type": "code",
      "metadata": {
        "collapsed": true,
        "id": "QZryuiKDqrb1"
      },
      "source": [
        "# using the hashtag to comment out lines or comment your code\n"
      ],
      "execution_count": null,
      "outputs": []
    },
    {
      "cell_type": "markdown",
      "metadata": {
        "id": "gZPgOCcQqrb1"
      },
      "source": [
        "### Assign variable values\n",
        "here we save a value inside of a variable - exactly as we do with other statistical programmes like R and Stata"
      ]
    },
    {
      "cell_type": "code",
      "metadata": {
        "collapsed": true,
        "id": "9U8Ub0sFqrb2"
      },
      "source": [
        "#assign string to a variable\n",
        "welcome"
      ],
      "execution_count": null,
      "outputs": []
    },
    {
      "cell_type": "markdown",
      "metadata": {
        "id": "-W-CoifIqrb2"
      },
      "source": [
        "as we saved the string within the variable welcome, we can use python's built in function print() to see what we have saved"
      ]
    },
    {
      "cell_type": "code",
      "metadata": {
        "id": "6tYVWwcbqrb2"
      },
      "source": [
        "#print assigned string\n"
      ],
      "execution_count": null,
      "outputs": []
    },
    {
      "cell_type": "code",
      "metadata": {
        "id": "KsJRBhY_qrb3"
      },
      "source": [
        "#another way of seeing what was saved\n",
        "welcome"
      ],
      "execution_count": null,
      "outputs": []
    },
    {
      "cell_type": "markdown",
      "metadata": {
        "id": "T-GoYemdqrb3"
      },
      "source": [
        "Same goes with intergers and calculations"
      ]
    },
    {
      "cell_type": "code",
      "metadata": {
        "collapsed": true,
        "id": "kU5Urk-4qrb3"
      },
      "source": [
        "#mathematical calculation\n",
        "calculation "
      ],
      "execution_count": null,
      "outputs": []
    },
    {
      "cell_type": "code",
      "metadata": {
        "id": "D3-boaUjqrb4"
      },
      "source": [
        "print(calculation)\n",
        "calculation #the product of the evaluation"
      ],
      "execution_count": null,
      "outputs": []
    },
    {
      "cell_type": "markdown",
      "metadata": {
        "id": "l1YwyvVDqrb4"
      },
      "source": [
        "**Take care of overwritting**"
      ]
    },
    {
      "cell_type": "code",
      "metadata": {
        "id": "HgZwkVeEqrb4"
      },
      "source": [
        "calculation=(10*10)\n",
        "calculation"
      ],
      "execution_count": null,
      "outputs": []
    },
    {
      "cell_type": "markdown",
      "metadata": {
        "id": "tbbT9zZcqrb5"
      },
      "source": [
        "using variables that we have already assigned"
      ]
    },
    {
      "cell_type": "code",
      "metadata": {
        "collapsed": true,
        "id": "YSV10Ov4qrb5"
      },
      "source": [
        "# To calculate m=x+y\n",
        "x\n",
        "y"
      ],
      "execution_count": null,
      "outputs": []
    },
    {
      "cell_type": "code",
      "metadata": {
        "id": "4dSeRIuMqrb5"
      },
      "source": [
        "x"
      ],
      "execution_count": null,
      "outputs": []
    },
    {
      "cell_type": "code",
      "metadata": {
        "id": "kf19lLj9qrb5"
      },
      "source": [
        "y"
      ],
      "execution_count": null,
      "outputs": []
    },
    {
      "cell_type": "code",
      "metadata": {
        "id": "o6GnE4Axqrb6"
      },
      "source": [
        "m\n",
        "m"
      ],
      "execution_count": null,
      "outputs": []
    },
    {
      "cell_type": "code",
      "metadata": {
        "id": "Tqqc8VHJqrb6"
      },
      "source": [
        "#example of a common error\n",
        "z \n",
        "print(z)\n"
      ],
      "execution_count": null,
      "outputs": []
    },
    {
      "cell_type": "code",
      "metadata": {
        "id": "nQ41hoiPLZsp"
      },
      "source": [
        "#why does it work here\n",
        "print(\"z\")"
      ],
      "execution_count": null,
      "outputs": []
    },
    {
      "cell_type": "code",
      "metadata": {
        "id": "bFev_Oxuqrb7"
      },
      "source": [
        "#multiplication example\n",
        "\n",
        "\n",
        "multiplication"
      ],
      "execution_count": null,
      "outputs": []
    },
    {
      "cell_type": "code",
      "metadata": {
        "id": "-8InpESuqrb7"
      },
      "source": [
        "#combine objects - calculation, welcome, m\n",
        "combine "
      ],
      "execution_count": null,
      "outputs": []
    },
    {
      "cell_type": "code",
      "metadata": {
        "id": "YC7CEWCmqrb7"
      },
      "source": [
        "x=7\n",
        "x\n",
        "print(x)"
      ],
      "execution_count": null,
      "outputs": []
    },
    {
      "cell_type": "markdown",
      "metadata": {
        "id": "58ZeWwPTqrb7"
      },
      "source": [
        "## What type of Object are we using?"
      ]
    },
    {
      "cell_type": "code",
      "metadata": {
        "id": "lbaz5iyIqrb8"
      },
      "source": [
        "#define object\n",
        "\n"
      ],
      "execution_count": null,
      "outputs": []
    },
    {
      "cell_type": "code",
      "metadata": {
        "id": "U_Y4PMFGqrb8"
      },
      "source": [
        "#check type using print function\n"
      ],
      "execution_count": null,
      "outputs": []
    },
    {
      "cell_type": "code",
      "metadata": {
        "id": "JBv8wGiYqrb8"
      },
      "source": [
        "#check type from within the print function for strings\n"
      ],
      "execution_count": null,
      "outputs": []
    },
    {
      "cell_type": "code",
      "metadata": {
        "id": "7n942oFSqrb8"
      },
      "source": [
        "#check type from within the print function for strings for intergers\n"
      ],
      "execution_count": null,
      "outputs": []
    },
    {
      "cell_type": "code",
      "metadata": {
        "id": "njM6WYlvqrb8"
      },
      "source": [
        "#float: a number that has both an integer and fractional part, separated by a point.\n"
      ],
      "execution_count": null,
      "outputs": []
    },
    {
      "cell_type": "code",
      "metadata": {
        "collapsed": true,
        "id": "27blNOA3qrb8"
      },
      "source": [
        "#boolean type, a statement that is false or true\n",
        "a \n",
        "b "
      ],
      "execution_count": null,
      "outputs": []
    },
    {
      "cell_type": "code",
      "metadata": {
        "id": "w22chwGZqrb9"
      },
      "source": [
        "type(a)\n",
        "type(b)"
      ],
      "execution_count": null,
      "outputs": []
    },
    {
      "cell_type": "markdown",
      "metadata": {
        "id": "pqpuzdCtqrb9"
      },
      "source": [
        "## Maths"
      ]
    },
    {
      "cell_type": "code",
      "metadata": {
        "id": "MxqRFE5Rqrb9"
      },
      "source": [
        "#you can use python to perform mathematical operations\n"
      ],
      "execution_count": null,
      "outputs": []
    },
    {
      "cell_type": "code",
      "metadata": {
        "id": "AosOTaMLqrb9"
      },
      "source": [
        "#you can also use the print function to achieve the same thing\n"
      ],
      "execution_count": null,
      "outputs": []
    },
    {
      "cell_type": "code",
      "metadata": {
        "id": "-2gRkDjLqrb9"
      },
      "source": [
        "#multiplication\n"
      ],
      "execution_count": null,
      "outputs": []
    },
    {
      "cell_type": "code",
      "metadata": {
        "id": "2Ifenes7qrb-"
      },
      "source": [
        "#Power\n"
      ],
      "execution_count": null,
      "outputs": []
    },
    {
      "cell_type": "code",
      "metadata": {
        "id": "qFg6TfX_qrb-"
      },
      "source": [
        "# Multiplication, division interger, division float, remainder, and exponentiation\n",
        "print(3 * 5)\n",
        "print(10 / 3)\n",
        "print(10 // 3)\n",
        "print(18 % 7)\n",
        "print(4 ** 2)"
      ],
      "execution_count": null,
      "outputs": []
    },
    {
      "cell_type": "code",
      "metadata": {
        "id": "gzglBhznqrb-"
      },
      "source": [
        "A= #interger division\n",
        "print(A)"
      ],
      "execution_count": null,
      "outputs": []
    },
    {
      "cell_type": "code",
      "metadata": {
        "id": "U5Yi9S-Lqrb-"
      },
      "source": [
        "A= #float division\n",
        "print(A)"
      ],
      "execution_count": null,
      "outputs": []
    },
    {
      "cell_type": "code",
      "metadata": {
        "collapsed": true,
        "id": "5w4ISUNnqrb-"
      },
      "source": [
        "#It is important to know that python needs brackets to understand what it should calculate first\n",
        "#Lets experiment"
      ],
      "execution_count": null,
      "outputs": []
    },
    {
      "cell_type": "code",
      "metadata": {
        "id": "2B-ohsl0qrb-"
      },
      "source": [
        "(1666-20+40)*(800-10)*(300+20)"
      ],
      "execution_count": null,
      "outputs": []
    },
    {
      "cell_type": "code",
      "metadata": {
        "id": "ZLFUw8Fsqrb_"
      },
      "source": [
        "(1666-20+40*800-10*300+20)"
      ],
      "execution_count": null,
      "outputs": []
    },
    {
      "cell_type": "markdown",
      "metadata": {
        "id": "tUmb3F_wqrb_"
      },
      "source": [
        "## Boolean operations"
      ]
    },
    {
      "cell_type": "code",
      "metadata": {
        "id": "OV7A25d-xs-_"
      },
      "source": [
        "print(type(True))"
      ],
      "execution_count": null,
      "outputs": []
    },
    {
      "cell_type": "code",
      "metadata": {
        "id": "tywbzI30x0Te"
      },
      "source": [
        "print(100 < 2)\n",
        "print(3 > 7)\n",
        "\n"
      ],
      "execution_count": null,
      "outputs": []
    },
    {
      "cell_type": "code",
      "metadata": {
        "id": "Q_4DyFr6Sj3L"
      },
      "source": [
        "print(2 <= 3)\n",
        "print(2 <= 2)\n",
        "print(3 >= 99)\n",
        "print(55 == 55)\n",
        "\n",
        "\n"
      ],
      "execution_count": null,
      "outputs": []
    },
    {
      "cell_type": "code",
      "metadata": {
        "id": "f60lNmanSkBn"
      },
      "source": [
        "print(\"dpir\" == \"dpir\")\n",
        "print(\"dice\" != \"ice\")"
      ],
      "execution_count": null,
      "outputs": []
    },
    {
      "cell_type": "code",
      "metadata": {
        "id": "4OVW8jHyqrb_"
      },
      "source": [
        "a == b #these objects are equal to each other?"
      ],
      "execution_count": null,
      "outputs": []
    },
    {
      "cell_type": "code",
      "metadata": {
        "id": "4_sU1mB3qrcA"
      },
      "source": [
        "a!=b #these objects are not equal to each other?"
      ],
      "execution_count": null,
      "outputs": []
    },
    {
      "cell_type": "markdown",
      "metadata": {
        "id": "lHtyyRNwqrcA"
      },
      "source": [
        "## Transform Objects"
      ]
    },
    {
      "cell_type": "code",
      "metadata": {
        "id": "ijGawBfvqrcA"
      },
      "source": [
        "#assign numerical values\n",
        "number1= 100\n",
        "number2= 2.3\n",
        "\n",
        "number1"
      ],
      "execution_count": null,
      "outputs": []
    },
    {
      "cell_type": "code",
      "metadata": {
        "id": "FOOf3pJCqrcA"
      },
      "source": [
        "#transform to string\n"
      ],
      "execution_count": null,
      "outputs": []
    },
    {
      "cell_type": "code",
      "metadata": {
        "id": "YQJIkl_NqrcB"
      },
      "source": [
        "#transform to interger\n"
      ],
      "execution_count": null,
      "outputs": []
    },
    {
      "cell_type": "markdown",
      "metadata": {
        "id": "krnenRI3qrcB"
      },
      "source": [
        "## Input from keyboard"
      ]
    },
    {
      "cell_type": "code",
      "metadata": {
        "id": "LFRj1RQNqrcC"
      },
      "source": [
        "answer_this_question "
      ],
      "execution_count": null,
      "outputs": []
    },
    {
      "cell_type": "code",
      "metadata": {
        "id": "cLnvNvXGqrcC"
      },
      "source": [
        "answer_this_question"
      ],
      "execution_count": null,
      "outputs": []
    },
    {
      "cell_type": "markdown",
      "metadata": {
        "collapsed": true,
        "id": "usltMX9xqrcC"
      },
      "source": [
        "## Combining Objects"
      ]
    },
    {
      "cell_type": "code",
      "metadata": {
        "id": "laCmmdjrWr2e"
      },
      "source": [
        "#combine objects - example 1\n",
        "text \n",
        "\n",
        "text"
      ],
      "execution_count": null,
      "outputs": []
    },
    {
      "cell_type": "code",
      "metadata": {
        "id": "GPujugYuW0II"
      },
      "source": [
        "#combine objects - example 2\n",
        "intergers=\"2\"+\"3\"\n",
        "print(intergers) #check the combining operation\n",
        "print(type(intergers)) #check the type of the object"
      ],
      "execution_count": null,
      "outputs": []
    },
    {
      "cell_type": "code",
      "metadata": {
        "id": "at08vuAMW0Nb"
      },
      "source": [
        "#combine objects - example 3\n",
        "\n",
        "intergers=2+3\n",
        "intergers\n",
        "#what is different here?"
      ],
      "execution_count": null,
      "outputs": []
    },
    {
      "cell_type": "code",
      "metadata": {
        "id": "osPoBDfmcaR3"
      },
      "source": [
        "print(type(intergers))\n",
        "intergers\n",
        "# see the difference between this and the cell above?"
      ],
      "execution_count": null,
      "outputs": []
    },
    {
      "cell_type": "code",
      "metadata": {
        "id": "zoEGIR1_W-eX"
      },
      "source": [
        "#conversions - we talked about transforming types of objects \n",
        "#we can save an item as string here s1=\"5\"\n",
        "\n",
        "s1\n",
        "x  #we transform first s1 as interger and then we multiply it by 3\n",
        "print (x) # check result 5*3=15"
      ],
      "execution_count": null,
      "outputs": []
    },
    {
      "cell_type": "code",
      "metadata": {
        "id": "dltUfbINXBt7"
      },
      "source": [
        "#check if python observes two strings to be the same\n"
      ],
      "execution_count": null,
      "outputs": []
    },
    {
      "cell_type": "markdown",
      "metadata": {
        "id": "aJPY-_O7XMCj"
      },
      "source": [
        "## Understanding Python Strings"
      ]
    },
    {
      "cell_type": "markdown",
      "metadata": {
        "id": "gDNDKiscXQhO"
      },
      "source": [
        "inputting a string"
      ]
    },
    {
      "cell_type": "code",
      "metadata": {
        "id": "KriJmx_AXLMe"
      },
      "source": [
        "#it doesnt matter whether you use single or double quoted strings to save a string object\n",
        "string1 = \"Hi this is session one\"\n",
        "string2 = 'And I am loving python'\n"
      ],
      "execution_count": null,
      "outputs": []
    },
    {
      "cell_type": "code",
      "metadata": {
        "id": "HVZqtu6eXVGP"
      },
      "source": [
        "#checking what is in the strings?\n",
        "print(string1)\n",
        "print(string2)"
      ],
      "execution_count": null,
      "outputs": []
    },
    {
      "cell_type": "markdown",
      "metadata": {
        "id": "b0BFLYxBXYAP"
      },
      "source": [
        "*what* if we wanna make sure if there is a specific word in the saved string? <br>\n",
        "let's try with *is* and *am*"
      ]
    },
    {
      "cell_type": "code",
      "metadata": {
        "id": "g7FN6wx1XYra"
      },
      "source": [
        ""
      ],
      "execution_count": null,
      "outputs": []
    },
    {
      "cell_type": "code",
      "metadata": {
        "id": "FI0iCDuiXYx8"
      },
      "source": [
        ""
      ],
      "execution_count": null,
      "outputs": []
    },
    {
      "cell_type": "markdown",
      "metadata": {
        "id": "Q8n5Uko6Xg-t"
      },
      "source": [
        "### Manipulating string"
      ]
    },
    {
      "cell_type": "code",
      "metadata": {
        "id": "dsKYyyp8Xrln"
      },
      "source": [
        "#enter your name\n",
        "myname="
      ],
      "execution_count": null,
      "outputs": []
    },
    {
      "cell_type": "code",
      "metadata": {
        "id": "F5nPiZJsXroB"
      },
      "source": [
        "#if I want to make letter uppercase\n",
        "print(myname.title())"
      ],
      "execution_count": null,
      "outputs": []
    },
    {
      "cell_type": "code",
      "metadata": {
        "id": "xP8uRPsxXrrX"
      },
      "source": [
        "#if I want to make the whole string uppercase\n",
        "print (myname.upper())"
      ],
      "execution_count": null,
      "outputs": []
    },
    {
      "cell_type": "markdown",
      "metadata": {
        "id": "bpkRJSSYYkn8"
      },
      "source": [
        "### Strip space"
      ]
    },
    {
      "cell_type": "code",
      "metadata": {
        "id": "L8jqYykzYjvO"
      },
      "source": [
        "#define a variable that includes a string\n",
        "university=\" University of Oxford \"\n",
        "print(university)"
      ],
      "execution_count": null,
      "outputs": []
    },
    {
      "cell_type": "code",
      "metadata": {
        "id": "Axs9BObdYq9K"
      },
      "source": [
        "#remove all leading and ending spaces\n",
        "university1=university.strip()\n",
        "print(university1)"
      ],
      "execution_count": null,
      "outputs": []
    },
    {
      "cell_type": "code",
      "metadata": {
        "id": "PRca13quYx4_"
      },
      "source": [
        "#remove all space characters in sentence\n",
        "\n"
      ],
      "execution_count": null,
      "outputs": []
    },
    {
      "cell_type": "code",
      "metadata": {
        "id": "KIpoSs0jdLw9"
      },
      "source": [
        "#we can replace letters as well\n",
        "university2"
      ],
      "execution_count": null,
      "outputs": []
    },
    {
      "cell_type": "markdown",
      "metadata": {
        "id": "mrt4DZuRY7sO"
      },
      "source": [
        "### Count number of words and letters"
      ]
    },
    {
      "cell_type": "code",
      "metadata": {
        "id": "NCsuDA4pY_um"
      },
      "source": [
        "#count number of charachters incluing white space\n",
        "university=\"University of Oxford in Oxford\"\n"
      ],
      "execution_count": null,
      "outputs": []
    },
    {
      "cell_type": "code",
      "metadata": {
        "id": "GuFXWYYGbWEi"
      },
      "source": [
        "#if we use this we remove the white space and the count without replace\n",
        "university1"
      ],
      "execution_count": null,
      "outputs": []
    },
    {
      "cell_type": "code",
      "metadata": {
        "id": "C8EViGJZbiKt"
      },
      "source": [
        "#does the same as above\n"
      ],
      "execution_count": null,
      "outputs": []
    },
    {
      "cell_type": "code",
      "metadata": {
        "id": "LzOtnNWpZDo3"
      },
      "source": [
        "#count number of words\n"
      ],
      "execution_count": null,
      "outputs": []
    },
    {
      "cell_type": "code",
      "metadata": {
        "id": "a2Q8BPehZFiO"
      },
      "source": [
        "# split function splits by white-space\n"
      ],
      "execution_count": null,
      "outputs": []
    },
    {
      "cell_type": "code",
      "metadata": {
        "id": "6D1m6xeCZH_D"
      },
      "source": [
        "#count number of occurence of letter\n"
      ],
      "execution_count": null,
      "outputs": []
    },
    {
      "cell_type": "markdown",
      "metadata": {
        "id": "2SFEkU4qqrcC"
      },
      "source": [
        "# Excercies"
      ]
    },
    {
      "cell_type": "code",
      "metadata": {
        "collapsed": true,
        "id": "k1Vjd4owqrcC"
      },
      "source": [
        "#Excercise 1\n",
        "\n",
        "# a- Print the multiplication of 7 and 8, save them in a variable called mult\n",
        "# b- Calculate 5^2, save in a variable called power\n",
        "# print the results"
      ],
      "execution_count": null,
      "outputs": []
    },
    {
      "cell_type": "code",
      "metadata": {
        "collapsed": true,
        "id": "lCAhC-AkqrcD"
      },
      "source": [
        "#Excercise 2\n",
        "\n",
        "#calculate how many weeks in 10 years - approximately\n",
        "#hints:\n",
        "#save the number of weeks in a year in a variable called weeks\n",
        "#save the number 10 in a variable called 10 years\n",
        "#specificy and print outcome - variable named weeksin10years\n"
      ],
      "execution_count": null,
      "outputs": []
    },
    {
      "cell_type": "code",
      "metadata": {
        "collapsed": true,
        "id": "7td4_GeYqrcD"
      },
      "source": [
        "#Excercise 3\n",
        "\n",
        "# Print the interger of the division of 244 by 5 and save them in a variable called division\n"
      ],
      "execution_count": null,
      "outputs": []
    },
    {
      "cell_type": "code",
      "metadata": {
        "collapsed": true,
        "id": "hQxIT5cOqrcD"
      },
      "source": [
        "#Excercise 4\n",
        "\n",
        "# Calculate the area of a circle\n",
        "# 1) define the variables that you need - pi and r, in that case r=3\n",
        "# 2) write the equation\n",
        "# 3) make sure you have a float type answer\n",
        "# 4) print out the result\n",
        "\n",
        "\n"
      ],
      "execution_count": null,
      "outputs": []
    },
    {
      "cell_type": "code",
      "metadata": {
        "collapsed": true,
        "id": "3wE2kkpNqrcD"
      },
      "source": [
        "#Excercise 5\n",
        "\n",
        "# Request the name of the user\n",
        "# Request the age of a user\n",
        "#print out the name and age of the user in a sentence using the variables you have defined for age and name\n"
      ],
      "execution_count": null,
      "outputs": []
    },
    {
      "cell_type": "code",
      "metadata": {
        "id": "YmsAGGDpqrcE"
      },
      "source": [
        "#Excercise 6\n",
        "\n",
        "# Fix the errors here\n",
        "# Fix the printout\n",
        "\n",
        "print(\"I have\" + \" \" +randomnumber1 + \" of apples and\" + \" \" + randomnumber2 + \" \" + \"of bananas!\")"
      ],
      "execution_count": null,
      "outputs": []
    },
    {
      "cell_type": "code",
      "metadata": {
        "collapsed": true,
        "id": "nOn9oof1qrcE"
      },
      "source": [
        "#Excercise 7\n",
        "\n",
        "#Display “My Name Is [insert your name]” as “My**Name**Is**[insert your name]” using output formatting of a print() function\n",
        "#Hint: understand the \"sep\" command in Python"
      ],
      "execution_count": null,
      "outputs": []
    },
    {
      "cell_type": "code",
      "metadata": {
        "id": "jXj5jk9BqrcE"
      },
      "source": [
        "#Excercise 8\n",
        "\n",
        "#Display float number with 2 decimal -40400.2233- places using print()\n",
        "\n",
        "\n"
      ],
      "execution_count": null,
      "outputs": []
    },
    {
      "cell_type": "code",
      "metadata": {
        "id": "465X_2hYqrcE"
      },
      "source": [
        "#Excercise 9\n",
        "\n",
        "#fix this code \n",
        "\n",
        "print \"This doesnt work\"\n",
        "print('This doesn't work')\n",
        "input('Input your age: ')\n",
        "print(name"
      ],
      "execution_count": null,
      "outputs": []
    },
    {
      "cell_type": "code",
      "metadata": {
        "collapsed": true,
        "id": "hUmsQl7bqrcF"
      },
      "source": [
        "#Excercise 10\n",
        "\n",
        "# a- Ask the user to input a number\n",
        "# b- Ask the user to input another number\n",
        "# c- Calculate the total of the two numbers added together\n",
        "\n",
        "#Hint use input for a and b"
      ],
      "execution_count": null,
      "outputs": []
    },
    {
      "cell_type": "markdown",
      "metadata": {
        "id": "0Vpq86FPZZXf"
      },
      "source": [
        "\n",
        "**Exercise 11**\n",
        "\n",
        "1. count how the occurence of each letter in the sentence. Hint: use the Counter library in python\n",
        "2. count number of characters/letters only (no white space, no punctuation) - hint use the replace in-built function in python."
      ]
    },
    {
      "cell_type": "code",
      "metadata": {
        "id": "HVDhNBlpZZl2"
      },
      "source": [
        "sentence=(\"Hello World, I am so excited; to finally be able to get out of quarantine and meet all my friends\")"
      ],
      "execution_count": null,
      "outputs": []
    },
    {
      "cell_type": "markdown",
      "metadata": {
        "id": "zqyyX564ZmDa"
      },
      "source": [
        "**Excercise 12**\n",
        "\n",
        "why do we see an error message here"
      ]
    },
    {
      "cell_type": "code",
      "metadata": {
        "id": "nLhKiBuTZ_TU"
      },
      "source": [
        "var = 100 + \"the number 100\""
      ],
      "execution_count": null,
      "outputs": []
    },
    {
      "cell_type": "markdown",
      "metadata": {
        "id": "x0jUaHsyaJI-"
      },
      "source": [
        "**Excercise 13**\n",
        "\n",
        "Save your first and last name in lowercase in seperate variables: firstname, lastname\n",
        "Save first and last name together in a new variable fullname\n",
        "Print your fullname where the first letter of each name is capitalized\n",
        "Hint\n",
        "\n",
        "Make sure there is space between both names"
      ]
    },
    {
      "cell_type": "markdown",
      "metadata": {
        "id": "5RpxhX0KZ_XH"
      },
      "source": [
        "**Excercise 14**\n",
        "\n",
        "Count number of lowercase and uppercase letters\n",
        "\n",
        "Note: There are several ways to do this"
      ]
    }
  ]
}