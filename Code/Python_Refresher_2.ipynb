{
  "nbformat": 4,
  "nbformat_minor": 0,
  "metadata": {
    "kernelspec": {
      "display_name": "Python 3",
      "language": "python",
      "name": "python3"
    },
    "language_info": {
      "codemirror_mode": {
        "name": "ipython",
        "version": 3
      },
      "file_extension": ".py",
      "mimetype": "text/x-python",
      "name": "python",
      "nbconvert_exporter": "python",
      "pygments_lexer": "ipython3",
      "version": "3.8.5"
    },
    "colab": {
      "name": "Python Refresher 2.ipynb",
      "provenance": [],
      "collapsed_sections": [],
      "toc_visible": true,
      "include_colab_link": true
    }
  },
  "cells": [
    {
      "cell_type": "markdown",
      "metadata": {
        "id": "view-in-github",
        "colab_type": "text"
      },
      "source": [
        "<a href=\"https://colab.research.google.com/github/aelshehawy/text-as-data-computational-text-analysis-oxford/blob/main/Code/Python_Refresher_2.ipynb\" target=\"_parent\"><img src=\"https://colab.research.google.com/assets/colab-badge.svg\" alt=\"Open In Colab\"/></a>"
      ]
    },
    {
      "cell_type": "markdown",
      "metadata": {
        "id": "zP6HAMhUs6IU"
      },
      "source": [
        "# **Python Refresher Session 2**\n",
        "\n",
        "\n",
        "\n"
      ]
    },
    {
      "cell_type": "markdown",
      "metadata": {
        "id": "Wgj0OsaE6nC0"
      },
      "source": [
        "# Main Learning Goals today:\n"
      ]
    },
    {
      "cell_type": "markdown",
      "metadata": {
        "id": "ZgoT1Zu6s6IV"
      },
      "source": [
        "**Libraries in Python**\n",
        "\n",
        "**Data Structures in Python**\n",
        "\n",
        "**Loops**\n",
        "* for loops\n",
        "* if, else, elif loops - conditional loops\n",
        "* while loops\n",
        "* continue and break commands\n",
        "\n",
        "**Appending Lists**\n",
        "\n",
        "**Defining Functions**\n",
        "\n",
        "**Revise list comprehesion**\n",
        "\n",
        "\n",
        "\n"
      ]
    },
    {
      "cell_type": "markdown",
      "metadata": {
        "id": "HFZm5W6De0Dt"
      },
      "source": [
        "# Libraries in Python\n",
        "Usually you enter in terminal ``pip install [project name]``, best is to check source documentation of project. <br>\n",
        "Example: https://pypi.org/project/Counter/\n",
        "\n",
        "However, Google Colab has a lot of pre-installed libraries.\n",
        "If there is a library we still need to import here - this is a good reference to how to do that https://colab.research.google.com/notebooks/snippets/importing_libraries.ipynb\n",
        "\n",
        "Usually we will have to use this command ``!pip install`` within a code cell."
      ]
    },
    {
      "cell_type": "code",
      "metadata": {
        "id": "DL-ZYabbew9J"
      },
      "source": [
        "# you need a library to count faster, this is a very powerful library that we wil use in the future\n",
        "from collections import Counter\n",
        "uni=\"University of Oxford\"\n",
        "Counter(uni) # here we count how much each letter appears, counter can do much more"
      ],
      "execution_count": null,
      "outputs": []
    },
    {
      "cell_type": "markdown",
      "metadata": {
        "id": "yA0ny74RfjTv"
      },
      "source": [
        "# Data Structures in Python"
      ]
    },
    {
      "cell_type": "markdown",
      "metadata": {
        "id": "CFoThpCCfoPV"
      },
      "source": [
        "### Lists\n",
        "\n",
        "ordered, changable, allows duplicated items"
      ]
    },
    {
      "cell_type": "code",
      "metadata": {
        "id": "4IWrwv1efo7S"
      },
      "source": [
        "quarantine =['baking','zoom',\"productiveness\",\"instagram\",\"netflix\",\"social distancing\"]\n",
        "print(quarantine)"
      ],
      "execution_count": null,
      "outputs": []
    },
    {
      "cell_type": "code",
      "metadata": {
        "id": "aZudaRxhfsNQ"
      },
      "source": [
        "random=[2,5,6,2,3,4]\n",
        "print(random)"
      ],
      "execution_count": null,
      "outputs": []
    },
    {
      "cell_type": "code",
      "metadata": {
        "id": "p_cHJysbfsQy"
      },
      "source": [
        "len(quarantine) # we see we have 6 items in our list\n"
      ],
      "execution_count": null,
      "outputs": []
    },
    {
      "cell_type": "code",
      "metadata": {
        "id": "vUV4ipYyfsWR"
      },
      "source": [
        "len(random)"
      ],
      "execution_count": null,
      "outputs": []
    },
    {
      "cell_type": "markdown",
      "metadata": {
        "id": "0AMhI8qaf6q9"
      },
      "source": [
        "**VERY IMPORTANT** In Python counting of items/observations always starts with 0"
      ]
    },
    {
      "cell_type": "code",
      "metadata": {
        "id": "U7aM1k-zf87Q"
      },
      "source": [
        "quarantine[5]"
      ],
      "execution_count": null,
      "outputs": []
    },
    {
      "cell_type": "code",
      "metadata": {
        "id": "elGIt_pMf-wt"
      },
      "source": [
        "#select items\n",
        "quarantine_food_edition=quarantine[0]\n",
        "quarantine_food_edition"
      ],
      "execution_count": null,
      "outputs": []
    },
    {
      "cell_type": "code",
      "metadata": {
        "id": "ZWIP-90JgAU5"
      },
      "source": [
        "#select range, slice slice\n",
        "quarantine_fun_edition=quarantine[0:]\n",
        "quarantine_fun_edition"
      ],
      "execution_count": null,
      "outputs": []
    },
    {
      "cell_type": "markdown",
      "metadata": {
        "id": "3V3i2MKWgDgO"
      },
      "source": [
        "### Dictionaries\n",
        "\n",
        "A dictionary has a key and a corresponding value <br>\n",
        "How to create a dictionary?\n",
        "\n"
      ]
    },
    {
      "cell_type": "code",
      "metadata": {
        "id": "z5YjRursgOCP"
      },
      "source": [
        "myshoppingitems = ['Pasta', 10, 'Pesto', 20, 'Chocolate', 5]\n",
        "myshoppingitems"
      ],
      "execution_count": null,
      "outputs": []
    },
    {
      "cell_type": "code",
      "metadata": {
        "id": "K3Y3q4OFgOE9"
      },
      "source": [
        "myshoppingitems = {'Pasta': 10, 'Pesto': 20, 'Chocolate': 5}\n",
        "myshoppingitems"
      ],
      "execution_count": null,
      "outputs": []
    },
    {
      "cell_type": "code",
      "metadata": {
        "id": "fbiKTpNUgOLD"
      },
      "source": [
        "emptydictionary = dict()\n",
        "emptydictionary"
      ],
      "execution_count": null,
      "outputs": []
    },
    {
      "cell_type": "markdown",
      "metadata": {
        "id": "UjrmrjGPgT3p"
      },
      "source": [
        "Add first item to the dictionary, dictionary keys should always be unique"
      ]
    },
    {
      "cell_type": "code",
      "metadata": {
        "id": "oMGyfRAugOQz"
      },
      "source": [
        "emptydictionary['Pasta'] = 10\n",
        "print(emptydictionary)"
      ],
      "execution_count": null,
      "outputs": []
    },
    {
      "cell_type": "code",
      "metadata": {
        "id": "cXU35AejgY1g"
      },
      "source": [
        "emptydictionary['Pesto'] = 20\n",
        "emptydictionary"
      ],
      "execution_count": null,
      "outputs": []
    },
    {
      "cell_type": "code",
      "metadata": {
        "id": "kBUNEHSBghHT"
      },
      "source": [
        "#Access key,item in a dictionary\n",
        "emptydictionary['Pesto']"
      ],
      "execution_count": null,
      "outputs": []
    },
    {
      "cell_type": "markdown",
      "metadata": {
        "id": "7dVmAwMUhJ40"
      },
      "source": [
        "### Tuples\n",
        "\n",
        "- immutable sequence of Python objects - you cannot update or change the values of tuple elements\n",
        "- their advantage is that they have a fixed value"
      ]
    },
    {
      "cell_type": "code",
      "metadata": {
        "id": "oFjUKgOMhUjo"
      },
      "source": [
        "tuple1 = ('noon', 'morning', \"afternoon\", \"evening\")\n",
        "print(tuple1)"
      ],
      "execution_count": null,
      "outputs": []
    },
    {
      "cell_type": "markdown",
      "metadata": {
        "id": "EpO1TXUihb5s"
      },
      "source": [
        "create tuple of one value, you always need a comma at the end"
      ]
    },
    {
      "cell_type": "code",
      "metadata": {
        "id": "PWoElRJ_hUmc"
      },
      "source": [
        "tupele2 = (1,)\n",
        "tupele2"
      ],
      "execution_count": null,
      "outputs": []
    },
    {
      "cell_type": "markdown",
      "metadata": {
        "id": "zxAQWHl7hUp5"
      },
      "source": [
        "you can access values"
      ]
    },
    {
      "cell_type": "code",
      "metadata": {
        "id": "yqXfgJoghUsP"
      },
      "source": [
        "print(tuple1[3])"
      ],
      "execution_count": null,
      "outputs": []
    },
    {
      "cell_type": "markdown",
      "metadata": {
        "id": "oilGCRBEhUvm"
      },
      "source": [
        "you can not modify within tuples, but you can concate different tuples"
      ]
    },
    {
      "cell_type": "code",
      "metadata": {
        "id": "7q5pKFm-hUy2"
      },
      "source": [
        "tuple1 = ('noon', 'morning', \"afternoon\", \"evening\")\n",
        "tuple2 = ('12', '10', \"16\", \"18\")\n",
        "tuplemix=tuple1+tuple2\n",
        "tuplemix"
      ],
      "execution_count": null,
      "outputs": []
    },
    {
      "cell_type": "markdown",
      "metadata": {
        "id": "7L8OguvchWHu"
      },
      "source": [
        "you can not modify within tuples, but you can repeat tuples in a new tuple"
      ]
    },
    {
      "cell_type": "code",
      "metadata": {
        "id": "k2yfCpcHhWV8"
      },
      "source": [
        "tuplemultiply=tuple2*2\n",
        "tuplemultiply"
      ],
      "execution_count": null,
      "outputs": []
    },
    {
      "cell_type": "markdown",
      "metadata": {
        "id": "Jc2s45hyhWfl"
      },
      "source": [
        "you can check membership"
      ]
    },
    {
      "cell_type": "code",
      "metadata": {
        "id": "Fou1nljrhWpx"
      },
      "source": [
        "3 in tuple2"
      ],
      "execution_count": null,
      "outputs": []
    },
    {
      "cell_type": "markdown",
      "metadata": {
        "id": "kv2dgVFShWyS"
      },
      "source": [
        "### Sets\n",
        "\n",
        "What is a set? It is an unordered collection of items. You can not be sure in which order the items will appear.\n",
        "\n",
        "Elements of the set:\n",
        "1. must be unique - doesnt allow for duplicate elements\n",
        "2. elemenets can not be changed (you can not access items by refering to an index, as done in lists - as the set is unordered)\n",
        "\n",
        "The set as a whole is mutable, we can add and remove items from it\n",
        "\n",
        "Usually sets are used to for mathematical operations like, union and intersection"
      ]
    },
    {
      "cell_type": "code",
      "metadata": {
        "id": "7kKePRIPjGnn"
      },
      "source": [
        "#creation of sets\n",
        "\n",
        "set1 = {8, 2, 3, 20, 13, 100}\n",
        "set2 = {\"apple\",2,3, \"orange\"}\n",
        "print(set1)\n",
        "print(set2)"
      ],
      "execution_count": null,
      "outputs": []
    },
    {
      "cell_type": "code",
      "metadata": {
        "id": "BYFCPfNTjGuy"
      },
      "source": [
        "# no duplication allowed\n",
        "\n",
        "set3 = {8, 2, 3, 20, 13, 100, 20, 3}\n",
        "print(set3)\n"
      ],
      "execution_count": null,
      "outputs": []
    },
    {
      "cell_type": "code",
      "metadata": {
        "id": "k0HKAHb-jG1n"
      },
      "source": [
        "# transform a list to a set\n",
        "\n",
        "newlist=[8,20,33,400]\n",
        "newset = set(newlist)\n",
        "print(newset)\n",
        "print(type(newset))"
      ],
      "execution_count": null,
      "outputs": []
    },
    {
      "cell_type": "code",
      "metadata": {
        "id": "aHlojgc9jG8y"
      },
      "source": [
        "#mutability of set\n",
        "\n",
        "#add an item\n",
        "newset.add(2)\n",
        "print(newset)"
      ],
      "execution_count": null,
      "outputs": []
    },
    {
      "cell_type": "code",
      "metadata": {
        "id": "ayrtp2VijHEP"
      },
      "source": [
        "#to add more than one item you use update\n",
        "newset.update([100, 5, 6])\n",
        "print(newset)"
      ],
      "execution_count": null,
      "outputs": []
    },
    {
      "cell_type": "code",
      "metadata": {
        "id": "URgVLyB2jHKq"
      },
      "source": [
        "# discard an item (similar remove - however remove will show an error if the item is not in the set)\n",
        "newset.discard(3)\n",
        "print(newset)"
      ],
      "execution_count": null,
      "outputs": []
    },
    {
      "cell_type": "markdown",
      "metadata": {
        "id": "1lkvkuCEkpCI"
      },
      "source": [
        "### List Comprehension\n",
        "\n",
        "This is a very important method that will help you a lot in the future!"
      ]
    },
    {
      "cell_type": "code",
      "metadata": {
        "id": "JX4zB-bokzkg"
      },
      "source": [
        "#Lets define a list\n",
        "letters=[\"a\",\"b\",\"c\"]\n",
        "#we want to print out letter by letter in that list\n"
      ],
      "execution_count": null,
      "outputs": []
    },
    {
      "cell_type": "code",
      "metadata": {
        "id": "sWGhxO54k2NM"
      },
      "source": [
        "letters[0]\n",
        "letters[1]\n",
        "letters[2]"
      ],
      "execution_count": null,
      "outputs": []
    },
    {
      "cell_type": "markdown",
      "metadata": {
        "id": "4RZiL5BUlCjI"
      },
      "source": [
        "**Why do we use list comprehesion?**\n",
        "\n",
        "Basically to create a list based on another items of a list.\n",
        "We go through each element of the list."
      ]
    },
    {
      "cell_type": "code",
      "metadata": {
        "id": "cFviTqxclHd7"
      },
      "source": [
        "numbers=[1,2,3,4,5,6]\n"
      ],
      "execution_count": null,
      "outputs": []
    },
    {
      "cell_type": "code",
      "metadata": {
        "id": "_hhpDBZJlI_K"
      },
      "source": [
        "squares = [x**2 for x in numbers]\n",
        "squares"
      ],
      "execution_count": null,
      "outputs": []
    },
    {
      "cell_type": "code",
      "metadata": {
        "id": "ssFChn5klLch"
      },
      "source": [
        "#lets define a list\n",
        "\n",
        "random = 'Today is a sunny day, I need some Vitamin D'\n",
        "#to lower text\n",
        "random_lower = [  x for x in random.lower()] #we say for each word (x) in the list we call random lower the text\n",
        "random_lower"
      ],
      "execution_count": null,
      "outputs": []
    },
    {
      "cell_type": "code",
      "metadata": {
        "id": "OsLTs-JOlOoZ"
      },
      "source": [
        "random_lower =\"\".join(random_lower)\n",
        "random_lower"
      ],
      "execution_count": null,
      "outputs": []
    },
    {
      "cell_type": "code",
      "metadata": {
        "id": "s7NhdfNKlSPh"
      },
      "source": [
        "grades = [88, 94,100, 99, 70,98,55,20]\n",
        "\n",
        "# to choose grades above 80\n",
        "[g for g in grades if g > 80] \n",
        "# for each grade (we call it here g) in the grades list give back the numbers if they are above 80\n"
      ],
      "execution_count": null,
      "outputs": []
    },
    {
      "cell_type": "markdown",
      "metadata": {
        "collapsed": true,
        "id": "-nQxLzIds6IW"
      },
      "source": [
        "# Loops\n",
        "\n",
        "Important if you want to carry out operations in sequence."
      ]
    },
    {
      "cell_type": "markdown",
      "metadata": {
        "id": "saSuVg0ts6IW"
      },
      "source": [
        "![Pandas](https://media.giphy.com/media/ieaUdBJJC19uw/giphy.gif)\n"
      ]
    },
    {
      "cell_type": "markdown",
      "metadata": {
        "collapsed": true,
        "id": "5gjTZE5rs6IW"
      },
      "source": [
        "## For loops\n",
        "\n",
        "Executes a sequence of statements multiple times and abbreviates the code that manages the loop variable."
      ]
    },
    {
      "cell_type": "code",
      "metadata": {
        "id": "0Mi4fltSs6IX"
      },
      "source": [
        "#simple loops\n",
        "\n",
        "\n",
        "for l in [\"a\",\"b\",\"c\"]: # for each letter in the list, print each letter\n",
        "    print(l)\n",
        "    \n"
      ],
      "execution_count": null,
      "outputs": []
    },
    {
      "cell_type": "code",
      "metadata": {
        "id": "7eif9TfLs6IX"
      },
      "source": [
        "for number in [\"100\",\"300\",\"8\"]: # for each number in the list, print each number\n",
        "    print(number)"
      ],
      "execution_count": null,
      "outputs": []
    },
    {
      "cell_type": "code",
      "metadata": {
        "id": "_iTW9r1ys6IY"
      },
      "source": [
        "#range\n",
        "\n",
        "for x in range(2, 7):\n",
        "    print(x)"
      ],
      "execution_count": null,
      "outputs": []
    },
    {
      "cell_type": "code",
      "metadata": {
        "id": "JL38ZM94s6IY"
      },
      "source": [
        "#we can try with tuples\n",
        "tuple1 = (\"new\", 'tuple', 1,2,2)\n",
        "\n",
        "for i in tuple1:\n",
        "    print(i)"
      ],
      "execution_count": null,
      "outputs": []
    },
    {
      "cell_type": "code",
      "metadata": {
        "id": "v-O3d9ETs6IY"
      },
      "source": [
        "#tuples within a list\n",
        "cities_continents = [('Alexandria', 'Africa'),('Berlin', 'Europe')\\\n",
        "                     ,('New York', 'North America'),\\\n",
        "                     ('Mexico City', 'North America')]\n",
        "cities_continents"
      ],
      "execution_count": null,
      "outputs": []
    },
    {
      "cell_type": "markdown",
      "metadata": {
        "id": "QiBhvsY5s6IZ"
      },
      "source": [
        "**Excercise**"
      ]
    },
    {
      "cell_type": "code",
      "metadata": {
        "collapsed": true,
        "id": "_VUtEbSys6IZ"
      },
      "source": [
        "#what if we want to always print out the the city and its corresponding continent\n",
        "#there are several ways to do this\n"
      ],
      "execution_count": null,
      "outputs": []
    },
    {
      "cell_type": "code",
      "metadata": {
        "id": "fcrvs4gws6IZ"
      },
      "source": [
        "#answer"
      ],
      "execution_count": null,
      "outputs": []
    },
    {
      "cell_type": "markdown",
      "metadata": {
        "id": "hfEU5UT1p8Z5"
      },
      "source": [
        "**Indentation is important**"
      ]
    },
    {
      "cell_type": "code",
      "metadata": {
        "id": "GKMwRgcis6Ia"
      },
      "source": [
        "counter=0\n",
        "for i in range(10):\n",
        "    counter = counter + 1\n",
        "print (counter)"
      ],
      "execution_count": null,
      "outputs": []
    },
    {
      "cell_type": "markdown",
      "metadata": {
        "id": "1zonxdMIs6Ia"
      },
      "source": [
        "We set the value 0 to the variable counter<br/>\n",
        "we tell python for numbers in the range 10, keep adding 1 to each of them<br/>\n",
        "*important: we start with 0*\n",
        "\n",
        "\n",
        "|Iteration #|Calculation|Result|\n",
        "|-----------|:----------|:-----|\n",
        "|1| 0+1|=1|\n",
        "|2| 1+1|=2|\n",
        "|3| 2+1|=3|\n",
        "|4| 3+1|=4|\n",
        "|5| 4+1|=5|\n",
        "|6| 5+1|=6|\n",
        "|7| 6+1|=7|\n",
        "|8| 7+1|=8|\n",
        "|9| 8+1|=9|\n",
        "|10| 9+1|=10|"
      ]
    },
    {
      "cell_type": "code",
      "metadata": {
        "collapsed": true,
        "id": "tk9jxbcqs6Ia"
      },
      "source": [
        "\n"
      ],
      "execution_count": null,
      "outputs": []
    },
    {
      "cell_type": "markdown",
      "metadata": {
        "id": "j0A549tDs6Ib"
      },
      "source": [
        "**Continue and break statements in for-loops**\n",
        "\n",
        "- Use break when you want to escape the loop\n",
        "- Use continue to continue with the next iteration of the loop after a specified value"
      ]
    },
    {
      "cell_type": "code",
      "metadata": {
        "id": "7vITHgzms6Ib"
      },
      "source": [
        "greeting = \"Good-morning\"\n",
        "\n",
        "for l in greeting:\n",
        "    print(l)\n",
        "    if l ==\"m\":\n",
        "        break"
      ],
      "execution_count": null,
      "outputs": []
    },
    {
      "cell_type": "code",
      "metadata": {
        "id": "hCay3xvMs6Ib"
      },
      "source": [
        "word = \"Good-morning\"\n",
        "\n",
        "for letter in word:\n",
        "    if letter ==\"o\":\n",
        "        continue\n",
        "    print(letter)"
      ],
      "execution_count": null,
      "outputs": []
    },
    {
      "cell_type": "markdown",
      "metadata": {
        "collapsed": true,
        "id": "iX0DW8nes6Ib"
      },
      "source": [
        "## If-else-statements with loops - Conditional Statements\n",
        "\n"
      ]
    },
    {
      "cell_type": "markdown",
      "metadata": {
        "id": "zp7SgZeWs6Ic"
      },
      "source": [
        "### Lets start with simple cases"
      ]
    },
    {
      "cell_type": "code",
      "metadata": {
        "id": "BLsrr8COs6Ic"
      },
      "source": [
        "#if then loop\n",
        "\n",
        "for i in range(10): #for all numbers in the range from 0-9\n",
        "    if i < 5: # print the numbers that are less then 5\n",
        "        print (i)\n",
        "        \n",
        "    "
      ],
      "execution_count": null,
      "outputs": []
    },
    {
      "cell_type": "code",
      "metadata": {
        "collapsed": true,
        "id": "j-yl4DFKs6Ic"
      },
      "source": [
        "time_appointment = 13\n",
        "time_showup = 14\n",
        "\n",
        "\n",
        "if(time_showup > 13):\n",
        "    print(\"You are late!\")"
      ],
      "execution_count": null,
      "outputs": []
    },
    {
      "cell_type": "markdown",
      "metadata": {
        "id": "0cRvmPxOs6Ic"
      },
      "source": [
        "### If-else statements\n"
      ]
    },
    {
      "cell_type": "code",
      "metadata": {
        "id": "XMpdiBWws6Id"
      },
      "source": [
        "#indentation matters\n",
        "#check the structure\n",
        "\n",
        "for item in ['Python', 'is', 'really', 'useful', 'right?']:\n",
        "    if item.startswith('r'): # important function to note\n",
        "        print(item, '- starts with the letter r')\n",
        "    else:\n",
        "        print(item, '- doesnt start with the letter r')"
      ],
      "execution_count": null,
      "outputs": []
    },
    {
      "cell_type": "markdown",
      "metadata": {
        "id": "K6hnRoP2s6Id"
      },
      "source": [
        "What is going on in here?\n",
        "\n",
        "- For each item in the list\n",
        "- iIf the item starts with the letter r (use startswith() function)\n",
        "- Then print the item name and the sentence \"starts with letter r\"\n",
        "- ELSE: If the item doesnt start with the letter r - this is why we use else\n",
        "- Then print the item name and the sentence \"doesnt starts with letter r\""
      ]
    },
    {
      "cell_type": "markdown",
      "metadata": {
        "id": "cLlakrbNs6Id"
      },
      "source": [
        "### If-elif-else statement\n",
        "\n",
        "We check different conditions if they hold\n",
        "\n",
        "- check multiple expressions for TRUE \n",
        "- run code until one of the conditions becomes to TRUE\n",
        "- if no condition is found to be TRUE, else will be executed"
      ]
    },
    {
      "cell_type": "code",
      "metadata": {
        "id": "JCLlX9lIs6Id"
      },
      "source": [
        "luckynumber = 100\n",
        "\n",
        "if luckynumber == 200:\n",
        "    print (\"Nop\")\n",
        "elif luckynumber == 150:\n",
        "    print (\"Still no\")\n",
        "elif luckynumber == 100:\n",
        "    print (\"Yes thats it\")\n",
        "elif luckynumber == 90:\n",
        "    print (\"so close\")\n",
        "else:\n",
        "    print (\"You are not even close\")\n"
      ],
      "execution_count": null,
      "outputs": []
    },
    {
      "cell_type": "code",
      "metadata": {
        "id": "bfEn_Nd2s6Ie"
      },
      "source": [
        "if luckynumber == 200:\n",
        "    print (\"Nop\")\n",
        "elif luckynumber == 150:\n",
        "    print (\"Still no\")\n",
        "elif luckynumber == 90:\n",
        "    print (\"close\")\n",
        "elif luckynumber == 99:\n",
        "    print (\"so close\")\n",
        "else:\n",
        "    print (\"You dont know my lucky number\")"
      ],
      "execution_count": null,
      "outputs": []
    },
    {
      "cell_type": "markdown",
      "metadata": {
        "id": "4aJ-vm1Ds6If"
      },
      "source": [
        "## While statements in Python\n",
        "\n",
        "**Repeats a statement while a given condition is TRUE. **\n",
        "\n",
        "**Difference while and for loops**\n",
        "\n",
        "while loop - used for looping until a condition is satisfied and when we are unsure how many times the code should be running in the loop\n",
        "\n",
        "for loop - used for looping until a condition is satisfied but it is used when you know how many times the code needs to run in the loop"
      ]
    },
    {
      "cell_type": "code",
      "metadata": {
        "id": "lFMYz4OZs6If"
      },
      "source": [
        "count = 0\n",
        "while count < 5:\n",
        "    print(count)\n",
        "    count += 1  # This is a statement to update the counter, add 1 to count and put the result of that addition back into acount."
      ],
      "execution_count": null,
      "outputs": []
    },
    {
      "cell_type": "code",
      "metadata": {
        "id": "3E8WPseKs6If"
      },
      "source": [
        "#count = 0\n",
        "#while count < 5:\n",
        "   # print(count)\n",
        "      #indefinite loop"
      ],
      "execution_count": null,
      "outputs": []
    },
    {
      "cell_type": "code",
      "metadata": {
        "id": "VgyTmoPHs6Ig"
      },
      "source": [
        "#remove one by one\n",
        "a = ['a', 'b', 'c']\n",
        "while a:\n",
        "     print(a.pop(-1))"
      ],
      "execution_count": null,
      "outputs": []
    },
    {
      "cell_type": "code",
      "metadata": {
        "id": "L4ooVognwSbG"
      },
      "source": [
        "a"
      ],
      "execution_count": null,
      "outputs": []
    },
    {
      "cell_type": "code",
      "metadata": {
        "id": "Xn7nYh5Rs6Ig"
      },
      "source": [
        "n = 5\n",
        "while n > 0:\n",
        "    n -= 1 #Accummulator loop pattern a-=d same as a=a-d\n",
        "    if n == 2:\n",
        "        continue\n",
        "    print(n)\n",
        "print('End')"
      ],
      "execution_count": null,
      "outputs": []
    },
    {
      "cell_type": "markdown",
      "metadata": {
        "id": "DKC7115Ts6Ig"
      },
      "source": [
        "# Appending: Storing items in a list"
      ]
    },
    {
      "cell_type": "code",
      "metadata": {
        "id": "ASxw6VR-s6Ig"
      },
      "source": [
        "list1 = []\n",
        "for i in range(2, 4): # python will discard in that range the last number which is 4\n",
        "    list1.append(i*2)\n",
        "    \n",
        "list1"
      ],
      "execution_count": null,
      "outputs": []
    },
    {
      "cell_type": "code",
      "metadata": {
        "id": "V786o89Ns6Ih"
      },
      "source": [
        "#list of lists\n",
        "\n",
        "\n",
        "cities = [ ['Alexandria', 'Cairo', 'Suez', 'Ismalia',\"Africa\",4], \n",
        "             ['Berlin', 'Mannheim', 'Cologne', 'Munich',\"Europe\",4], \n",
        "             ['London', 'Oxford','Cambridge', 'Manchester',\"Europe\",5] ]\n",
        "\n",
        "european_list = []\n",
        "\"\"\"I want to save a new list that I will call european_list.\n",
        "Where if the nested list mentions Europe, I will extract the second city,\n",
        "which means my list will have Mannheim and Oxford in them.\n",
        "How can I do this?\n",
        "\"\"\"\n"
      ],
      "execution_count": null,
      "outputs": []
    },
    {
      "cell_type": "markdown",
      "metadata": {
        "id": "vSQleGHQs6Ih"
      },
      "source": [
        "# Small overview of list comprehension again - reviewing what we have learned\n",
        "list_variable = [x for x in iterable]\n",
        "\n"
      ]
    },
    {
      "cell_type": "code",
      "metadata": {
        "id": "LDf__f7cs6Ih"
      },
      "source": [
        "a = [x**2 for x in range(10)]\n",
        "b = [2*m for m in range(13)]\n",
        "c = [i for i in b if i== 12] #here we add a conditional statement\n",
        "print(a)\n",
        "print(b)\n",
        "print(c)\n",
        "list2 = [\"a\" for x in range(10)]\n",
        "print(list2)"
      ],
      "execution_count": null,
      "outputs": []
    },
    {
      "cell_type": "markdown",
      "metadata": {
        "id": "lhWsv2aEs6Ii"
      },
      "source": [
        "**Alternative to for loops**\n",
        "\n",
        "Lets say I want to create a list"
      ]
    },
    {
      "cell_type": "code",
      "metadata": {
        "id": "W_yA4wGls6Ii"
      },
      "source": [
        "randomrange=range(5)#[0,1,2,3,4]\n",
        "loopoption = []\n",
        "\n",
        "# Add values to `new_list`\n",
        "for x in randomrange:\n",
        "    if x/2==0:\n",
        "        loopoption.append(x+1)\n",
        "\n",
        "# Print `new_list`\n",
        "print(loopoption)"
      ],
      "execution_count": null,
      "outputs": []
    },
    {
      "cell_type": "code",
      "metadata": {
        "id": "gJYTxpBQs6Ii"
      },
      "source": [
        "comprehesionoption = [x+1 for x in randomrange if x/2==0]\n",
        "comprehesionoption"
      ],
      "execution_count": null,
      "outputs": []
    },
    {
      "cell_type": "markdown",
      "metadata": {
        "id": "iXZfyQdcs6Ii"
      },
      "source": [
        "From earlier"
      ]
    },
    {
      "cell_type": "code",
      "metadata": {
        "collapsed": true,
        "id": "lB-s3_YEs6Ij"
      },
      "source": [
        "random = 'Today is a sunny day, I need some Vitamin D'\n"
      ],
      "execution_count": null,
      "outputs": []
    },
    {
      "cell_type": "code",
      "metadata": {
        "id": "03XIKTGbs6Ij"
      },
      "source": [
        "random_lower = [x.lower() for x in random.split()] #What does split do here?\n",
        "random_lower"
      ],
      "execution_count": null,
      "outputs": []
    },
    {
      "cell_type": "code",
      "metadata": {
        "collapsed": true,
        "id": "lzlAxQsYs6Ij"
      },
      "source": [
        "#What does split do?\n",
        "random_lower = [x.lower() for x in random] "
      ],
      "execution_count": null,
      "outputs": []
    },
    {
      "cell_type": "markdown",
      "metadata": {
        "id": "XorNJsshs6Ij"
      },
      "source": [
        "# Functions\n",
        "\n",
        "Why do we need functions?\n",
        "\n",
        "- Lets say I have 100 different datasets that have different column names.\n",
        "- I want uniform column names to all of them to be able to merge them\n",
        "- I can rename the variables of each of the 100 datasets by writing 100 lines of code\n",
        "- *OR I can write one function that takes the names of the different datasets in and does the work for me*\n",
        "\n",
        "How do we use functions\n",
        "\n",
        "- A function starts with the def command\n",
        "- return ends the function and prints out the results"
      ]
    },
    {
      "cell_type": "code",
      "metadata": {
        "collapsed": true,
        "id": "VbmaCXVYs6Ij"
      },
      "source": [
        "def anything(x):\n",
        "    result = x**1 + 100\n",
        "    return (result) # ends the "
      ],
      "execution_count": null,
      "outputs": []
    },
    {
      "cell_type": "markdown",
      "metadata": {
        "id": "li3r1lfJs6Ik"
      },
      "source": [
        "to call a function"
      ]
    },
    {
      "cell_type": "code",
      "metadata": {
        "id": "p5eR-9n2s6Ik"
      },
      "source": [
        "anything(5)"
      ],
      "execution_count": null,
      "outputs": []
    },
    {
      "cell_type": "markdown",
      "metadata": {
        "id": "YJfC0cSbyo-I"
      },
      "source": [
        "Using functions and appending lists"
      ]
    },
    {
      "cell_type": "code",
      "metadata": {
        "collapsed": true,
        "id": "hNiCIojzs6Ik"
      },
      "source": [
        "def y(x):\n",
        "    result=pow(2,x)/2 #The pow() function returns the value of x to the power of y\n",
        "    return (result)\n",
        "\n"
      ],
      "execution_count": null,
      "outputs": []
    },
    {
      "cell_type": "code",
      "metadata": {
        "collapsed": true,
        "id": "qBWcfSzds6Ik"
      },
      "source": [
        "#Appending lists\n",
        "xvalues=[]\n",
        "yvalues=[]\n",
        "for x in range(0,10): \n",
        "    xvalues.append(x)\n",
        "    yvalues.append(y(x))"
      ],
      "execution_count": null,
      "outputs": []
    },
    {
      "cell_type": "code",
      "metadata": {
        "id": "fMUDaQgAs6Il"
      },
      "source": [
        "xvalues"
      ],
      "execution_count": null,
      "outputs": []
    },
    {
      "cell_type": "code",
      "metadata": {
        "id": "mZFHTv9Vs6Il"
      },
      "source": [
        "yvalues"
      ],
      "execution_count": null,
      "outputs": []
    },
    {
      "cell_type": "code",
      "metadata": {
        "collapsed": true,
        "id": "NqQn-QwXs6Il"
      },
      "source": [
        ""
      ],
      "execution_count": null,
      "outputs": []
    },
    {
      "cell_type": "code",
      "metadata": {
        "collapsed": true,
        "id": "oUWIvXjUs6Il"
      },
      "source": [
        ""
      ],
      "execution_count": null,
      "outputs": []
    },
    {
      "cell_type": "markdown",
      "metadata": {
        "id": "yKyVPsads6I9"
      },
      "source": [
        "# Excercises"
      ]
    },
    {
      "cell_type": "markdown",
      "metadata": {
        "id": "AHx6he-plbBm"
      },
      "source": [
        "**Excercise 1**\n",
        "\n",
        "Focusing on manipulating lists!\n",
        "\n",
        "1. count how many times bananas occur\n",
        "2. save last item in the list in the variable \"oneitem\"\n",
        "3. save the third item in the list in the variable \"thirditem\"\n",
        "4. return the items from the beginning to \"chocolate\"\n",
        "5. add a new element to the list called \"beef\"\n",
        "6. remove first element of list, uses pop function\n",
        "7. Insert \"grapes\" instead of oranges\n",
        "8. sort this list in ascending numbers, numbers=[1,9,8,5,2,7]\n",
        "Make sure you dont overwrite the original list (by creating new lists)"
      ]
    },
    {
      "cell_type": "code",
      "metadata": {
        "id": "O1GzZHxV0D2c"
      },
      "source": [
        "food=[\"apples\",\"oranges\",\"bananas\",\"chocolate\",\"strawberries\",\"bananas\"]\n"
      ],
      "execution_count": null,
      "outputs": []
    },
    {
      "cell_type": "markdown",
      "metadata": {
        "id": "uAZh6NSSlbG6"
      },
      "source": [
        "**Excercise 2**\n",
        "\n",
        "Add space between every letter of the string below"
      ]
    },
    {
      "cell_type": "code",
      "metadata": {
        "id": "VvPbKxjalbLA"
      },
      "source": [
        "string4=\"Test String\"\n"
      ],
      "execution_count": null,
      "outputs": []
    },
    {
      "cell_type": "markdown",
      "metadata": {
        "id": "bvD4LNyClbPe"
      },
      "source": [
        "**Excercise 3**\n",
        "\n",
        "Dictionaries\n",
        "\n",
        "1. print all keys in the dictionary below\n",
        "2. print all values in the dictionary below"
      ]
    },
    {
      "cell_type": "code",
      "metadata": {
        "id": "0ZVsO2wflbXD"
      },
      "source": [
        "phd_dictionary={\"teaching\": 2,\"dissertation\":10,\"coffee\":20}"
      ],
      "execution_count": null,
      "outputs": []
    },
    {
      "cell_type": "markdown",
      "metadata": {
        "id": "6BATThvDlbbn"
      },
      "source": [
        "**Excercise 4**\n",
        "\n",
        "List comprehension: <br>\n",
        "1. Split the sentece below, into list items\n",
        "2. Lowercase all words\n",
        "2. Count the number of charcters for every word in the list, excluding the word \"the\"\n",
        "\n",
        "Use list comprehesion to perform 2 and 3"
      ]
    },
    {
      "cell_type": "code",
      "metadata": {
        "id": "oOeJ2mBAlbfX"
      },
      "source": [
        "sentence = \"The hand sanitizer was actually clear glue.\"\n"
      ],
      "execution_count": null,
      "outputs": []
    },
    {
      "cell_type": "markdown",
      "metadata": {
        "id": "N3-ra1nolbtr"
      },
      "source": [
        "**Excercise 5**\n",
        "\n",
        "1. Please find the numbers that are common from list1 and list2 using list comprehesion. There are several ways to solve this. Hint: remember boolean operations, and check the usage of if in list comprehensions\n",
        "2. Please fine the numbers that are common from list1 and list2 using intersection. Hint: Think how sets can come handy here"
      ]
    },
    {
      "cell_type": "code",
      "metadata": {
        "id": "fIbpeaeXlbzh"
      },
      "source": [
        "list_a = [1, 2, 3, 4]\n",
        "list_b = [2, 3, 4, 5]\n"
      ],
      "execution_count": null,
      "outputs": []
    },
    {
      "cell_type": "markdown",
      "metadata": {
        "id": "sE7SqzTSs6I9"
      },
      "source": [
        "**Excercise 6**\n",
        "\n",
        "print the items in the list below in reverse one by one. <br/>\n",
        "Outcome should look like: <br/>\n",
        "10<br/>\n",
        "7<br/>\n",
        "3<br/>\n",
        "2<br/>\n",
        "1<br/>\n",
        "800<br/>\n",
        "100<br/>\n",
        "66<br/>"
      ]
    },
    {
      "cell_type": "code",
      "metadata": {
        "collapsed": true,
        "id": "aApDAUM3s6I-"
      },
      "source": [
        "a_random_list = [66,100,800,1,2,3,7,10]\n"
      ],
      "execution_count": null,
      "outputs": []
    },
    {
      "cell_type": "markdown",
      "metadata": {
        "id": "wcOIEo3Ts6I-"
      },
      "source": [
        "**Excercise 7**\n",
        "\n",
        "1. Requests the name of the user\n",
        "2. Ask users how many carbs they have eaten today \n",
        "3. Print a message saying that they have eaten too much carbs, if they ate over 2000, if they didnt print \"youre good\""
      ]
    },
    {
      "cell_type": "markdown",
      "metadata": {
        "id": "itzOYISDs6I-"
      },
      "source": [
        "**Excercise 8**\n",
        "\n",
        "- Define a varibale x to take a number as *input*, you will ask the user to enter any number. Tip:  you will need to understand and use the eval() function, why is it important here?\n",
        "- Store in a list called \"todolist\", x (the number you have chose) items one at a time that the user has to do today. You do that by using the input function. So to say if the x variable is 2, users should be asked twice. Hint: To do that you need a for loop.\n",
        "- Print the todolist"
      ]
    },
    {
      "cell_type": "markdown",
      "metadata": {
        "id": "jRVpIWcYs6I-"
      },
      "source": [
        "**Excercise 9**\n",
        "\n",
        "Use a loop over the number and letter lists below.  Think about how to write code that will produce the output below. Hint: you need two loops\n",
        "\n",
        "1 <br>\n",
        "a <br>\n",
        "b<br>\n",
        "c<br>\n",
        "2<br>\n",
        "a<br>\n",
        "b<br>\n",
        "c<br>\n",
        "3<br>\n",
        "a<br>\n",
        "b<br>\n",
        "c<br>"
      ]
    },
    {
      "cell_type": "code",
      "metadata": {
        "collapsed": true,
        "id": "M7P6igEXs6I_"
      },
      "source": [
        "numbers = [1, 2, 3]\n",
        "letters = ['a', 'b', 'c']"
      ],
      "execution_count": null,
      "outputs": []
    },
    {
      "cell_type": "markdown",
      "metadata": {
        "id": "yQyP6IJPs6I_"
      },
      "source": [
        "**Excercise 10**\n",
        "\n",
        "- Define a function that returns absolute values. This function will use if and else statetemts so that it always returns the absolute value even if the inputted number is negative.\n",
        "- Try this function out, once with the numbers -222 and 100\n"
      ]
    },
    {
      "cell_type": "markdown",
      "metadata": {
        "id": "fV3D9o55s6I_"
      },
      "source": [
        "**Excersise 11**\n",
        "\n",
        "Looping over dictionaries\n",
        "\n",
        "1. Create a dictionary with keys that have names of states in the US and the values are their capital\n",
        "2. Print the keys of the dictionar\n",
        "3. Print the values of the dictionary\n"
      ]
    },
    {
      "cell_type": "markdown",
      "metadata": {
        "id": "tHheNao1s6I_"
      },
      "source": [
        "**Excercise 12**\n",
        "\n",
        "Looping and indexing. \n",
        "\n",
        "Print each letter in the word \"awesome\". Do that by using a for loop. \n",
        "\n",
        "Hint: Check out the range function."
      ]
    },
    {
      "cell_type": "code",
      "metadata": {
        "collapsed": true,
        "id": "ycIHy5QNs6JA"
      },
      "source": [
        "word= (\"awesome\")\n",
        "\n"
      ],
      "execution_count": null,
      "outputs": []
    },
    {
      "cell_type": "code",
      "metadata": {
        "collapsed": true,
        "id": "N3BfDqkMs6JA"
      },
      "source": [
        ""
      ],
      "execution_count": null,
      "outputs": []
    },
    {
      "cell_type": "code",
      "metadata": {
        "collapsed": true,
        "id": "sOIZNZf3s6JB"
      },
      "source": [
        ""
      ],
      "execution_count": null,
      "outputs": []
    },
    {
      "cell_type": "code",
      "metadata": {
        "collapsed": true,
        "id": "egwIOolKs6JB"
      },
      "source": [
        ""
      ],
      "execution_count": null,
      "outputs": []
    },
    {
      "cell_type": "code",
      "metadata": {
        "collapsed": true,
        "id": "t6E9nt2Ns6JB"
      },
      "source": [
        ""
      ],
      "execution_count": null,
      "outputs": []
    },
    {
      "cell_type": "code",
      "metadata": {
        "collapsed": true,
        "id": "VGU_vJ4Bs6JB"
      },
      "source": [
        ""
      ],
      "execution_count": null,
      "outputs": []
    },
    {
      "cell_type": "code",
      "metadata": {
        "collapsed": true,
        "id": "DbjUHrgFs6JB"
      },
      "source": [
        " "
      ],
      "execution_count": null,
      "outputs": []
    },
    {
      "cell_type": "code",
      "metadata": {
        "collapsed": true,
        "id": "OfK73Nkls6JB"
      },
      "source": [
        ""
      ],
      "execution_count": null,
      "outputs": []
    },
    {
      "cell_type": "code",
      "metadata": {
        "collapsed": true,
        "id": "hFk0EjvTs6JB"
      },
      "source": [
        ""
      ],
      "execution_count": null,
      "outputs": []
    },
    {
      "cell_type": "code",
      "metadata": {
        "collapsed": true,
        "id": "_KowaWe6s6JC"
      },
      "source": [
        ""
      ],
      "execution_count": null,
      "outputs": []
    }
  ]
}