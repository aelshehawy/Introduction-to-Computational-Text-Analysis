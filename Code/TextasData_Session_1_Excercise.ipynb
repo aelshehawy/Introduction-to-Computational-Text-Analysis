{
  "nbformat": 4,
  "nbformat_minor": 0,
  "metadata": {
    "colab": {
      "name": "TextasData_Session 1_Excercise.ipynb",
      "provenance": [],
      "authorship_tag": "ABX9TyPRMjcrXb6q9M0vh+pTdq0f",
      "include_colab_link": true
    },
    "kernelspec": {
      "name": "python3",
      "display_name": "Python 3"
    },
    "language_info": {
      "name": "python"
    }
  },
  "cells": [
    {
      "cell_type": "markdown",
      "metadata": {
        "id": "view-in-github",
        "colab_type": "text"
      },
      "source": [
        "<a href=\"https://colab.research.google.com/github/aelshehawy/text-as-data-computational-text-analysis-oxford/blob/main/TextasData_Session_1_Excercise.ipynb\" target=\"_parent\"><img src=\"https://colab.research.google.com/assets/colab-badge.svg\" alt=\"Open In Colab\"/></a>"
      ]
    },
    {
      "cell_type": "markdown",
      "metadata": {
        "id": "brU2z1Qv7ARl"
      },
      "source": [
        "# **Session 1 Excercises**"
      ]
    },
    {
      "cell_type": "markdown",
      "metadata": {
        "id": "JoyaBEHi6jeu"
      },
      "source": [
        "# *Excercise 1*\n",
        " New Section\n",
        "The aim is to try out different modes while opening files\n",
        "\n",
        "open/create a file called \"mytext.txt\"\n",
        "make sure to find out what the writing mode is\n",
        "write this sentence in mytext.txt = \"what a beautiful day outside, I wish I was not writing code\"\n",
        "make sure to close file\n",
        "\n",
        "Another question that you should answer using markdown in a new cell. What does the mode r+ do when opening files?\n",
        "\n"
      ]
    },
    {
      "cell_type": "markdown",
      "metadata": {
        "id": "WE_iYEFS6upm"
      },
      "source": [
        "# *Excercise 2*\n",
        "\n",
        "Martin Luther Kings Jr. Speech - I have a dream - We have worked with it already in the first session\n",
        "\n",
        "Open ihaveadream.txt, read the file in\n",
        "Split in sentences\n",
        "Split in words\n",
        "Remove punctuation\n",
        "Remove numbers\n",
        "count the frequency of each word\n",
        "count the number of sentences\n",
        "count the total number of words\n",
        "\n",
        "**how would you try to investigate what's interesting in this speech? how would you start?**"
      ]
    },
    {
      "cell_type": "markdown",
      "metadata": {
        "id": "uYqz2pT973MO"
      },
      "source": [
        "# *Excercise 3*\n",
        "\n",
        "1) Open file (sputnikgerman1). <br>\n",
        "2) Remove any line breaks \\n<br>\n",
        "3) Get rid of punctuation <br>\n",
        "- a. explore the library string and get rid of punctuation using it <br>\n",
        "- b. get rid of punctuation using a function<br>\n",
        "\n",
        "4)  Use the tab charchter (\\t) that remains in the text to split different items of the text in a list. Once you do that you will see that you have different items of the text in a list 1) link 2) link 3) date 4) title etc.\n",
        "\n",
        "5) We see now a date in our list is the 3rd item, please remove the month and the day and only leave the year"
      ]
    }
  ]
}
