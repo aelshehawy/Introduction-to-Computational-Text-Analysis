{
  "nbformat": 4,
  "nbformat_minor": 0,
  "metadata": {
    "colab": {
      "name": "TextasData_Session2_Excercise.ipynb",
      "provenance": [],
      "authorship_tag": "ABX9TyPF5Z9KHznyvtanw5pVWHEZ",
      "include_colab_link": true
    },
    "kernelspec": {
      "name": "python3",
      "display_name": "Python 3"
    },
    "language_info": {
      "name": "python"
    }
  },
  "cells": [
    {
      "cell_type": "markdown",
      "metadata": {
        "id": "view-in-github",
        "colab_type": "text"
      },
      "source": [
        "<a href=\"https://colab.research.google.com/github/aelshehawy/text-as-data-computational-text-analysis-oxford/blob/main/Code/TextasData_Session2_Excercise.ipynb\" target=\"_parent\"><img src=\"https://colab.research.google.com/assets/colab-badge.svg\" alt=\"Open In Colab\"/></a>"
      ]
    },
    {
      "cell_type": "markdown",
      "metadata": {
        "id": "ir8j9y9uVvRR"
      },
      "source": [
        "# Session 2 Excercises"
      ]
    },
    {
      "cell_type": "markdown",
      "metadata": {
        "id": "7-WneyhOCrlz"
      },
      "source": [
        "# **Excercises**"
      ]
    },
    {
      "cell_type": "markdown",
      "metadata": {
        "id": "zMcHkvG8CvQ2"
      },
      "source": [
        "## Excercise 1 - Create 3 different cleaning pipelines on Data Day 1 files\n",
        "\n",
        "**Only use files that have text in their name**\n",
        "\n",
        "\n",
        "1.   using no stemming and lemmatization\n",
        "2.   using a stemmer\n",
        "3.   using a lemmatizer\n",
        "\n",
        "Experiment with the order of the pre-processing steps - report how each step gets different "
      ]
    },
    {
      "cell_type": "markdown",
      "metadata": {
        "id": "Y2L0eyN_DtyW"
      },
      "source": [
        "## Excercise 2 - Count number of topics\n",
        "\n",
        "Open the rt_dataset_small.tsv count the number of times each topic appears in the dataset\n",
        "\n",
        "*Hint: Check dataset structure and use indexing to extract topics. You can use a loop or list comprehension"
      ]
    },
    {
      "cell_type": "code",
      "metadata": {
        "id": "LQa-PmrdDt8o"
      },
      "source": [
        ""
      ],
      "execution_count": null,
      "outputs": []
    },
    {
      "cell_type": "markdown",
      "metadata": {
        "id": "jr27WWGOsXuY"
      },
      "source": [
        "## Excercise 3 - Counting and creating new variables\n",
        "\n",
        "This data set is about congressional sanctions. Each document of the congress that issues sanctions has a different id, saved in the column id-snippet\n",
        "\n",
        "1. Load data - sascat_excerpt.tsv in a pandas dataframe\n",
        "2. Rename the last variable = content\n",
        "3. get the averages a) of the number of words, b) number of sentences\n",
        "3. keep only these columns id-snippet and content\n",
        "5. count number of words in content column, create a new column and paste the total count there\n",
        "6. Save in a new column called cleantext - the content (column content) after you preprocess it with a fucntion in **one step** - you can choose any pre-processing steps you see necessary\n",
        "7. export data as tsv\n",
        "\n",
        "*Hint - you can use pandas\n"
      ]
    },
    {
      "cell_type": "code",
      "metadata": {
        "collapsed": true,
        "id": "MsATYZhTCvQ3"
      },
      "source": [
        ""
      ],
      "execution_count": null,
      "outputs": []
    },
    {
      "cell_type": "markdown",
      "metadata": {
        "id": "Xyc0DWO2CvQ3"
      },
      "source": [
        "## Excercise 4 - NER\n",
        "\n",
        "\n",
        "**Extract** the most popular 30 NERs (not entities!) from the entire corpus of the rt_dataset_small.tsv\n",
        "\n",
        "- Only check the text/content of articles in the dataset\n",
        "- Focus only on articles that include Trump and Hillary within the same article\n",
        "- Choose appropriate text-preprocessing steps\n",
        "- USE NER to extract the\n",
        "\n",
        "\n",
        "\n",
        "\n"
      ]
    },
    {
      "cell_type": "code",
      "metadata": {
        "colab": {
          "base_uri": "https://localhost:8080/"
        },
        "id": "Dsk3N9lVSlAP",
        "outputId": "eb54260a-a0fd-4a8d-ab9c-2d1db3f37df2"
      },
      "source": [
        "import codecs, nltk\n",
        "nltk.download('punkt')\n",
        "nltk.download('averaged_perceptron_tagger')\n",
        "nltk.download('maxent_ne_chunker')\n",
        "nltk.download('words')"
      ],
      "execution_count": null,
      "outputs": [
        {
          "output_type": "stream",
          "text": [
            "[nltk_data] Downloading package punkt to /root/nltk_data...\n",
            "[nltk_data]   Package punkt is already up-to-date!\n",
            "[nltk_data] Downloading package averaged_perceptron_tagger to\n",
            "[nltk_data]     /root/nltk_data...\n",
            "[nltk_data]   Package averaged_perceptron_tagger is already up-to-\n",
            "[nltk_data]       date!\n",
            "[nltk_data] Downloading package maxent_ne_chunker to\n",
            "[nltk_data]     /root/nltk_data...\n",
            "[nltk_data]   Package maxent_ne_chunker is already up-to-date!\n",
            "[nltk_data] Downloading package words to /root/nltk_data...\n",
            "[nltk_data]   Unzipping corpora/words.zip.\n"
          ],
          "name": "stdout"
        },
        {
          "output_type": "execute_result",
          "data": {
            "text/plain": [
              "True"
            ]
          },
          "metadata": {
            "tags": []
          },
          "execution_count": 9
        }
      ]
    },
    {
      "cell_type": "code",
      "metadata": {
        "id": "lUQcMGDAMbyv"
      },
      "source": [
        ""
      ],
      "execution_count": null,
      "outputs": []
    }
  ]
}