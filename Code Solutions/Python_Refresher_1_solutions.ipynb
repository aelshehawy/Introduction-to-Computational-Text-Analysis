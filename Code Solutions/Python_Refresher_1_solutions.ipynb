{
  "nbformat": 4,
  "nbformat_minor": 0,
  "metadata": {
    "kernelspec": {
      "display_name": "Python 3",
      "language": "python",
      "name": "python3"
    },
    "language_info": {
      "codemirror_mode": {
        "name": "ipython",
        "version": 3
      },
      "file_extension": ".py",
      "mimetype": "text/x-python",
      "name": "python",
      "nbconvert_exporter": "python",
      "pygments_lexer": "ipython3",
      "version": "3.8.5"
    },
    "colab": {
      "name": "Python_Refresher_1_solutions.ipynb",
      "provenance": [],
      "collapsed_sections": [],
      "include_colab_link": true
    }
  },
  "cells": [
    {
      "cell_type": "markdown",
      "metadata": {
        "id": "view-in-github",
        "colab_type": "text"
      },
      "source": [
        "<a href=\"https://colab.research.google.com/github/aelshehawy/text-as-data-computational-text-analysis-oxford/blob/main/Code%20Solutions/Python_Refresher_1_solutions.ipynb\" target=\"_parent\"><img src=\"https://colab.research.google.com/assets/colab-badge.svg\" alt=\"Open In Colab\"/></a>"
      ]
    },
    {
      "cell_type": "markdown",
      "metadata": {
        "id": "8e14z17Vqrbk"
      },
      "source": [
        "# **Welcome to Python Refresher Session 1**\n",
        "\n",
        "\n",
        "\n",
        "\n",
        "\n",
        "\n",
        "\n",
        "\n",
        "\n",
        "\n",
        "\n",
        "\n",
        "\n"
      ]
    },
    {
      "cell_type": "code",
      "metadata": {
        "colab": {
          "base_uri": "https://localhost:8080/",
          "height": 501
        },
        "id": "xXsBQz3lJcY_",
        "outputId": "fb36364b-41b1-4559-aa86-c6688cbd67e2"
      },
      "source": [
        "from IPython.display import Image\n",
        "Image(url='https://media.giphy.com/media/gkQQqnFR1hhhuYPQHh/giphy.gif')\n"
      ],
      "execution_count": null,
      "outputs": [
        {
          "output_type": "execute_result",
          "data": {
            "text/html": [
              "<img src=\"https://media.giphy.com/media/gkQQqnFR1hhhuYPQHh/giphy.gif\"/>"
            ],
            "text/plain": [
              "<IPython.core.display.Image object>"
            ]
          },
          "metadata": {
            "tags": []
          },
          "execution_count": 113
        }
      ]
    },
    {
      "cell_type": "markdown",
      "metadata": {
        "id": "NFOya9HEKCbY"
      },
      "source": [
        "## Let's get to know each other!"
      ]
    },
    {
      "cell_type": "markdown",
      "metadata": {
        "id": "Cmiz4pMAKSdu"
      },
      "source": [
        "## **Organizational**"
      ]
    },
    {
      "cell_type": "markdown",
      "metadata": {
        "id": "WBJ-rriFqrbs"
      },
      "source": [
        "## Microsoft Teams - Mainly for Communication"
      ]
    },
    {
      "cell_type": "markdown",
      "metadata": {
        "id": "lEajw-Pfqrbt"
      },
      "source": [
        "- general: admin, general news, class links, general questions\n",
        "- windows-Support channel for all windows related issues, we are going to try to solve them together through group effort\n",
        "- debugging_code: All excercise and python related questions\n",
        "- relevant literature: posting any literature we find highly relevant and interesting\n",
        "- office hours: office hours links and sign up sheet\n"
      ]
    },
    {
      "cell_type": "markdown",
      "metadata": {
        "id": "rTzYMYslqrbv"
      },
      "source": [
        "## Github\n",
        "\n",
        "**Why use GitHub?**\n",
        "\n",
        "- Open Source\n",
        "- Have your code reviewed by the community\n",
        "- Give your projects visibility\n",
        "- Collaborate and track changes for your code visibly\n",
        "- Newsfeed with latest updates - You can  see what changes have been made in any other repositories you follow. \n",
        "- Explore repositories -  On the right of your dashboard, you can locate suggested repositories to follow — these suggestions are based on repositories you have followed or starrted."
      ]
    },
    {
      "cell_type": "markdown",
      "metadata": {
        "id": "SBrwX_Cqqrbw"
      },
      "source": [
        "**How do we use Github?**\n",
        "\n",
        "- Fork a rep: Create a new project based on a project that already exists - you can fork our repository https://github.com/aelshehawy/text-as-data-computational-text-analysis-oxford to have a copy in your profile that you can edit  <br>\n",
        "Use fork to work on new features and submit pull requests containing your new changes to the original repository.\n",
        "- Pull Request:  Authors of the original repository can see your work & choose if they want to accept it to the official project.\n",
        "- Star: Bookmark repository\n",
        "- Desktop version is really nice, you can work on your computer, have a local copy of repositories and fetch updates "
      ]
    },
    {
      "cell_type": "markdown",
      "metadata": {
        "id": "AsNVbtEjqrbw"
      },
      "source": [
        "**Use GitHub to pull data for the class**\n",
        "\n",
        "My recommendation would be to open Colab sheets from Github and save your edits in your Drive.\n",
        "\n",
        "You can also download the whole repository with one click: https://github.com/aelshehawy/text-as-data-computational-text-analysis-oxford\n",
        "\n",
        "\n",
        "**You could also use GitHub Desktop:**<br> \n",
        "if you have forked our class's repository, then clone my repository on your computer and keep fetching changes.\n",
        "\n",
        "**Just explore and play with GitHub whe you have time**"
      ]
    },
    {
      "cell_type": "markdown",
      "metadata": {
        "id": "DWj_K5852UEV"
      },
      "source": [
        "## Google Colab Sheets\n",
        "\n",
        "- Can be used with browsers like Chrome of Firefox\n",
        "- Saves installation time and effort. Easily use available libraries.\n",
        "- All your notebooks can be saved directly in your Google Drive\n",
        "- Excellent for collaborations!\n",
        "- Check this link for more information https://colab.research.google.com/notebooks/basic_features_overview.ipynb"
      ]
    },
    {
      "cell_type": "markdown",
      "metadata": {
        "id": "O2u-LakX4UaF"
      },
      "source": [
        "\n",
        "### So how does it work?\n",
        "\n",
        "1. To create a new cell you click +\n",
        "2. To run a cell you need to press the play button\n",
        "3. You can create cells where you write text by clicking on the +Text button. Here is a cheat sheet [link](https://github.com/adam-p/markdown-here/wiki/Markdown-Cheatsheet) for markdown, probably you have already used it in R. \n",
        "4. If you need to clear everything that is saved in a python notebook (remove saved variables/data etc.). You can click on Edit and choose **clear all output**\n",
        "6. Save notebooks on your Google Drive - Don't forget!\n",
        "7. Useful Shortcuts under Tools: Example: Control m m will convert a code cell to a text cell. Control m y will convert a text cell to a code cell."
      ]
    },
    {
      "cell_type": "markdown",
      "metadata": {
        "id": "8bsOPxDyqrbx"
      },
      "source": [
        "## **What are we learning in this coding session today**\n",
        "\n",
        "Mainly: Basic Operations of Python\n",
        "\n",
        "* Python Interactive Shell: Print Function\n",
        "* Assigning Variables and Values\n",
        "* Understanding Different Types of Objects in Python\n",
        "* Mathematical Operations\n",
        "* Boolean Operations\n",
        "* Transformation of Objects\n",
        "* Input function \n",
        "* Combining Objects\n",
        "* Understanding Python Strings"
      ]
    },
    {
      "cell_type": "markdown",
      "metadata": {
        "id": "LHCOSpkdqrbx"
      },
      "source": [
        "## Python Interactive Shell"
      ]
    },
    {
      "cell_type": "markdown",
      "metadata": {
        "id": "EzW7La6mqrby"
      },
      "source": [
        "### The print function\n",
        "Here you can use print() built in function for python to print strings, intergers etc. <br>\n",
        "To print a string you need to wrap it in \" \""
      ]
    },
    {
      "cell_type": "code",
      "metadata": {
        "id": "bc1gYoBGqrby",
        "colab": {
          "base_uri": "https://localhost:8080/"
        },
        "outputId": "1293477c-14b2-4e8b-bb84-36fe98d21403"
      },
      "source": [
        "print(\"Welcome to Text Analysis Class\") #we use single or double quotation marks"
      ],
      "execution_count": null,
      "outputs": [
        {
          "output_type": "stream",
          "text": [
            "Welcome to Text Analysis Class\n"
          ],
          "name": "stdout"
        }
      ]
    },
    {
      "cell_type": "code",
      "metadata": {
        "collapsed": true,
        "id": "3LqWjpy9qrbz",
        "colab": {
          "base_uri": "https://localhost:8080/",
          "height": 130
        },
        "outputId": "554a45f2-d6b5-4e4e-9303-1baf0c59fd46"
      },
      "source": [
        " #why do we have an error\n",
        " print(\"Welcome)"
      ],
      "execution_count": null,
      "outputs": [
        {
          "output_type": "error",
          "ename": "SyntaxError",
          "evalue": "ignored",
          "traceback": [
            "\u001b[0;36m  File \u001b[0;32m\"<ipython-input-5-7c14febd5253>\"\u001b[0;36m, line \u001b[0;32m2\u001b[0m\n\u001b[0;31m    print(\"Welcome)\u001b[0m\n\u001b[0m                   ^\u001b[0m\n\u001b[0;31mSyntaxError\u001b[0m\u001b[0;31m:\u001b[0m EOL while scanning string literal\n"
          ]
        }
      ]
    },
    {
      "cell_type": "code",
      "metadata": {
        "id": "1ciGZla0qrb0",
        "colab": {
          "base_uri": "https://localhost:8080/"
        },
        "outputId": "14260c1e-f1f8-4a34-8150-08f7fa6aa1a1"
      },
      "source": [
        "#print strings\n",
        "print(\"Using this you can print strings\")"
      ],
      "execution_count": null,
      "outputs": [
        {
          "output_type": "stream",
          "text": [
            "Using this you can print strings\n"
          ],
          "name": "stdout"
        }
      ]
    },
    {
      "cell_type": "code",
      "metadata": {
        "id": "e8okzAoTqrb0",
        "colab": {
          "base_uri": "https://localhost:8080/"
        },
        "outputId": "9dd12ad8-5364-4cbd-d7bb-15f8209741aa"
      },
      "source": [
        "#print numbers\n",
        "print(5)"
      ],
      "execution_count": null,
      "outputs": [
        {
          "output_type": "stream",
          "text": [
            "5\n"
          ],
          "name": "stdout"
        }
      ]
    },
    {
      "cell_type": "code",
      "metadata": {
        "id": "N4u1mKuKqrb1",
        "colab": {
          "base_uri": "https://localhost:8080/"
        },
        "outputId": "749d8383-d8b2-42ee-a44f-adec6c7a7c7f"
      },
      "source": [
        "# you can print intergers and strings together like this - seperate with a comma\n",
        "print(5,\"you can print also the digit 5 and combine it with a description\")"
      ],
      "execution_count": null,
      "outputs": [
        {
          "output_type": "stream",
          "text": [
            "5 you can print also the digit 5 and combine it with a description\n"
          ],
          "name": "stdout"
        }
      ]
    },
    {
      "cell_type": "code",
      "metadata": {
        "collapsed": true,
        "id": "QZryuiKDqrb1"
      },
      "source": [
        "# using the hashtag to comment out lines or comment your code\n",
        "#print(5*7,\"you can print also the digits 35 and combine them with a description\")"
      ],
      "execution_count": null,
      "outputs": []
    },
    {
      "cell_type": "markdown",
      "metadata": {
        "id": "gZPgOCcQqrb1"
      },
      "source": [
        "### Assign variable values\n",
        "here we save a value inside of a variable - exactly as we do with other statistical programmes like R and Stata"
      ]
    },
    {
      "cell_type": "code",
      "metadata": {
        "collapsed": true,
        "id": "9U8Ub0sFqrb2"
      },
      "source": [
        "#assign string\n",
        "welcome=\"Welcome to Text Analysis Class\""
      ],
      "execution_count": null,
      "outputs": []
    },
    {
      "cell_type": "markdown",
      "metadata": {
        "id": "-W-CoifIqrb2"
      },
      "source": [
        "as we saved the string within the variable welcome, we can use python's built in function print() to see what we have saved"
      ]
    },
    {
      "cell_type": "code",
      "metadata": {
        "id": "6tYVWwcbqrb2",
        "colab": {
          "base_uri": "https://localhost:8080/"
        },
        "outputId": "9f67594b-3b28-4a7a-98f6-8568f0a122a3"
      },
      "source": [
        "#print assigned string\n",
        "print (welcome)"
      ],
      "execution_count": null,
      "outputs": [
        {
          "output_type": "stream",
          "text": [
            "Welcome to Text Analysis Class\n"
          ],
          "name": "stdout"
        }
      ]
    },
    {
      "cell_type": "code",
      "metadata": {
        "id": "KsJRBhY_qrb3",
        "colab": {
          "base_uri": "https://localhost:8080/",
          "height": 35
        },
        "outputId": "ab0a4f4d-44c0-4023-cc7e-f38386398037"
      },
      "source": [
        "#another way of seeing what was saved\n",
        "welcome"
      ],
      "execution_count": null,
      "outputs": [
        {
          "output_type": "execute_result",
          "data": {
            "application/vnd.google.colaboratory.intrinsic+json": {
              "type": "string"
            },
            "text/plain": [
              "'Welcome to Text Analysis Class'"
            ]
          },
          "metadata": {
            "tags": []
          },
          "execution_count": 13
        }
      ]
    },
    {
      "cell_type": "markdown",
      "metadata": {
        "id": "T-GoYemdqrb3"
      },
      "source": [
        "Same goes with intergers and calculations"
      ]
    },
    {
      "cell_type": "code",
      "metadata": {
        "collapsed": true,
        "id": "kU5Urk-4qrb3"
      },
      "source": [
        "#mathematical calculation\n",
        "calculation =(5*2*2)"
      ],
      "execution_count": null,
      "outputs": []
    },
    {
      "cell_type": "code",
      "metadata": {
        "id": "D3-boaUjqrb4",
        "colab": {
          "base_uri": "https://localhost:8080/"
        },
        "outputId": "d12b6e38-14a4-4c08-c73c-6617903ca30b"
      },
      "source": [
        "print(calculation)\n",
        "calculation #the product of the evaluation"
      ],
      "execution_count": null,
      "outputs": [
        {
          "output_type": "stream",
          "text": [
            "20\n"
          ],
          "name": "stdout"
        },
        {
          "output_type": "execute_result",
          "data": {
            "text/plain": [
              "20"
            ]
          },
          "metadata": {
            "tags": []
          },
          "execution_count": 15
        }
      ]
    },
    {
      "cell_type": "markdown",
      "metadata": {
        "id": "l1YwyvVDqrb4"
      },
      "source": [
        "**Take care of overwritting**"
      ]
    },
    {
      "cell_type": "code",
      "metadata": {
        "id": "HgZwkVeEqrb4",
        "colab": {
          "base_uri": "https://localhost:8080/"
        },
        "outputId": "12b1e472-d291-45c4-ab1a-61ca2cace792"
      },
      "source": [
        "calculation=(10*10)\n",
        "calculation"
      ],
      "execution_count": null,
      "outputs": [
        {
          "output_type": "execute_result",
          "data": {
            "text/plain": [
              "100"
            ]
          },
          "metadata": {
            "tags": []
          },
          "execution_count": 16
        }
      ]
    },
    {
      "cell_type": "markdown",
      "metadata": {
        "id": "tbbT9zZcqrb5"
      },
      "source": [
        "using variables that we have already assigned"
      ]
    },
    {
      "cell_type": "code",
      "metadata": {
        "collapsed": true,
        "id": "YSV10Ov4qrb5"
      },
      "source": [
        "# To calculate m=x+y\n",
        "x=7\n",
        "y=9"
      ],
      "execution_count": null,
      "outputs": []
    },
    {
      "cell_type": "code",
      "metadata": {
        "id": "4dSeRIuMqrb5",
        "colab": {
          "base_uri": "https://localhost:8080/"
        },
        "outputId": "52311dfe-8655-4b69-ab29-9188662ef07e"
      },
      "source": [
        "x"
      ],
      "execution_count": null,
      "outputs": [
        {
          "output_type": "execute_result",
          "data": {
            "text/plain": [
              "7"
            ]
          },
          "metadata": {
            "tags": []
          },
          "execution_count": 18
        }
      ]
    },
    {
      "cell_type": "code",
      "metadata": {
        "id": "kf19lLj9qrb5"
      },
      "source": [
        "y"
      ],
      "execution_count": null,
      "outputs": []
    },
    {
      "cell_type": "code",
      "metadata": {
        "id": "o6GnE4Axqrb6",
        "colab": {
          "base_uri": "https://localhost:8080/"
        },
        "outputId": "1d558b9e-ad7e-4f67-cb05-2cad21adc996"
      },
      "source": [
        "m=(x+y)\n",
        "m"
      ],
      "execution_count": null,
      "outputs": [
        {
          "output_type": "execute_result",
          "data": {
            "text/plain": [
              "16"
            ]
          },
          "metadata": {
            "tags": []
          },
          "execution_count": 19
        }
      ]
    },
    {
      "cell_type": "code",
      "metadata": {
        "id": "Tqqc8VHJqrb6",
        "colab": {
          "base_uri": "https://localhost:8080/",
          "height": 198
        },
        "outputId": "1435318a-79c9-4570-c578-d0dd9e150635"
      },
      "source": [
        "#example of a common error\n",
        "z #z is not defined\n",
        "print(z)#still not defined\n"
      ],
      "execution_count": null,
      "outputs": [
        {
          "output_type": "error",
          "ename": "NameError",
          "evalue": "ignored",
          "traceback": [
            "\u001b[0;31m---------------------------------------------------------------------------\u001b[0m",
            "\u001b[0;31mNameError\u001b[0m                                 Traceback (most recent call last)",
            "\u001b[0;32m<ipython-input-20-9b6e084d00b0>\u001b[0m in \u001b[0;36m<module>\u001b[0;34m()\u001b[0m\n\u001b[1;32m      1\u001b[0m \u001b[0;31m#example of a common error\u001b[0m\u001b[0;34m\u001b[0m\u001b[0;34m\u001b[0m\u001b[0;34m\u001b[0m\u001b[0m\n\u001b[0;32m----> 2\u001b[0;31m \u001b[0mz\u001b[0m \u001b[0;31m#z is not defined\u001b[0m\u001b[0;34m\u001b[0m\u001b[0;34m\u001b[0m\u001b[0m\n\u001b[0m\u001b[1;32m      3\u001b[0m \u001b[0mprint\u001b[0m\u001b[0;34m(\u001b[0m\u001b[0mz\u001b[0m\u001b[0;34m)\u001b[0m\u001b[0;31m#still not defined\u001b[0m\u001b[0;34m\u001b[0m\u001b[0;34m\u001b[0m\u001b[0m\n",
            "\u001b[0;31mNameError\u001b[0m: name 'z' is not defined"
          ]
        }
      ]
    },
    {
      "cell_type": "code",
      "metadata": {
        "id": "nQ41hoiPLZsp",
        "colab": {
          "base_uri": "https://localhost:8080/"
        },
        "outputId": "ce1b2abd-6a3d-463c-f154-aceda814969a"
      },
      "source": [
        "#why does it work here\n",
        "print(\"z\")"
      ],
      "execution_count": null,
      "outputs": [
        {
          "output_type": "stream",
          "text": [
            "z\n"
          ],
          "name": "stdout"
        }
      ]
    },
    {
      "cell_type": "code",
      "metadata": {
        "id": "bFev_Oxuqrb7",
        "colab": {
          "base_uri": "https://localhost:8080/"
        },
        "outputId": "66dffa87-4729-45df-c0c9-3ff033394be1"
      },
      "source": [
        "#multiplication example\n",
        "\n",
        "A=3\n",
        "r=2\n",
        "multiplication=A*r\n",
        "multiplication"
      ],
      "execution_count": null,
      "outputs": [
        {
          "output_type": "execute_result",
          "data": {
            "text/plain": [
              "6"
            ]
          },
          "metadata": {
            "tags": []
          },
          "execution_count": 22
        }
      ]
    },
    {
      "cell_type": "code",
      "metadata": {
        "id": "-8InpESuqrb7",
        "colab": {
          "base_uri": "https://localhost:8080/"
        },
        "outputId": "9e250ebf-39f5-4860-8368-257009e932a3"
      },
      "source": [
        "#combine objects\n",
        "combine = (calculation, welcome, m)\n",
        "combine"
      ],
      "execution_count": null,
      "outputs": [
        {
          "output_type": "execute_result",
          "data": {
            "text/plain": [
              "(100, 'Welcome to Text Analysis Class', 16)"
            ]
          },
          "metadata": {
            "tags": []
          },
          "execution_count": 23
        }
      ]
    },
    {
      "cell_type": "code",
      "metadata": {
        "id": "YC7CEWCmqrb7",
        "colab": {
          "base_uri": "https://localhost:8080/"
        },
        "outputId": "f448990d-2c08-4b3e-d539-97dbd2d60af4"
      },
      "source": [
        "x=7\n",
        "x\n",
        "print(x)"
      ],
      "execution_count": null,
      "outputs": [
        {
          "output_type": "stream",
          "text": [
            "7\n"
          ],
          "name": "stdout"
        }
      ]
    },
    {
      "cell_type": "markdown",
      "metadata": {
        "id": "58ZeWwPTqrb7"
      },
      "source": [
        "## What type of Object are we using?"
      ]
    },
    {
      "cell_type": "code",
      "metadata": {
        "id": "lbaz5iyIqrb8",
        "colab": {
          "base_uri": "https://localhost:8080/"
        },
        "outputId": "cbb83094-57d9-4a22-d891-d1aa6bf32b0b"
      },
      "source": [
        "#define object\n",
        "object1=(\"yes\")\n",
        "print(object1)\n"
      ],
      "execution_count": null,
      "outputs": [
        {
          "output_type": "stream",
          "text": [
            "yes\n"
          ],
          "name": "stdout"
        }
      ]
    },
    {
      "cell_type": "code",
      "metadata": {
        "id": "U_Y4PMFGqrb8",
        "colab": {
          "base_uri": "https://localhost:8080/"
        },
        "outputId": "6c76378f-21df-4fc1-9ade-33389fb9c6fb"
      },
      "source": [
        "#check type using print function\n",
        "print(type(object1))"
      ],
      "execution_count": null,
      "outputs": [
        {
          "output_type": "stream",
          "text": [
            "<class 'str'>\n"
          ],
          "name": "stdout"
        }
      ]
    },
    {
      "cell_type": "code",
      "metadata": {
        "id": "JBv8wGiYqrb8",
        "colab": {
          "base_uri": "https://localhost:8080/"
        },
        "outputId": "a7a49e31-4c33-4bab-b5cb-d683199cb1dc"
      },
      "source": [
        "print(type(\"string?\")) "
      ],
      "execution_count": null,
      "outputs": [
        {
          "output_type": "stream",
          "text": [
            "<class 'str'>\n"
          ],
          "name": "stdout"
        }
      ]
    },
    {
      "cell_type": "code",
      "metadata": {
        "id": "7n942oFSqrb8",
        "colab": {
          "base_uri": "https://localhost:8080/"
        },
        "outputId": "83b040dd-5981-4dfe-9566-db91cf48cb25"
      },
      "source": [
        "print(type(5*10))"
      ],
      "execution_count": null,
      "outputs": [
        {
          "output_type": "stream",
          "text": [
            "<class 'int'>\n"
          ],
          "name": "stdout"
        }
      ]
    },
    {
      "cell_type": "code",
      "metadata": {
        "id": "njM6WYlvqrb8",
        "colab": {
          "base_uri": "https://localhost:8080/"
        },
        "outputId": "2eac9acf-985a-473a-ae4f-3c89b4624f60"
      },
      "source": [
        "#float: a number that has both an integer and fractional part, separated by a point.\n",
        "print(type(1.1))"
      ],
      "execution_count": null,
      "outputs": [
        {
          "output_type": "stream",
          "text": [
            "<class 'float'>\n"
          ],
          "name": "stdout"
        }
      ]
    },
    {
      "cell_type": "code",
      "metadata": {
        "collapsed": true,
        "id": "27blNOA3qrb8"
      },
      "source": [
        "#boolean type, a statement that is false or true\n",
        "a = True\n",
        "b = False "
      ],
      "execution_count": null,
      "outputs": []
    },
    {
      "cell_type": "code",
      "metadata": {
        "id": "w22chwGZqrb9",
        "colab": {
          "base_uri": "https://localhost:8080/"
        },
        "outputId": "54f72cae-cce9-4b3a-a168-83f5d308773f"
      },
      "source": [
        "type(a)\n",
        "type(b)"
      ],
      "execution_count": null,
      "outputs": [
        {
          "output_type": "execute_result",
          "data": {
            "text/plain": [
              "bool"
            ]
          },
          "metadata": {
            "tags": []
          },
          "execution_count": 32
        }
      ]
    },
    {
      "cell_type": "markdown",
      "metadata": {
        "id": "pqpuzdCtqrb9"
      },
      "source": [
        "## Maths"
      ]
    },
    {
      "cell_type": "code",
      "metadata": {
        "id": "MxqRFE5Rqrb9",
        "colab": {
          "base_uri": "https://localhost:8080/"
        },
        "outputId": "8e7edadc-6846-410b-e2b3-f36fd7209c52"
      },
      "source": [
        "#you can use python to perform mathematical operations\n",
        "5+5"
      ],
      "execution_count": null,
      "outputs": [
        {
          "output_type": "execute_result",
          "data": {
            "text/plain": [
              "10"
            ]
          },
          "metadata": {
            "tags": []
          },
          "execution_count": 33
        }
      ]
    },
    {
      "cell_type": "code",
      "metadata": {
        "id": "AosOTaMLqrb9",
        "colab": {
          "base_uri": "https://localhost:8080/"
        },
        "outputId": "2869647e-8d45-4fe6-e2b4-ce96a264ee08"
      },
      "source": [
        "#you can also use the print function to achieve the same thing\n",
        "print(5+5)"
      ],
      "execution_count": null,
      "outputs": [
        {
          "output_type": "stream",
          "text": [
            "10\n"
          ],
          "name": "stdout"
        }
      ]
    },
    {
      "cell_type": "code",
      "metadata": {
        "id": "-2gRkDjLqrb9",
        "colab": {
          "base_uri": "https://localhost:8080/"
        },
        "outputId": "d7279170-ac7f-4cff-80c3-1ff471a68c9d"
      },
      "source": [
        "#multiplication\n",
        "5*5"
      ],
      "execution_count": null,
      "outputs": [
        {
          "output_type": "execute_result",
          "data": {
            "text/plain": [
              "25"
            ]
          },
          "metadata": {
            "tags": []
          },
          "execution_count": 35
        }
      ]
    },
    {
      "cell_type": "code",
      "metadata": {
        "id": "2Ifenes7qrb-",
        "colab": {
          "base_uri": "https://localhost:8080/"
        },
        "outputId": "d3af0e6a-cdb9-452c-c87b-917d8ba1d76d"
      },
      "source": [
        "#Power\n",
        "5**5"
      ],
      "execution_count": null,
      "outputs": [
        {
          "output_type": "execute_result",
          "data": {
            "text/plain": [
              "3125"
            ]
          },
          "metadata": {
            "tags": []
          },
          "execution_count": 36
        }
      ]
    },
    {
      "cell_type": "code",
      "metadata": {
        "id": "qFg6TfX_qrb-",
        "colab": {
          "base_uri": "https://localhost:8080/"
        },
        "outputId": "a09f1f52-532b-463e-80d4-8286c12a21ba"
      },
      "source": [
        "# Multiplication, division interger, division float, remainder, and exponentiation\n",
        "print(3 * 5)\n",
        "print(10 / 3)\n",
        "print(10 // 3)\n",
        "print(18 % 7)\n",
        "print(4 ** 2)"
      ],
      "execution_count": null,
      "outputs": [
        {
          "output_type": "stream",
          "text": [
            "15\n",
            "3.3333333333333335\n",
            "3\n",
            "4\n",
            "16\n"
          ],
          "name": "stdout"
        }
      ]
    },
    {
      "cell_type": "code",
      "metadata": {
        "id": "gzglBhznqrb-",
        "colab": {
          "base_uri": "https://localhost:8080/"
        },
        "outputId": "2129200e-8695-4d55-e541-35d748b7e8e3"
      },
      "source": [
        "A=11//2 #interger division\n",
        "print(A)"
      ],
      "execution_count": null,
      "outputs": [
        {
          "output_type": "stream",
          "text": [
            "5\n"
          ],
          "name": "stdout"
        }
      ]
    },
    {
      "cell_type": "code",
      "metadata": {
        "id": "U5Yi9S-Lqrb-",
        "colab": {
          "base_uri": "https://localhost:8080/"
        },
        "outputId": "64588177-c1df-4a77-e27b-8ae60c625a27"
      },
      "source": [
        "A=11/2 #float division\n",
        "print(A)"
      ],
      "execution_count": null,
      "outputs": [
        {
          "output_type": "stream",
          "text": [
            "5.5\n"
          ],
          "name": "stdout"
        }
      ]
    },
    {
      "cell_type": "code",
      "metadata": {
        "collapsed": true,
        "id": "5w4ISUNnqrb-"
      },
      "source": [
        "#It is important to know that python needs brackets to understand what it should calculate first\n",
        "#Lets experiment"
      ],
      "execution_count": null,
      "outputs": []
    },
    {
      "cell_type": "code",
      "metadata": {
        "id": "2B-ohsl0qrb-",
        "colab": {
          "base_uri": "https://localhost:8080/"
        },
        "outputId": "859c3f20-6756-420e-b73f-9547611f527c"
      },
      "source": [
        "(1666-20+40)*(800-10)*(300+20)"
      ],
      "execution_count": null,
      "outputs": [
        {
          "output_type": "execute_result",
          "data": {
            "text/plain": [
              "426220800"
            ]
          },
          "metadata": {
            "tags": []
          },
          "execution_count": 41
        }
      ]
    },
    {
      "cell_type": "code",
      "metadata": {
        "id": "ZLFUw8Fsqrb_",
        "colab": {
          "base_uri": "https://localhost:8080/"
        },
        "outputId": "4a775c13-3814-4443-fc32-bbfd105ea9fb"
      },
      "source": [
        "(1666-20+40*800-10*300+20)"
      ],
      "execution_count": null,
      "outputs": [
        {
          "output_type": "execute_result",
          "data": {
            "text/plain": [
              "30666"
            ]
          },
          "metadata": {
            "tags": []
          },
          "execution_count": 42
        }
      ]
    },
    {
      "cell_type": "markdown",
      "metadata": {
        "id": "tUmb3F_wqrb_"
      },
      "source": [
        "## Boolean operations"
      ]
    },
    {
      "cell_type": "code",
      "metadata": {
        "colab": {
          "base_uri": "https://localhost:8080/"
        },
        "id": "OV7A25d-xs-_",
        "outputId": "6594bcc8-5fb2-4b4d-b48f-f73c9c2e5a04"
      },
      "source": [
        "print(type(True))"
      ],
      "execution_count": null,
      "outputs": [
        {
          "output_type": "stream",
          "text": [
            "<class 'bool'>\n"
          ],
          "name": "stdout"
        }
      ]
    },
    {
      "cell_type": "code",
      "metadata": {
        "colab": {
          "base_uri": "https://localhost:8080/"
        },
        "id": "tywbzI30x0Te",
        "outputId": "095266e6-59fb-428a-f081-95ceea7f3fd6"
      },
      "source": [
        "print(100 < 2)\n",
        "print(3 > 7)\n",
        "\n"
      ],
      "execution_count": null,
      "outputs": [
        {
          "output_type": "stream",
          "text": [
            "False\n",
            "False\n"
          ],
          "name": "stdout"
        }
      ]
    },
    {
      "cell_type": "code",
      "metadata": {
        "colab": {
          "base_uri": "https://localhost:8080/"
        },
        "id": "Q_4DyFr6Sj3L",
        "outputId": "6cea65aa-7de0-486b-e7d6-6bc11c2ea46e"
      },
      "source": [
        "print(2 <= 3)\n",
        "print(3 >= 99)\n",
        "print(55 == 55)\n",
        "\n",
        "\n"
      ],
      "execution_count": null,
      "outputs": [
        {
          "output_type": "stream",
          "text": [
            "True\n",
            "False\n",
            "True\n"
          ],
          "name": "stdout"
        }
      ]
    },
    {
      "cell_type": "code",
      "metadata": {
        "colab": {
          "base_uri": "https://localhost:8080/"
        },
        "id": "f60lNmanSkBn",
        "outputId": "5f9d94e2-6366-4c34-f90b-5d67bff97140"
      },
      "source": [
        "print(\"dpir\" == \"dpir\")\n",
        "print(\"dice\" != \"ice\")"
      ],
      "execution_count": null,
      "outputs": [
        {
          "output_type": "stream",
          "text": [
            "True\n",
            "True\n"
          ],
          "name": "stdout"
        }
      ]
    },
    {
      "cell_type": "code",
      "metadata": {
        "id": "4OVW8jHyqrb_",
        "colab": {
          "base_uri": "https://localhost:8080/"
        },
        "outputId": "8e48fbc3-a25e-474c-c989-05da07b046bb"
      },
      "source": [
        "a == b #these objects are equal to each other?"
      ],
      "execution_count": null,
      "outputs": [
        {
          "output_type": "execute_result",
          "data": {
            "text/plain": [
              "False"
            ]
          },
          "metadata": {
            "tags": []
          },
          "execution_count": 47
        }
      ]
    },
    {
      "cell_type": "code",
      "metadata": {
        "id": "4_sU1mB3qrcA",
        "colab": {
          "base_uri": "https://localhost:8080/"
        },
        "outputId": "a012a4a1-a886-4654-f6fe-d2e5fc3ed1e0"
      },
      "source": [
        "a!=b #these objects are not equal to each other?"
      ],
      "execution_count": null,
      "outputs": [
        {
          "output_type": "execute_result",
          "data": {
            "text/plain": [
              "True"
            ]
          },
          "metadata": {
            "tags": []
          },
          "execution_count": 48
        }
      ]
    },
    {
      "cell_type": "markdown",
      "metadata": {
        "id": "lHtyyRNwqrcA"
      },
      "source": [
        "## Transform Objects"
      ]
    },
    {
      "cell_type": "code",
      "metadata": {
        "id": "ijGawBfvqrcA",
        "colab": {
          "base_uri": "https://localhost:8080/"
        },
        "outputId": "8c8c4f9d-c82c-458c-ba1a-927a63e72f81"
      },
      "source": [
        "#assign numerical values\n",
        "number1= 100\n",
        "number2= 2.3\n",
        "\n",
        "number1"
      ],
      "execution_count": null,
      "outputs": [
        {
          "output_type": "execute_result",
          "data": {
            "text/plain": [
              "100"
            ]
          },
          "metadata": {
            "tags": []
          },
          "execution_count": 49
        }
      ]
    },
    {
      "cell_type": "code",
      "metadata": {
        "id": "FOOf3pJCqrcA",
        "colab": {
          "base_uri": "https://localhost:8080/",
          "height": 35
        },
        "outputId": "f8bdfe34-0d85-4ae9-8f23-5e170f8f57e4"
      },
      "source": [
        "#transform to string\n",
        "numberx=str(number1)\n",
        "numberx"
      ],
      "execution_count": null,
      "outputs": [
        {
          "output_type": "execute_result",
          "data": {
            "application/vnd.google.colaboratory.intrinsic+json": {
              "type": "string"
            },
            "text/plain": [
              "'100'"
            ]
          },
          "metadata": {
            "tags": []
          },
          "execution_count": 50
        }
      ]
    },
    {
      "cell_type": "code",
      "metadata": {
        "id": "YQJIkl_NqrcB",
        "colab": {
          "base_uri": "https://localhost:8080/"
        },
        "outputId": "d4e9aa1f-717b-4e47-9d23-ced9b55c71ee"
      },
      "source": [
        "#transform to interger\n",
        "int(numberx)"
      ],
      "execution_count": null,
      "outputs": [
        {
          "output_type": "execute_result",
          "data": {
            "text/plain": [
              "100"
            ]
          },
          "metadata": {
            "tags": []
          },
          "execution_count": 51
        }
      ]
    },
    {
      "cell_type": "markdown",
      "metadata": {
        "id": "krnenRI3qrcB"
      },
      "source": [
        "## Input from keyboard"
      ]
    },
    {
      "cell_type": "code",
      "metadata": {
        "id": "LFRj1RQNqrcC",
        "colab": {
          "base_uri": "https://localhost:8080/"
        },
        "outputId": "40fbcab9-649d-43c6-977f-389afae90a51"
      },
      "source": [
        "answer_this_question = input (\"Why are you here?\\n Please answer\\t\")"
      ],
      "execution_count": null,
      "outputs": [
        {
          "output_type": "stream",
          "text": [
            "Why are you here?\n",
            " Please answer\tlearn\n"
          ],
          "name": "stdout"
        }
      ]
    },
    {
      "cell_type": "code",
      "metadata": {
        "id": "cLnvNvXGqrcC",
        "colab": {
          "base_uri": "https://localhost:8080/",
          "height": 35
        },
        "outputId": "9dfbbf29-7fe9-40ac-8742-76b092dae254"
      },
      "source": [
        "answer_this_question"
      ],
      "execution_count": null,
      "outputs": [
        {
          "output_type": "execute_result",
          "data": {
            "application/vnd.google.colaboratory.intrinsic+json": {
              "type": "string"
            },
            "text/plain": [
              "'learn'"
            ]
          },
          "metadata": {
            "tags": []
          },
          "execution_count": 53
        }
      ]
    },
    {
      "cell_type": "markdown",
      "metadata": {
        "collapsed": true,
        "id": "usltMX9xqrcC"
      },
      "source": [
        "## Combining Objects"
      ]
    },
    {
      "cell_type": "code",
      "metadata": {
        "id": "laCmmdjrWr2e",
        "colab": {
          "base_uri": "https://localhost:8080/",
          "height": 35
        },
        "outputId": "2fb4a14f-9f80-409b-8e52-36d457beab50"
      },
      "source": [
        "#combine objects - example 1\n",
        "text = \"we\"+ \"are\"+\"learning \" + \"python'\"\n",
        "\n",
        "text"
      ],
      "execution_count": null,
      "outputs": [
        {
          "output_type": "execute_result",
          "data": {
            "application/vnd.google.colaboratory.intrinsic+json": {
              "type": "string"
            },
            "text/plain": [
              "\"wearelearning python'\""
            ]
          },
          "metadata": {
            "tags": []
          },
          "execution_count": 54
        }
      ]
    },
    {
      "cell_type": "code",
      "metadata": {
        "id": "GPujugYuW0II",
        "colab": {
          "base_uri": "https://localhost:8080/"
        },
        "outputId": "0878404d-4464-4236-8ec5-af1a02fdbb6b"
      },
      "source": [
        "#combine objects - example 2\n",
        "intergers=\"2\"+\"3\"\n",
        "print(intergers) #check the combining operation\n",
        "print(type(intergers)) #check the type of the object"
      ],
      "execution_count": null,
      "outputs": [
        {
          "output_type": "stream",
          "text": [
            "23\n",
            "<class 'str'>\n"
          ],
          "name": "stdout"
        }
      ]
    },
    {
      "cell_type": "code",
      "metadata": {
        "id": "at08vuAMW0Nb",
        "colab": {
          "base_uri": "https://localhost:8080/"
        },
        "outputId": "10c8e678-afec-4ffd-ee3a-0df9bc480dc9"
      },
      "source": [
        "#combine objects - example 3\n",
        "\n",
        "intergers=2+3\n",
        "intergers\n",
        "#what is different here?\n",
        "\n",
        "print(type(intergers))\n",
        "intergers\n",
        "# see the difference between this and the cell above?\n"
      ],
      "execution_count": null,
      "outputs": [
        {
          "output_type": "stream",
          "text": [
            "<class 'int'>\n"
          ],
          "name": "stdout"
        },
        {
          "output_type": "execute_result",
          "data": {
            "text/plain": [
              "5"
            ]
          },
          "metadata": {
            "tags": []
          },
          "execution_count": 56
        }
      ]
    },
    {
      "cell_type": "code",
      "metadata": {
        "id": "zoEGIR1_W-eX",
        "colab": {
          "base_uri": "https://localhost:8080/"
        },
        "outputId": "32235a4a-f57f-43af-ec2f-4de67a9812fa"
      },
      "source": [
        "#conversions - we talked about transforming types of objects \n",
        "#we can save an item as string here s1=\"5\"\n",
        "s1=\"5\"\n",
        "x= int(s1) *3 #we transform first s1 as interger and then we multiply it by 3\n",
        "print (x) # check result 5*3=15"
      ],
      "execution_count": null,
      "outputs": [
        {
          "output_type": "stream",
          "text": [
            "15\n"
          ],
          "name": "stdout"
        }
      ]
    },
    {
      "cell_type": "code",
      "metadata": {
        "id": "dltUfbINXBt7",
        "colab": {
          "base_uri": "https://localhost:8080/"
        },
        "outputId": "c4e366ff-6aef-41fa-b310-2955886f84f3"
      },
      "source": [
        "#check if python observes two strings to be the same\n",
        "\"a\"==\"A\""
      ],
      "execution_count": null,
      "outputs": [
        {
          "output_type": "execute_result",
          "data": {
            "text/plain": [
              "False"
            ]
          },
          "metadata": {
            "tags": []
          },
          "execution_count": 58
        }
      ]
    },
    {
      "cell_type": "markdown",
      "metadata": {
        "id": "aJPY-_O7XMCj"
      },
      "source": [
        "## Understanding Python Strings"
      ]
    },
    {
      "cell_type": "markdown",
      "metadata": {
        "id": "gDNDKiscXQhO"
      },
      "source": [
        "inputting a string"
      ]
    },
    {
      "cell_type": "code",
      "metadata": {
        "id": "KriJmx_AXLMe"
      },
      "source": [
        "#it doesnt matter whether you use single or double quoted strings to save a string object\n",
        "string1 = \"Hi this is session one\"\n",
        "string2 = 'And I am loving python'\n"
      ],
      "execution_count": null,
      "outputs": []
    },
    {
      "cell_type": "code",
      "metadata": {
        "id": "HVZqtu6eXVGP",
        "colab": {
          "base_uri": "https://localhost:8080/"
        },
        "outputId": "056acbfc-20ca-43ee-953f-01416d2e5e9a"
      },
      "source": [
        "#checking what is in the strings?\n",
        "print(string1)\n",
        "print(string2)"
      ],
      "execution_count": null,
      "outputs": [
        {
          "output_type": "stream",
          "text": [
            "Hi this is session one\n",
            "And I am loving python\n"
          ],
          "name": "stdout"
        }
      ]
    },
    {
      "cell_type": "markdown",
      "metadata": {
        "id": "b0BFLYxBXYAP"
      },
      "source": [
        "*what* if we wanna make sure if there is a specific word in the saved string?\n"
      ]
    },
    {
      "cell_type": "code",
      "metadata": {
        "id": "g7FN6wx1XYra",
        "colab": {
          "base_uri": "https://localhost:8080/"
        },
        "outputId": "fce2224b-5101-4950-cfa2-1576158871c9"
      },
      "source": [
        "\"is\" in string2"
      ],
      "execution_count": null,
      "outputs": [
        {
          "output_type": "execute_result",
          "data": {
            "text/plain": [
              "False"
            ]
          },
          "metadata": {
            "tags": []
          },
          "execution_count": 61
        }
      ]
    },
    {
      "cell_type": "code",
      "metadata": {
        "id": "FI0iCDuiXYx8",
        "colab": {
          "base_uri": "https://localhost:8080/"
        },
        "outputId": "a4408187-2c87-4089-ca20-61ea6ae0011e"
      },
      "source": [
        "\"am\" in string2"
      ],
      "execution_count": null,
      "outputs": [
        {
          "output_type": "execute_result",
          "data": {
            "text/plain": [
              "True"
            ]
          },
          "metadata": {
            "tags": []
          },
          "execution_count": 62
        }
      ]
    },
    {
      "cell_type": "markdown",
      "metadata": {
        "id": "Q8n5Uko6Xg-t"
      },
      "source": [
        "### Manipulating string"
      ]
    },
    {
      "cell_type": "code",
      "metadata": {
        "id": "dsKYyyp8Xrln"
      },
      "source": [
        "#enter your name\n",
        "myname=\"ashrakat\""
      ],
      "execution_count": null,
      "outputs": []
    },
    {
      "cell_type": "code",
      "metadata": {
        "id": "F5nPiZJsXroB",
        "colab": {
          "base_uri": "https://localhost:8080/"
        },
        "outputId": "cafcda7a-1b62-4740-dce9-8ae522858087"
      },
      "source": [
        "#if I want to make letter uppercase\n",
        "print(myname.title())"
      ],
      "execution_count": null,
      "outputs": [
        {
          "output_type": "stream",
          "text": [
            "Ashrakat\n"
          ],
          "name": "stdout"
        }
      ]
    },
    {
      "cell_type": "code",
      "metadata": {
        "id": "xP8uRPsxXrrX",
        "colab": {
          "base_uri": "https://localhost:8080/"
        },
        "outputId": "f2e0326f-5655-4ac7-a92f-64231b7ed2ee"
      },
      "source": [
        "#if I want to make the whole string uppercase\n",
        "print (myname.upper())"
      ],
      "execution_count": null,
      "outputs": [
        {
          "output_type": "stream",
          "text": [
            "ASHRAKAT\n"
          ],
          "name": "stdout"
        }
      ]
    },
    {
      "cell_type": "markdown",
      "metadata": {
        "id": "bpkRJSSYYkn8"
      },
      "source": [
        "### Strip space"
      ]
    },
    {
      "cell_type": "code",
      "metadata": {
        "id": "L8jqYykzYjvO"
      },
      "source": [
        "#define a variable that includes a string\n",
        "university=\" University of Oxford \""
      ],
      "execution_count": null,
      "outputs": []
    },
    {
      "cell_type": "code",
      "metadata": {
        "id": "Axs9BObdYq9K",
        "colab": {
          "base_uri": "https://localhost:8080/"
        },
        "outputId": "41fcf003-df68-47ff-ef25-22e02d82dcb1"
      },
      "source": [
        "#remove all leading and ending spaces\n",
        "university1=university.strip()\n",
        "print(university1)"
      ],
      "execution_count": null,
      "outputs": [
        {
          "output_type": "stream",
          "text": [
            "University of Oxford\n"
          ],
          "name": "stdout"
        }
      ]
    },
    {
      "cell_type": "code",
      "metadata": {
        "id": "PRca13quYx4_",
        "colab": {
          "base_uri": "https://localhost:8080/",
          "height": 35
        },
        "outputId": "6f56b4f2-a015-4ef0-bdf8-e7540ae2e324"
      },
      "source": [
        "#remove all space characters in sentence\n",
        "university.replace(\" \", \"\")\n",
        "\n",
        "#we can replace letters as well\n",
        "university2=university.replace(\"U\", \"z\")\n",
        "university2"
      ],
      "execution_count": null,
      "outputs": [
        {
          "output_type": "execute_result",
          "data": {
            "application/vnd.google.colaboratory.intrinsic+json": {
              "type": "string"
            },
            "text/plain": [
              "' zniversity of Oxford '"
            ]
          },
          "metadata": {
            "tags": []
          },
          "execution_count": 68
        }
      ]
    },
    {
      "cell_type": "markdown",
      "metadata": {
        "id": "mrt4DZuRY7sO"
      },
      "source": [
        "### Count number of words and letters"
      ]
    },
    {
      "cell_type": "code",
      "metadata": {
        "id": "NCsuDA4pY_um",
        "colab": {
          "base_uri": "https://localhost:8080/"
        },
        "outputId": "5013ac2b-f171-4a04-ecab-f602f10410e0"
      },
      "source": [
        "#count number of charachters incluing white space\n",
        "university=\"University of Oxford in Oxford\"\n",
        "len(university)"
      ],
      "execution_count": null,
      "outputs": [
        {
          "output_type": "execute_result",
          "data": {
            "text/plain": [
              "30"
            ]
          },
          "metadata": {
            "tags": []
          },
          "execution_count": 69
        }
      ]
    },
    {
      "cell_type": "code",
      "metadata": {
        "id": "GuFXWYYGbWEi",
        "colab": {
          "base_uri": "https://localhost:8080/"
        },
        "outputId": "031a1422-d5e9-41ce-b017-01460f460606"
      },
      "source": [
        "#if we use this we remove the white space and the count \n",
        "university1=university.replace(\" \", \"\") \n",
        "len(university1)"
      ],
      "execution_count": null,
      "outputs": [
        {
          "output_type": "execute_result",
          "data": {
            "text/plain": [
              "26"
            ]
          },
          "metadata": {
            "tags": []
          },
          "execution_count": 70
        }
      ]
    },
    {
      "cell_type": "code",
      "metadata": {
        "id": "C8EViGJZbiKt",
        "colab": {
          "base_uri": "https://localhost:8080/"
        },
        "outputId": "4ccb37f8-a6c8-48dd-f488-2f548453ddc7"
      },
      "source": [
        "#does the same as above\n",
        "len(university.replace(\" \",\"\"))"
      ],
      "execution_count": null,
      "outputs": [
        {
          "output_type": "execute_result",
          "data": {
            "text/plain": [
              "26"
            ]
          },
          "metadata": {
            "tags": []
          },
          "execution_count": 71
        }
      ]
    },
    {
      "cell_type": "code",
      "metadata": {
        "id": "LzOtnNWpZDo3",
        "colab": {
          "base_uri": "https://localhost:8080/"
        },
        "outputId": "c38dcfd9-1723-418c-c026-9b3b6557660a"
      },
      "source": [
        "#count number of words\n",
        "len(university.split())"
      ],
      "execution_count": null,
      "outputs": [
        {
          "output_type": "execute_result",
          "data": {
            "text/plain": [
              "5"
            ]
          },
          "metadata": {
            "tags": []
          },
          "execution_count": 72
        }
      ]
    },
    {
      "cell_type": "code",
      "metadata": {
        "id": "a2Q8BPehZFiO",
        "colab": {
          "base_uri": "https://localhost:8080/"
        },
        "outputId": "4772a955-e9a4-43ef-d92d-2ffda7e984fd"
      },
      "source": [
        "# split function splits by white-space\n",
        "uni=university.split()\n",
        "uni"
      ],
      "execution_count": null,
      "outputs": [
        {
          "output_type": "execute_result",
          "data": {
            "text/plain": [
              "['University', 'of', 'Oxford', 'in', 'Oxford']"
            ]
          },
          "metadata": {
            "tags": []
          },
          "execution_count": 73
        }
      ]
    },
    {
      "cell_type": "code",
      "metadata": {
        "id": "6D1m6xeCZH_D",
        "colab": {
          "base_uri": "https://localhost:8080/"
        },
        "outputId": "c0dba862-9080-422c-f32c-7dbbf4972671"
      },
      "source": [
        "#count number of occurence of letter\n",
        "print(university.count('u'))\n",
        "print(university.count('U'))"
      ],
      "execution_count": null,
      "outputs": [
        {
          "output_type": "stream",
          "text": [
            "0\n",
            "1\n"
          ],
          "name": "stdout"
        }
      ]
    },
    {
      "cell_type": "markdown",
      "metadata": {
        "id": "2SFEkU4qqrcC"
      },
      "source": [
        "# Excercies"
      ]
    },
    {
      "cell_type": "code",
      "metadata": {
        "collapsed": true,
        "id": "k1Vjd4owqrcC"
      },
      "source": [
        "#Excercise 1\n",
        "\n",
        "# a- Print the multiplication of 7 and 8, save them in a variable called mult\n",
        "# b- Calculate 5^2, save in a variable called power\n",
        "# print the results"
      ],
      "execution_count": null,
      "outputs": []
    },
    {
      "cell_type": "code",
      "metadata": {
        "colab": {
          "base_uri": "https://localhost:8080/"
        },
        "id": "3UAntJ3IYacd",
        "outputId": "90586581-96ba-41d5-8180-92cd0e939f20"
      },
      "source": [
        "mult=7*8\n",
        "print(mult)\n",
        "power=5**2\n",
        "print(power)"
      ],
      "execution_count": null,
      "outputs": [
        {
          "output_type": "stream",
          "text": [
            "56\n",
            "25\n"
          ],
          "name": "stdout"
        }
      ]
    },
    {
      "cell_type": "code",
      "metadata": {
        "collapsed": true,
        "id": "lCAhC-AkqrcD"
      },
      "source": [
        "#Excercise 2\n",
        "\n",
        "#calculate how many weeks in 10 years - approximately\n",
        "#hints:\n",
        "#save the number of weeks in a year in a variable called weeks\n",
        "#save the number 10 in a variable called 10 years\n",
        "#specificy and print outcome - variable named weeksin10years\n"
      ],
      "execution_count": null,
      "outputs": []
    },
    {
      "cell_type": "code",
      "metadata": {
        "colab": {
          "base_uri": "https://localhost:8080/"
        },
        "id": "JaG5gzF_YdsC",
        "outputId": "9be57bb6-c979-4f9f-b9bf-800829d90407"
      },
      "source": [
        "weeks=12*4.3\n",
        "years=10\n",
        "weeksin10years=weeks*years\n",
        "print(weeksin10years)"
      ],
      "execution_count": null,
      "outputs": [
        {
          "output_type": "stream",
          "text": [
            "516.0\n"
          ],
          "name": "stdout"
        }
      ]
    },
    {
      "cell_type": "code",
      "metadata": {
        "collapsed": true,
        "id": "7td4_GeYqrcD",
        "colab": {
          "base_uri": "https://localhost:8080/"
        },
        "outputId": "ba493ca4-594b-47df-ed19-aabc9d28f104"
      },
      "source": [
        "#Excercise 3\n",
        "\n",
        "# Print the interger of the division of 244 by 5 and save them in a variable called division\n",
        "division=244//5\n",
        "division"
      ],
      "execution_count": null,
      "outputs": [
        {
          "output_type": "execute_result",
          "data": {
            "text/plain": [
              "48"
            ]
          },
          "metadata": {
            "tags": []
          },
          "execution_count": 78
        }
      ]
    },
    {
      "cell_type": "code",
      "metadata": {
        "colab": {
          "base_uri": "https://localhost:8080/"
        },
        "id": "CCYploKTYhEv",
        "outputId": "7fe8bd1c-875d-4e3c-c058-af18bb494186"
      },
      "source": [
        "print(type(division))"
      ],
      "execution_count": null,
      "outputs": [
        {
          "output_type": "stream",
          "text": [
            "<class 'int'>\n"
          ],
          "name": "stdout"
        }
      ]
    },
    {
      "cell_type": "code",
      "metadata": {
        "collapsed": true,
        "id": "hQxIT5cOqrcD"
      },
      "source": [
        "#Excercise 4\n",
        "\n",
        "# Calculate the area of a circle\n",
        "# 1) define the variables that you need - pi and r, in that case r=3\n",
        "# 2) write the equation\n",
        "# 3) make sure you have a float type answer\n",
        "# 4) print out the result\n",
        "\n",
        "\n"
      ],
      "execution_count": null,
      "outputs": []
    },
    {
      "cell_type": "code",
      "metadata": {
        "colab": {
          "base_uri": "https://localhost:8080/"
        },
        "id": "NdeiMe3zYkqs",
        "outputId": "d10b7199-299f-4f8c-e5cb-13cbc27d8049"
      },
      "source": [
        "pi=3.14\n",
        "r=3\n",
        "A=((3**2)*3.14)\n",
        "A"
      ],
      "execution_count": null,
      "outputs": [
        {
          "output_type": "execute_result",
          "data": {
            "text/plain": [
              "28.26"
            ]
          },
          "metadata": {
            "tags": []
          },
          "execution_count": 80
        }
      ]
    },
    {
      "cell_type": "code",
      "metadata": {
        "collapsed": true,
        "id": "3wE2kkpNqrcD"
      },
      "source": [
        "#Excercise 5\n",
        "\n",
        "# Request the name of the user\n",
        "# Request the age of a user\n",
        "#print out the name and age of the user in a sentence using the variables you have defined for age and name\n"
      ],
      "execution_count": null,
      "outputs": []
    },
    {
      "cell_type": "code",
      "metadata": {
        "colab": {
          "base_uri": "https://localhost:8080/"
        },
        "id": "wBz2KwexYn2r",
        "outputId": "94bd7bda-d943-4fb4-85bd-4d5859d78023"
      },
      "source": [
        "name=input(\"Whats your name?\\n\")"
      ],
      "execution_count": null,
      "outputs": [
        {
          "output_type": "stream",
          "text": [
            "Whats your name?\n",
            "ash\n"
          ],
          "name": "stdout"
        }
      ]
    },
    {
      "cell_type": "code",
      "metadata": {
        "colab": {
          "base_uri": "https://localhost:8080/"
        },
        "id": "XOHQ_5ATYoam",
        "outputId": "be1e7305-fbf3-425a-f3b1-71f660def352"
      },
      "source": [
        "age=input(\"Whats your age?\\n\")"
      ],
      "execution_count": null,
      "outputs": [
        {
          "output_type": "stream",
          "text": [
            "Whats your age?\n",
            "x\n"
          ],
          "name": "stdout"
        }
      ]
    },
    {
      "cell_type": "code",
      "metadata": {
        "colab": {
          "base_uri": "https://localhost:8080/"
        },
        "id": "Pe0MmJHaYonE",
        "outputId": "43d01703-1edd-42d5-d670-a5edddbfc820"
      },
      "source": [
        "answer = print(\"This person's name is\"+ \" \" + name + \"and they are\"+ \" \" + age +\" \"+ \"years old.\")"
      ],
      "execution_count": null,
      "outputs": [
        {
          "output_type": "stream",
          "text": [
            "This person's name is ashand they are x years old.\n"
          ],
          "name": "stdout"
        }
      ]
    },
    {
      "cell_type": "code",
      "metadata": {
        "id": "YmsAGGDpqrcE",
        "colab": {
          "base_uri": "https://localhost:8080/",
          "height": 198
        },
        "outputId": "bd7ab987-d64d-44fa-8d9f-0cef2313ce9d"
      },
      "source": [
        "#Excercise 6\n",
        "\n",
        "# Fix the errors here\n",
        "# Fix the printout\n",
        "\n",
        "print(\"I have\" + \" \" +randomnumber1 + \" of apples and\" + \" \" + randomnumber2 + \" \" + \"of bananas!\")"
      ],
      "execution_count": null,
      "outputs": [
        {
          "output_type": "error",
          "ename": "NameError",
          "evalue": "ignored",
          "traceback": [
            "\u001b[0;31m---------------------------------------------------------------------------\u001b[0m",
            "\u001b[0;31mNameError\u001b[0m                                 Traceback (most recent call last)",
            "\u001b[0;32m<ipython-input-1-ec3033098c91>\u001b[0m in \u001b[0;36m<module>\u001b[0;34m()\u001b[0m\n\u001b[1;32m      4\u001b[0m \u001b[0;31m# Fix the printout\u001b[0m\u001b[0;34m\u001b[0m\u001b[0;34m\u001b[0m\u001b[0;34m\u001b[0m\u001b[0m\n\u001b[1;32m      5\u001b[0m \u001b[0;34m\u001b[0m\u001b[0m\n\u001b[0;32m----> 6\u001b[0;31m \u001b[0mprint\u001b[0m\u001b[0;34m(\u001b[0m\u001b[0;34m\"I have\"\u001b[0m \u001b[0;34m+\u001b[0m \u001b[0;34m\" \"\u001b[0m \u001b[0;34m+\u001b[0m\u001b[0mrandomnumber1\u001b[0m \u001b[0;34m+\u001b[0m \u001b[0;34m\" of apples and\"\u001b[0m \u001b[0;34m+\u001b[0m \u001b[0;34m\" \"\u001b[0m \u001b[0;34m+\u001b[0m \u001b[0mrandomnumber2\u001b[0m \u001b[0;34m+\u001b[0m \u001b[0;34m\" \"\u001b[0m \u001b[0;34m+\u001b[0m \u001b[0;34m\"of bananas!\"\u001b[0m\u001b[0;34m)\u001b[0m\u001b[0;34m\u001b[0m\u001b[0;34m\u001b[0m\u001b[0m\n\u001b[0m",
            "\u001b[0;31mNameError\u001b[0m: name 'randomnumber1' is not defined"
          ]
        }
      ]
    },
    {
      "cell_type": "code",
      "metadata": {
        "colab": {
          "base_uri": "https://localhost:8080/"
        },
        "id": "MEPGk634YyE0",
        "outputId": "b12eb515-ebcd-45c7-b7f5-73a0fc950e20"
      },
      "source": [
        "#solution\n",
        "randomnumber1=10\n",
        "randomnumber2=13\n",
        "print(\"I have\" + \" \" +str(randomnumber1) + \" of apples and\" + \" \" + str(randomnumber2) + \" \" + \"of bananas!\")"
      ],
      "execution_count": null,
      "outputs": [
        {
          "output_type": "stream",
          "text": [
            "I have 10 of apples and 13 of bananas!\n"
          ],
          "name": "stdout"
        }
      ]
    },
    {
      "cell_type": "code",
      "metadata": {
        "collapsed": true,
        "id": "nOn9oof1qrcE"
      },
      "source": [
        "#Excercise 7\n",
        "\n",
        "#Display “My Name Is [insert your name]” as “My**Name**Is**[insert your name]” using output formatting of a print() function\n",
        "#Hint: understand the \"sep\" command in Python"
      ],
      "execution_count": null,
      "outputs": []
    },
    {
      "cell_type": "code",
      "metadata": {
        "colab": {
          "base_uri": "https://localhost:8080/"
        },
        "id": "JZeQogb8ZJff",
        "outputId": "e0a1449c-9aa3-4ab9-ed61-d56b2440b44d"
      },
      "source": [
        "print('My', 'Name', 'Is', 'Ash', sep='**')\n"
      ],
      "execution_count": null,
      "outputs": [
        {
          "output_type": "stream",
          "text": [
            "My**Name**Is**Ash\n"
          ],
          "name": "stdout"
        }
      ]
    },
    {
      "cell_type": "code",
      "metadata": {
        "id": "jXj5jk9BqrcE"
      },
      "source": [
        "#Excercise 8\n",
        "\n",
        "#Display float number with 2 decimal -40400.2233- places using print()\n",
        "\n",
        "\n"
      ],
      "execution_count": null,
      "outputs": []
    },
    {
      "cell_type": "code",
      "metadata": {
        "colab": {
          "base_uri": "https://localhost:8080/"
        },
        "id": "vk8SrSIkZMBP",
        "outputId": "1433f00a-48e6-443c-97b8-af3630fe0da4"
      },
      "source": [
        "print('%.2f' % 40400.2233)"
      ],
      "execution_count": null,
      "outputs": [
        {
          "output_type": "stream",
          "text": [
            "40400.22\n"
          ],
          "name": "stdout"
        }
      ]
    },
    {
      "cell_type": "code",
      "metadata": {
        "id": "465X_2hYqrcE",
        "colab": {
          "base_uri": "https://localhost:8080/",
          "height": 130
        },
        "outputId": "971bd52f-9575-4a8d-8d20-8ceb4e8352a5"
      },
      "source": [
        "#Excercise 9\n",
        "\n",
        "#fix this code \n",
        "\n",
        "print \"This doesnt work\"\n",
        "print('This doesn't work')\n",
        "input('Input your age: ')\n",
        "print(name"
      ],
      "execution_count": null,
      "outputs": [
        {
          "output_type": "error",
          "ename": "SyntaxError",
          "evalue": "ignored",
          "traceback": [
            "\u001b[0;36m  File \u001b[0;32m\"<ipython-input-89-611d272554e7>\"\u001b[0;36m, line \u001b[0;32m5\u001b[0m\n\u001b[0;31m    print \"This doesnt work\"\u001b[0m\n\u001b[0m                           ^\u001b[0m\n\u001b[0;31mSyntaxError\u001b[0m\u001b[0;31m:\u001b[0m Missing parentheses in call to 'print'. Did you mean print(\"This doesnt work\")?\n"
          ]
        }
      ]
    },
    {
      "cell_type": "code",
      "metadata": {
        "colab": {
          "base_uri": "https://localhost:8080/"
        },
        "id": "R-nYJLhcZP_l",
        "outputId": "2be6a0b4-3f8e-49d0-826c-7830cbe3b54e"
      },
      "source": [
        "#solutions\n",
        "print (\"This doesnt work\") # we need brackets\n",
        "print('This doesnt work') #we have an extra ' in doesnt\n",
        "age=input('Input your age: ')# we forgot to close brackets, also we havent dfined the variable age that we input\n",
        "print(age) "
      ],
      "execution_count": null,
      "outputs": [
        {
          "output_type": "stream",
          "text": [
            "This doesnt work\n",
            "This doesnt work\n",
            "Input your age: x\n",
            "x\n"
          ],
          "name": "stdout"
        }
      ]
    },
    {
      "cell_type": "code",
      "metadata": {
        "collapsed": true,
        "id": "hUmsQl7bqrcF"
      },
      "source": [
        "#Excercise 10\n",
        "\n",
        "# a- Ask the user to input a number\n",
        "# b- Ask the user to input another number\n",
        "# c- Calculate the total of the two numbers added together\n",
        "\n",
        "#Hint use input for a and b"
      ],
      "execution_count": null,
      "outputs": []
    },
    {
      "cell_type": "code",
      "metadata": {
        "colab": {
          "base_uri": "https://localhost:8080/"
        },
        "id": "vC_Iavq_ZUnk",
        "outputId": "60e5eb26-0f00-4019-d829-aafea4f769c5"
      },
      "source": [
        "number1=input(\"Please input number \")\n",
        "number2=input(\"Please input number \")"
      ],
      "execution_count": null,
      "outputs": [
        {
          "output_type": "stream",
          "text": [
            "Please input number 2\n",
            "Please input number 2\n"
          ],
          "name": "stdout"
        }
      ]
    },
    {
      "cell_type": "code",
      "metadata": {
        "colab": {
          "base_uri": "https://localhost:8080/"
        },
        "id": "RtpzPE4PZUx4",
        "outputId": "3e82a3fd-5564-4045-8a4f-b9c9549ad201"
      },
      "source": [
        "sum=int(number1)+int(number2)\n",
        "sum"
      ],
      "execution_count": null,
      "outputs": [
        {
          "output_type": "execute_result",
          "data": {
            "text/plain": [
              "4"
            ]
          },
          "metadata": {
            "tags": []
          },
          "execution_count": 95
        }
      ]
    },
    {
      "cell_type": "code",
      "metadata": {
        "colab": {
          "base_uri": "https://localhost:8080/"
        },
        "id": "PAIeUwSzZU11",
        "outputId": "932f268c-4dda-412d-f8e7-828911476f25"
      },
      "source": [
        "type(sum)"
      ],
      "execution_count": null,
      "outputs": [
        {
          "output_type": "execute_result",
          "data": {
            "text/plain": [
              "int"
            ]
          },
          "metadata": {
            "tags": []
          },
          "execution_count": 96
        }
      ]
    },
    {
      "cell_type": "code",
      "metadata": {
        "colab": {
          "base_uri": "https://localhost:8080/"
        },
        "id": "miR7DirzZYdI",
        "outputId": "5104afdf-b65b-4328-e4b9-34236134555b"
      },
      "source": [
        "sum=int(sum)\n",
        "sum"
      ],
      "execution_count": null,
      "outputs": [
        {
          "output_type": "execute_result",
          "data": {
            "text/plain": [
              "4"
            ]
          },
          "metadata": {
            "tags": []
          },
          "execution_count": 97
        }
      ]
    },
    {
      "cell_type": "markdown",
      "metadata": {
        "id": "0Vpq86FPZZXf"
      },
      "source": [
        "\n",
        "**Exercise 11**\n",
        "\n",
        "1. count how the occurence of each letter in the sentence. Hint: use the Counter library in python\n",
        "2. count number of characters/letters only (no white space, no punctuation) - hint use the replace in-built function in python."
      ]
    },
    {
      "cell_type": "code",
      "metadata": {
        "id": "HVDhNBlpZZl2"
      },
      "source": [
        "sentence=(\"Hello World, I am so excited; to finally be able to get out of quarantine and meet all my friends\")"
      ],
      "execution_count": null,
      "outputs": []
    },
    {
      "cell_type": "code",
      "metadata": {
        "colab": {
          "base_uri": "https://localhost:8080/"
        },
        "id": "CBBG4WyvZivV",
        "outputId": "c130fcbb-4d99-4124-c36a-b0f2b121a990"
      },
      "source": [
        "#1\n",
        "from collections import Counter\n",
        "counter_occurences = Counter(sentence)\n",
        "counter_occurences"
      ],
      "execution_count": null,
      "outputs": [
        {
          "output_type": "execute_result",
          "data": {
            "text/plain": [
              "Counter({' ': 19,\n",
              "         ',': 1,\n",
              "         ';': 1,\n",
              "         'H': 1,\n",
              "         'I': 1,\n",
              "         'W': 1,\n",
              "         'a': 7,\n",
              "         'b': 2,\n",
              "         'c': 1,\n",
              "         'd': 4,\n",
              "         'e': 10,\n",
              "         'f': 3,\n",
              "         'g': 1,\n",
              "         'i': 4,\n",
              "         'l': 8,\n",
              "         'm': 3,\n",
              "         'n': 5,\n",
              "         'o': 7,\n",
              "         'q': 1,\n",
              "         'r': 3,\n",
              "         's': 2,\n",
              "         't': 7,\n",
              "         'u': 2,\n",
              "         'x': 1,\n",
              "         'y': 2})"
            ]
          },
          "metadata": {
            "tags": []
          },
          "execution_count": 99
        }
      ]
    },
    {
      "cell_type": "code",
      "metadata": {
        "colab": {
          "base_uri": "https://localhost:8080/"
        },
        "id": "3SjtXmypZmBp",
        "outputId": "116d9657-896b-4c90-f6c2-6351448d6812"
      },
      "source": [
        "#2\n",
        "sentence=sentence.replace(\" \", \"\")\n",
        "sentence=sentence.replace(\",\", \"\")\n",
        "sentence=sentence.replace(\";\", \"\")\n",
        "len(sentence)"
      ],
      "execution_count": null,
      "outputs": [
        {
          "output_type": "execute_result",
          "data": {
            "text/plain": [
              "76"
            ]
          },
          "metadata": {
            "tags": []
          },
          "execution_count": 100
        }
      ]
    },
    {
      "cell_type": "markdown",
      "metadata": {
        "id": "zqyyX564ZmDa"
      },
      "source": [
        "**Excercise 12**\n",
        "\n",
        "why do we see an error message here"
      ]
    },
    {
      "cell_type": "code",
      "metadata": {
        "id": "nLhKiBuTZ_TU",
        "colab": {
          "base_uri": "https://localhost:8080/",
          "height": 164
        },
        "outputId": "8925c116-f66b-4d78-de55-c9136103d593"
      },
      "source": [
        "var = 100 + \"the number 100\""
      ],
      "execution_count": null,
      "outputs": [
        {
          "output_type": "error",
          "ename": "TypeError",
          "evalue": "ignored",
          "traceback": [
            "\u001b[0;31m---------------------------------------------------------------------------\u001b[0m",
            "\u001b[0;31mTypeError\u001b[0m                                 Traceback (most recent call last)",
            "\u001b[0;32m<ipython-input-101-6992eceb69c6>\u001b[0m in \u001b[0;36m<module>\u001b[0;34m()\u001b[0m\n\u001b[0;32m----> 1\u001b[0;31m \u001b[0mvar\u001b[0m \u001b[0;34m=\u001b[0m \u001b[0;36m100\u001b[0m \u001b[0;34m+\u001b[0m \u001b[0;34m\"the number 100\"\u001b[0m\u001b[0;34m\u001b[0m\u001b[0;34m\u001b[0m\u001b[0m\n\u001b[0m",
            "\u001b[0;31mTypeError\u001b[0m: unsupported operand type(s) for +: 'int' and 'str'"
          ]
        }
      ]
    },
    {
      "cell_type": "code",
      "metadata": {
        "colab": {
          "base_uri": "https://localhost:8080/"
        },
        "id": "4_jCnA5BZrEb",
        "outputId": "6397e8e0-d40e-4712-8089-c345c13f96cb"
      },
      "source": [
        "var=100, \"the number 100\"\n",
        "var"
      ],
      "execution_count": null,
      "outputs": [
        {
          "output_type": "execute_result",
          "data": {
            "text/plain": [
              "(100, 'the number 100')"
            ]
          },
          "metadata": {
            "tags": []
          },
          "execution_count": 102
        }
      ]
    },
    {
      "cell_type": "markdown",
      "metadata": {
        "id": "x0jUaHsyaJI-"
      },
      "source": [
        "**Excercise 13**\n",
        "\n",
        "Save your first and last name in lowercase in seperate variables: firstname, lastname\n",
        "Save first and last name together in a new variable fullname\n",
        "Print your fullname where the first letter of each name is capitalized\n",
        "Hint\n",
        "\n",
        "Make sure there is space between both names"
      ]
    },
    {
      "cell_type": "code",
      "metadata": {
        "colab": {
          "base_uri": "https://localhost:8080/",
          "height": 35
        },
        "id": "GZy-9L4_aCIk",
        "outputId": "c91e2555-2cca-42bd-9674-35eb95dde3e3"
      },
      "source": [
        "lastname=\"elshehawy\"\n",
        "firstname=\"ashrakat\"\n",
        "\n",
        "fullname=firstname +\" \" +lastname\n",
        "fullname"
      ],
      "execution_count": null,
      "outputs": [
        {
          "output_type": "execute_result",
          "data": {
            "application/vnd.google.colaboratory.intrinsic+json": {
              "type": "string"
            },
            "text/plain": [
              "'ashrakat elshehawy'"
            ]
          },
          "metadata": {
            "tags": []
          },
          "execution_count": 103
        }
      ]
    },
    {
      "cell_type": "code",
      "metadata": {
        "colab": {
          "base_uri": "https://localhost:8080/"
        },
        "id": "R8isYZVPaGvo",
        "outputId": "43cc46ee-2133-475a-da6d-a3d824c6dc80"
      },
      "source": [
        "print(fullname.title())\n"
      ],
      "execution_count": null,
      "outputs": [
        {
          "output_type": "stream",
          "text": [
            "Ashrakat Elshehawy\n"
          ],
          "name": "stdout"
        }
      ]
    },
    {
      "cell_type": "markdown",
      "metadata": {
        "id": "Nkm0DpbgaRZv"
      },
      "source": [
        "**Excercise 14**\n",
        "\n",
        "Count number of lowercase and uppercase letters\n",
        "\n",
        "Note: There are several ways to do this"
      ]
    },
    {
      "cell_type": "code",
      "metadata": {
        "colab": {
          "base_uri": "https://localhost:8080/"
        },
        "id": "qLppcEcruNfH",
        "outputId": "1952d76c-bab1-461f-843a-cb6d8b9f96a7"
      },
      "source": [
        "my_word = \"HelLo WorLd\"\n",
        "\n",
        "lower_count = sum(map(str.islower, my_word))\n",
        "upper_count = sum(map(str.isupper, my_word))\n",
        "\n",
        "lower_count\n",
        "upper_count"
      ],
      "execution_count": null,
      "outputs": [
        {
          "output_type": "execute_result",
          "data": {
            "text/plain": [
              "4"
            ]
          },
          "metadata": {
            "tags": []
          },
          "execution_count": 1
        }
      ]
    }
  ]
}