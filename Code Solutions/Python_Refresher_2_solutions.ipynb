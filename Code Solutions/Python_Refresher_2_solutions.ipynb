{
  "nbformat": 4,
  "nbformat_minor": 0,
  "metadata": {
    "kernelspec": {
      "display_name": "Python 3",
      "language": "python",
      "name": "python3"
    },
    "language_info": {
      "codemirror_mode": {
        "name": "ipython",
        "version": 3
      },
      "file_extension": ".py",
      "mimetype": "text/x-python",
      "name": "python",
      "nbconvert_exporter": "python",
      "pygments_lexer": "ipython3",
      "version": "3.8.5"
    },
    "colab": {
      "name": "Python Refresher 2_solutions.ipynb",
      "provenance": [],
      "collapsed_sections": [],
      "toc_visible": true,
      "include_colab_link": true
    }
  },
  "cells": [
    {
      "cell_type": "markdown",
      "metadata": {
        "id": "view-in-github",
        "colab_type": "text"
      },
      "source": [
        "<a href=\"https://colab.research.google.com/github/aelshehawy/text-as-data-computational-text-analysis-oxford/blob/main/Code%20Solutions/Python_Refresher_2_solutions.ipynb\" target=\"_parent\"><img src=\"https://colab.research.google.com/assets/colab-badge.svg\" alt=\"Open In Colab\"/></a>"
      ]
    },
    {
      "cell_type": "markdown",
      "metadata": {
        "id": "zP6HAMhUs6IU"
      },
      "source": [
        "# Main Learning Goals today:\n"
      ]
    },
    {
      "cell_type": "markdown",
      "metadata": {
        "id": "ZgoT1Zu6s6IV"
      },
      "source": [
        "**Libraries in Python**\n",
        "\n",
        "**Data Structures in Pyton**\n",
        "\n",
        "**Loops**\n",
        "* for loops\n",
        "* if, else, elif loops - conditional loops\n",
        "* while loops\n",
        "* continue and break commands\n",
        "\n",
        "**Appending Lists**\n",
        "\n",
        "**Defining Functions**\n",
        "\n",
        "**Revise list comprehesion**\n",
        "\n",
        "**Join command**\n",
        "\n",
        "**Opening, Closing, Updating text files**\n",
        "* Python inbuilt open command\n",
        "* codecs library\n",
        "\n",
        "**Basic Text Processing Operations**\n",
        "* look for words\n",
        "* count words\n",
        "* remove punctuation\n",
        "* remove digits"
      ]
    },
    {
      "cell_type": "markdown",
      "metadata": {
        "id": "HFZm5W6De0Dt"
      },
      "source": [
        "## Libraries in Python\n",
        "Usually you enter in terminal ``pip install [project name]``, best is to check source documentation of project. <br>\n",
        "Example: https://pypi.org/project/Counter/\n",
        "\n",
        "However, Google Colab has a lot of pre-installed libraries.\n",
        "If there is a library we still need to import here - this is a good reference to how to do that https://colab.research.google.com/notebooks/snippets/importing_libraries.ipynb\n",
        "\n",
        "Usually we will have to use this command ``!pip install`` within a code cell."
      ]
    },
    {
      "cell_type": "code",
      "metadata": {
        "colab": {
          "base_uri": "https://localhost:8080/"
        },
        "id": "DL-ZYabbew9J",
        "outputId": "e6036c70-4757-4037-f948-d94dd58e532c"
      },
      "source": [
        "# you need a library to count faster, this is a very powerful library that we wil use in the future\n",
        "from collections import Counter\n",
        "uni=\"University of Oxford\"\n",
        "Counter(uni) # here we count how much each letter appears, counter can do much more"
      ],
      "execution_count": null,
      "outputs": [
        {
          "output_type": "execute_result",
          "data": {
            "text/plain": [
              "Counter({' ': 2,\n",
              "         'O': 1,\n",
              "         'U': 1,\n",
              "         'd': 1,\n",
              "         'e': 1,\n",
              "         'f': 2,\n",
              "         'i': 2,\n",
              "         'n': 1,\n",
              "         'o': 2,\n",
              "         'r': 2,\n",
              "         's': 1,\n",
              "         't': 1,\n",
              "         'v': 1,\n",
              "         'x': 1,\n",
              "         'y': 1})"
            ]
          },
          "metadata": {
            "tags": []
          },
          "execution_count": 41
        }
      ]
    },
    {
      "cell_type": "markdown",
      "metadata": {
        "id": "yA0ny74RfjTv"
      },
      "source": [
        "# Data Structures in Python"
      ]
    },
    {
      "cell_type": "markdown",
      "metadata": {
        "id": "CFoThpCCfoPV"
      },
      "source": [
        "### Lists\n",
        "\n",
        "ordered, changable, allows duplicated items"
      ]
    },
    {
      "cell_type": "code",
      "metadata": {
        "colab": {
          "base_uri": "https://localhost:8080/"
        },
        "id": "4IWrwv1efo7S",
        "outputId": "4f87b0d5-e52b-47ad-d167-a35f30a87422"
      },
      "source": [
        "quarantine =['baking','zoom',\"productiveness\",\"instagram\",\"netflix\",\"social distancing\"]\n",
        "print(quarantine)"
      ],
      "execution_count": null,
      "outputs": [
        {
          "output_type": "stream",
          "text": [
            "['baking', 'zoom', 'productiveness', 'instagram', 'netflix', 'social distancing']\n"
          ],
          "name": "stdout"
        }
      ]
    },
    {
      "cell_type": "code",
      "metadata": {
        "colab": {
          "base_uri": "https://localhost:8080/"
        },
        "id": "aZudaRxhfsNQ",
        "outputId": "3b8a0161-206a-4666-d921-1c44855b7eeb"
      },
      "source": [
        "random=[2,5,6,2,3,4]\n",
        "print(random)"
      ],
      "execution_count": null,
      "outputs": [
        {
          "output_type": "stream",
          "text": [
            "[2, 5, 6, 2, 3, 4]\n"
          ],
          "name": "stdout"
        }
      ]
    },
    {
      "cell_type": "code",
      "metadata": {
        "colab": {
          "base_uri": "https://localhost:8080/"
        },
        "id": "p_cHJysbfsQy",
        "outputId": "f6e7e6f1-06c8-4df0-a181-b739b5436c34"
      },
      "source": [
        "len(quarantine) # we see we have 6 items in our list\n"
      ],
      "execution_count": null,
      "outputs": [
        {
          "output_type": "execute_result",
          "data": {
            "text/plain": [
              "6"
            ]
          },
          "metadata": {
            "tags": []
          },
          "execution_count": 44
        }
      ]
    },
    {
      "cell_type": "code",
      "metadata": {
        "colab": {
          "base_uri": "https://localhost:8080/"
        },
        "id": "vUV4ipYyfsWR",
        "outputId": "43e8ad2a-8ac2-4a0b-a22a-8489d8c5214c"
      },
      "source": [
        "len(random)"
      ],
      "execution_count": null,
      "outputs": [
        {
          "output_type": "execute_result",
          "data": {
            "text/plain": [
              "6"
            ]
          },
          "metadata": {
            "tags": []
          },
          "execution_count": 45
        }
      ]
    },
    {
      "cell_type": "markdown",
      "metadata": {
        "id": "0AMhI8qaf6q9"
      },
      "source": [
        "**VERY IMPORTANT** In Python counting of items/observations always starts with 0"
      ]
    },
    {
      "cell_type": "code",
      "metadata": {
        "colab": {
          "base_uri": "https://localhost:8080/",
          "height": 35
        },
        "id": "U7aM1k-zf87Q",
        "outputId": "67a3a722-8960-43bb-98ee-3c8c3508a1e8"
      },
      "source": [
        "quarantine[5]"
      ],
      "execution_count": null,
      "outputs": [
        {
          "output_type": "execute_result",
          "data": {
            "application/vnd.google.colaboratory.intrinsic+json": {
              "type": "string"
            },
            "text/plain": [
              "'social distancing'"
            ]
          },
          "metadata": {
            "tags": []
          },
          "execution_count": 46
        }
      ]
    },
    {
      "cell_type": "code",
      "metadata": {
        "colab": {
          "base_uri": "https://localhost:8080/",
          "height": 35
        },
        "id": "elGIt_pMf-wt",
        "outputId": "acf11121-f87f-4867-bcf0-bbb1bc6f8339"
      },
      "source": [
        "#select items\n",
        "quarantine_food_edition=quarantine[0]\n",
        "quarantine_food_edition"
      ],
      "execution_count": null,
      "outputs": [
        {
          "output_type": "execute_result",
          "data": {
            "application/vnd.google.colaboratory.intrinsic+json": {
              "type": "string"
            },
            "text/plain": [
              "'baking'"
            ]
          },
          "metadata": {
            "tags": []
          },
          "execution_count": 47
        }
      ]
    },
    {
      "cell_type": "code",
      "metadata": {
        "colab": {
          "base_uri": "https://localhost:8080/"
        },
        "id": "ZWIP-90JgAU5",
        "outputId": "ce59c076-5009-476d-e35c-eb07cf489e8d"
      },
      "source": [
        "#select range, slice slice\n",
        "quarantine_fun_edition=quarantine[0:]\n",
        "quarantine_fun_edition"
      ],
      "execution_count": null,
      "outputs": [
        {
          "output_type": "execute_result",
          "data": {
            "text/plain": [
              "['baking',\n",
              " 'zoom',\n",
              " 'productiveness',\n",
              " 'instagram',\n",
              " 'netflix',\n",
              " 'social distancing']"
            ]
          },
          "metadata": {
            "tags": []
          },
          "execution_count": 48
        }
      ]
    },
    {
      "cell_type": "markdown",
      "metadata": {
        "id": "3V3i2MKWgDgO"
      },
      "source": [
        "### Dictionaries\n",
        "\n",
        "A dictionary has a key and a corresponding value <br>\n",
        "How to create a dictionary?\n",
        "\n"
      ]
    },
    {
      "cell_type": "code",
      "metadata": {
        "colab": {
          "base_uri": "https://localhost:8080/"
        },
        "id": "z5YjRursgOCP",
        "outputId": "fb08cc16-a228-4dfb-845d-7c1896214842"
      },
      "source": [
        "myshoppingitems = ['Pasta', 10, 'Pesto', 20, 'Chocolate', 5]\n",
        "myshoppingitems"
      ],
      "execution_count": null,
      "outputs": [
        {
          "output_type": "execute_result",
          "data": {
            "text/plain": [
              "['Pasta', 10, 'Pesto', 20, 'Chocolate', 5]"
            ]
          },
          "metadata": {
            "tags": []
          },
          "execution_count": 49
        }
      ]
    },
    {
      "cell_type": "code",
      "metadata": {
        "colab": {
          "base_uri": "https://localhost:8080/"
        },
        "id": "K3Y3q4OFgOE9",
        "outputId": "7170e720-6800-4a92-bc45-3ca0e6e6124c"
      },
      "source": [
        "myshoppingitems = {'Pasta': 10, 'Pesto': 20, 'Chocolate': 5}\n",
        "myshoppingitems"
      ],
      "execution_count": null,
      "outputs": [
        {
          "output_type": "execute_result",
          "data": {
            "text/plain": [
              "{'Chocolate': 5, 'Pasta': 10, 'Pesto': 20}"
            ]
          },
          "metadata": {
            "tags": []
          },
          "execution_count": 50
        }
      ]
    },
    {
      "cell_type": "code",
      "metadata": {
        "colab": {
          "base_uri": "https://localhost:8080/"
        },
        "id": "fbiKTpNUgOLD",
        "outputId": "461c6d41-d1d5-4620-eabc-5ce15095d0df"
      },
      "source": [
        "emptydictionary = dict()\n",
        "emptydictionary"
      ],
      "execution_count": null,
      "outputs": [
        {
          "output_type": "execute_result",
          "data": {
            "text/plain": [
              "{}"
            ]
          },
          "metadata": {
            "tags": []
          },
          "execution_count": 51
        }
      ]
    },
    {
      "cell_type": "markdown",
      "metadata": {
        "id": "UjrmrjGPgT3p"
      },
      "source": [
        "Add first item to the dictionary, dictionary keys should always be unique"
      ]
    },
    {
      "cell_type": "code",
      "metadata": {
        "colab": {
          "base_uri": "https://localhost:8080/"
        },
        "id": "oMGyfRAugOQz",
        "outputId": "9f6e6d22-314c-4174-e0ae-15c5f2740fa9"
      },
      "source": [
        "emptydictionary['Pasta'] = 10\n",
        "print(emptydictionary)"
      ],
      "execution_count": null,
      "outputs": [
        {
          "output_type": "stream",
          "text": [
            "{'Pasta': 10}\n"
          ],
          "name": "stdout"
        }
      ]
    },
    {
      "cell_type": "code",
      "metadata": {
        "id": "cXU35AejgY1g",
        "colab": {
          "base_uri": "https://localhost:8080/"
        },
        "outputId": "6c222566-b8e5-4eba-e22d-ad52ffd47f39"
      },
      "source": [
        "emptydictionary['Pesto'] = 20\n",
        "emptydictionary"
      ],
      "execution_count": null,
      "outputs": [
        {
          "output_type": "execute_result",
          "data": {
            "text/plain": [
              "{'Pasta': 10, 'Pesto': 20}"
            ]
          },
          "metadata": {
            "tags": []
          },
          "execution_count": 53
        }
      ]
    },
    {
      "cell_type": "code",
      "metadata": {
        "colab": {
          "base_uri": "https://localhost:8080/"
        },
        "id": "kBUNEHSBghHT",
        "outputId": "6556aff1-4fb3-42c1-f949-f711ec014eb5"
      },
      "source": [
        "#Access key,item in a dictionary\n",
        "emptydictionary['Pesto']"
      ],
      "execution_count": null,
      "outputs": [
        {
          "output_type": "execute_result",
          "data": {
            "text/plain": [
              "20"
            ]
          },
          "metadata": {
            "tags": []
          },
          "execution_count": 54
        }
      ]
    },
    {
      "cell_type": "markdown",
      "metadata": {
        "id": "7dVmAwMUhJ40"
      },
      "source": [
        "### Tuples\n",
        "\n",
        "- immutable sequence of Python objects - you cannot update or change the values of tuple elements\n",
        "- their advantage is that they have a fixed value"
      ]
    },
    {
      "cell_type": "code",
      "metadata": {
        "colab": {
          "base_uri": "https://localhost:8080/"
        },
        "id": "oFjUKgOMhUjo",
        "outputId": "3c58964d-8520-4403-b498-e29ee2999e0d"
      },
      "source": [
        "tuple1 = ('noon', 'morning', \"afternoon\", \"evening\")\n",
        "print(tuple1)"
      ],
      "execution_count": null,
      "outputs": [
        {
          "output_type": "stream",
          "text": [
            "('noon', 'morning', 'afternoon', 'evening')\n"
          ],
          "name": "stdout"
        }
      ]
    },
    {
      "cell_type": "markdown",
      "metadata": {
        "id": "EpO1TXUihb5s"
      },
      "source": [
        "create tuple of one value, you always need a comma at the end"
      ]
    },
    {
      "cell_type": "code",
      "metadata": {
        "colab": {
          "base_uri": "https://localhost:8080/"
        },
        "id": "PWoElRJ_hUmc",
        "outputId": "38bcaa44-f752-4eea-ed6e-77c05bf08a89"
      },
      "source": [
        "tupele2 = (1,)\n",
        "tupele2"
      ],
      "execution_count": null,
      "outputs": [
        {
          "output_type": "execute_result",
          "data": {
            "text/plain": [
              "(1,)"
            ]
          },
          "metadata": {
            "tags": []
          },
          "execution_count": 56
        }
      ]
    },
    {
      "cell_type": "markdown",
      "metadata": {
        "id": "zxAQWHl7hUp5"
      },
      "source": [
        "you can access values"
      ]
    },
    {
      "cell_type": "code",
      "metadata": {
        "colab": {
          "base_uri": "https://localhost:8080/"
        },
        "id": "yqXfgJoghUsP",
        "outputId": "2f7db4a2-7304-4094-f338-d8aed409b568"
      },
      "source": [
        "print(tuple1[3])"
      ],
      "execution_count": null,
      "outputs": [
        {
          "output_type": "stream",
          "text": [
            "evening\n"
          ],
          "name": "stdout"
        }
      ]
    },
    {
      "cell_type": "markdown",
      "metadata": {
        "id": "oilGCRBEhUvm"
      },
      "source": [
        "you can not modify within tuples, but you can concate different tuples"
      ]
    },
    {
      "cell_type": "code",
      "metadata": {
        "colab": {
          "base_uri": "https://localhost:8080/"
        },
        "id": "7q5pKFm-hUy2",
        "outputId": "9b33b120-d5ef-4ea6-e7b9-ea8787da7b9a"
      },
      "source": [
        "tuple1 = ('noon', 'morning', \"afternoon\", \"evening\")\n",
        "tuple2 = ('12', '10', \"16\", \"18\")\n",
        "tuplemix=tuple1+tuple2\n",
        "tuplemix"
      ],
      "execution_count": null,
      "outputs": [
        {
          "output_type": "execute_result",
          "data": {
            "text/plain": [
              "('noon', 'morning', 'afternoon', 'evening', '12', '10', '16', '18')"
            ]
          },
          "metadata": {
            "tags": []
          },
          "execution_count": 58
        }
      ]
    },
    {
      "cell_type": "markdown",
      "metadata": {
        "id": "7L8OguvchWHu"
      },
      "source": [
        "you can not modify within tuples, but you can repeat tuples in a new tuple"
      ]
    },
    {
      "cell_type": "code",
      "metadata": {
        "colab": {
          "base_uri": "https://localhost:8080/"
        },
        "id": "k2yfCpcHhWV8",
        "outputId": "ad011c7d-6885-4ac7-865e-c7724589f18d"
      },
      "source": [
        "tuplemultiply=tuple2*2\n",
        "tuplemultiply"
      ],
      "execution_count": null,
      "outputs": [
        {
          "output_type": "execute_result",
          "data": {
            "text/plain": [
              "('12', '10', '16', '18', '12', '10', '16', '18')"
            ]
          },
          "metadata": {
            "tags": []
          },
          "execution_count": 59
        }
      ]
    },
    {
      "cell_type": "markdown",
      "metadata": {
        "id": "Jc2s45hyhWfl"
      },
      "source": [
        "you can check membership"
      ]
    },
    {
      "cell_type": "code",
      "metadata": {
        "colab": {
          "base_uri": "https://localhost:8080/"
        },
        "id": "Fou1nljrhWpx",
        "outputId": "68d7030d-ae3b-43a6-ecf1-9aa232e4522c"
      },
      "source": [
        "3 in tuple2"
      ],
      "execution_count": null,
      "outputs": [
        {
          "output_type": "execute_result",
          "data": {
            "text/plain": [
              "False"
            ]
          },
          "metadata": {
            "tags": []
          },
          "execution_count": 60
        }
      ]
    },
    {
      "cell_type": "markdown",
      "metadata": {
        "id": "kv2dgVFShWyS"
      },
      "source": [
        "### Sets\n",
        "\n",
        "What is a set? It is an unordered collection of items. You can not be sure in which order the items will appear.\n",
        "\n",
        "Elements of the set:\n",
        "1. must be unique - doesnt allow for duplicate elements\n",
        "2. elemenets can not be changed (you can not access items by refering to an index, as done in lists - as the set is unordered)\n",
        "\n",
        "The set as a whole is mutable, we can add and remove items from it\n",
        "\n",
        "Usually sets are used to for mathematical operations like, union and intersection"
      ]
    },
    {
      "cell_type": "code",
      "metadata": {
        "colab": {
          "base_uri": "https://localhost:8080/"
        },
        "id": "7kKePRIPjGnn",
        "outputId": "8fdc0fb8-53f3-4fa6-d7ae-df92eb749a88"
      },
      "source": [
        "#creation of sets\n",
        "\n",
        "set1 = {8, 2, 3, 20, 13, 100}\n",
        "set2 = {\"apple\",2,3, \"orange\"}\n",
        "print(set1)\n",
        "print(set2)"
      ],
      "execution_count": null,
      "outputs": [
        {
          "output_type": "stream",
          "text": [
            "{2, 3, 100, 8, 13, 20}\n",
            "{'orange', 2, 3, 'apple'}\n"
          ],
          "name": "stdout"
        }
      ]
    },
    {
      "cell_type": "code",
      "metadata": {
        "colab": {
          "base_uri": "https://localhost:8080/"
        },
        "id": "BYFCPfNTjGuy",
        "outputId": "e95ce3b4-136a-40ac-e986-e4a64ad71e4c"
      },
      "source": [
        "# no duplication allowed\n",
        "\n",
        "set3 = {8, 2, 3, 20, 13, 100, 20, 3}\n",
        "print(set3)\n"
      ],
      "execution_count": null,
      "outputs": [
        {
          "output_type": "stream",
          "text": [
            "{2, 3, 100, 8, 13, 20}\n"
          ],
          "name": "stdout"
        }
      ]
    },
    {
      "cell_type": "code",
      "metadata": {
        "colab": {
          "base_uri": "https://localhost:8080/"
        },
        "id": "k0HKAHb-jG1n",
        "outputId": "86ce04af-65ad-4a59-f9e2-95cc833bfd34"
      },
      "source": [
        "# transform a list to a set\n",
        "\n",
        "newlist=[8,20,33,400]\n",
        "newset = set(newlist)\n",
        "print(newset)\n",
        "print(type(newset))"
      ],
      "execution_count": null,
      "outputs": [
        {
          "output_type": "stream",
          "text": [
            "{8, 33, 20, 400}\n",
            "<class 'set'>\n"
          ],
          "name": "stdout"
        }
      ]
    },
    {
      "cell_type": "code",
      "metadata": {
        "colab": {
          "base_uri": "https://localhost:8080/"
        },
        "id": "aHlojgc9jG8y",
        "outputId": "be4595fd-9b0d-4ef8-e1e6-c37d2b34f1a3"
      },
      "source": [
        "#mutability of set\n",
        "\n",
        "#add an item\n",
        "newset.add(2)\n",
        "print(newset)"
      ],
      "execution_count": null,
      "outputs": [
        {
          "output_type": "stream",
          "text": [
            "{33, 2, 8, 400, 20}\n"
          ],
          "name": "stdout"
        }
      ]
    },
    {
      "cell_type": "code",
      "metadata": {
        "colab": {
          "base_uri": "https://localhost:8080/"
        },
        "id": "ayrtp2VijHEP",
        "outputId": "8b002c19-9447-4f4b-8cb9-52da3734f6b0"
      },
      "source": [
        "#to add more than one item you use update\n",
        "newset.update([100, 5, 6])\n",
        "print(newset)"
      ],
      "execution_count": null,
      "outputs": [
        {
          "output_type": "stream",
          "text": [
            "{33, 2, 100, 5, 6, 8, 400, 20}\n"
          ],
          "name": "stdout"
        }
      ]
    },
    {
      "cell_type": "code",
      "metadata": {
        "colab": {
          "base_uri": "https://localhost:8080/"
        },
        "id": "URgVLyB2jHKq",
        "outputId": "30958dc1-dbde-40f9-ff8b-ced7002a1af3"
      },
      "source": [
        "# discard an item (similar remove - however remove will show an error if the item is not in the set)\n",
        "newset.discard(3)\n",
        "print(newset)"
      ],
      "execution_count": null,
      "outputs": [
        {
          "output_type": "stream",
          "text": [
            "{33, 2, 100, 5, 6, 8, 400, 20}\n"
          ],
          "name": "stdout"
        }
      ]
    },
    {
      "cell_type": "markdown",
      "metadata": {
        "id": "1lkvkuCEkpCI"
      },
      "source": [
        "### List Comprehension\n",
        "\n",
        "This is a very important method that will help you a lot in the future!"
      ]
    },
    {
      "cell_type": "code",
      "metadata": {
        "id": "JX4zB-bokzkg"
      },
      "source": [
        "#Lets define a list\n",
        "letters=[\"a\",\"b\",\"c\"]\n",
        "#we want to print out letter by letter in that list\n"
      ],
      "execution_count": null,
      "outputs": []
    },
    {
      "cell_type": "code",
      "metadata": {
        "colab": {
          "base_uri": "https://localhost:8080/",
          "height": 35
        },
        "id": "sWGhxO54k2NM",
        "outputId": "4621754b-d344-4188-d980-f569e9fa4ad0"
      },
      "source": [
        "letters[0]\n",
        "letters[1]\n",
        "letters[2]"
      ],
      "execution_count": null,
      "outputs": [
        {
          "output_type": "execute_result",
          "data": {
            "application/vnd.google.colaboratory.intrinsic+json": {
              "type": "string"
            },
            "text/plain": [
              "'c'"
            ]
          },
          "metadata": {
            "tags": []
          },
          "execution_count": 68
        }
      ]
    },
    {
      "cell_type": "markdown",
      "metadata": {
        "id": "4RZiL5BUlCjI"
      },
      "source": [
        "**Why do we use list comprehesion?**\n",
        "\n",
        "Basically to create a list based on another items of a list.\n",
        "We go through each element of the list."
      ]
    },
    {
      "cell_type": "code",
      "metadata": {
        "id": "cFviTqxclHd7"
      },
      "source": [
        "numbers=[1,2,3,4,5,6]\n"
      ],
      "execution_count": null,
      "outputs": []
    },
    {
      "cell_type": "code",
      "metadata": {
        "colab": {
          "base_uri": "https://localhost:8080/"
        },
        "id": "_hhpDBZJlI_K",
        "outputId": "e15c9466-b34b-42d8-fca5-12b0b91eb934"
      },
      "source": [
        "squares = [x**2 for x in numbers]\n",
        "squares"
      ],
      "execution_count": null,
      "outputs": [
        {
          "output_type": "execute_result",
          "data": {
            "text/plain": [
              "[1, 4, 9, 16, 25, 36]"
            ]
          },
          "metadata": {
            "tags": []
          },
          "execution_count": 70
        }
      ]
    },
    {
      "cell_type": "code",
      "metadata": {
        "colab": {
          "base_uri": "https://localhost:8080/"
        },
        "id": "ssFChn5klLch",
        "outputId": "7a603d30-ca5c-416b-8809-1554d14f1a99"
      },
      "source": [
        "#lets define a list\n",
        "\n",
        "random = 'Today is a sunny day, I need some Vitamin D'\n",
        "#to lower text\n",
        "random_lower = [  x for x in random.lower()] #we say for each word (x) in the list we call random lower the text\n",
        "random_lower"
      ],
      "execution_count": null,
      "outputs": [
        {
          "output_type": "execute_result",
          "data": {
            "text/plain": [
              "['t',\n",
              " 'o',\n",
              " 'd',\n",
              " 'a',\n",
              " 'y',\n",
              " ' ',\n",
              " 'i',\n",
              " 's',\n",
              " ' ',\n",
              " 'a',\n",
              " ' ',\n",
              " 's',\n",
              " 'u',\n",
              " 'n',\n",
              " 'n',\n",
              " 'y',\n",
              " ' ',\n",
              " 'd',\n",
              " 'a',\n",
              " 'y',\n",
              " ',',\n",
              " ' ',\n",
              " 'i',\n",
              " ' ',\n",
              " 'n',\n",
              " 'e',\n",
              " 'e',\n",
              " 'd',\n",
              " ' ',\n",
              " 's',\n",
              " 'o',\n",
              " 'm',\n",
              " 'e',\n",
              " ' ',\n",
              " 'v',\n",
              " 'i',\n",
              " 't',\n",
              " 'a',\n",
              " 'm',\n",
              " 'i',\n",
              " 'n',\n",
              " ' ',\n",
              " 'd']"
            ]
          },
          "metadata": {
            "tags": []
          },
          "execution_count": 71
        }
      ]
    },
    {
      "cell_type": "code",
      "metadata": {
        "colab": {
          "base_uri": "https://localhost:8080/",
          "height": 35
        },
        "id": "OsLTs-JOlOoZ",
        "outputId": "53bbb026-1446-423f-b9c9-596b2e523a04"
      },
      "source": [
        "random_lower =\"\".join(random_lower)\n",
        "random_lower"
      ],
      "execution_count": null,
      "outputs": [
        {
          "output_type": "execute_result",
          "data": {
            "application/vnd.google.colaboratory.intrinsic+json": {
              "type": "string"
            },
            "text/plain": [
              "'today is a sunny day, i need some vitamin d'"
            ]
          },
          "metadata": {
            "tags": []
          },
          "execution_count": 72
        }
      ]
    },
    {
      "cell_type": "code",
      "metadata": {
        "colab": {
          "base_uri": "https://localhost:8080/"
        },
        "id": "s7NhdfNKlSPh",
        "outputId": "69a7c5e0-c074-4a14-ca64-07b2d32a431a"
      },
      "source": [
        "grades = [88, 94,100, 99, 70,98,55,20]\n",
        "\n",
        "# to choose grades above 80\n",
        "[g for g in grades if g > 80] \n",
        "# for each grade (we call it here g) in the grades list give back the numbers if they are above 80\n"
      ],
      "execution_count": null,
      "outputs": [
        {
          "output_type": "execute_result",
          "data": {
            "text/plain": [
              "[88, 94, 100, 99, 98]"
            ]
          },
          "metadata": {
            "tags": []
          },
          "execution_count": 73
        }
      ]
    },
    {
      "cell_type": "markdown",
      "metadata": {
        "collapsed": true,
        "id": "-nQxLzIds6IW"
      },
      "source": [
        "# Loops\n",
        "\n",
        "Important if you want to carry out operations in sequence."
      ]
    },
    {
      "cell_type": "markdown",
      "metadata": {
        "id": "saSuVg0ts6IW"
      },
      "source": [
        "![Pandas](https://media.giphy.com/media/ieaUdBJJC19uw/giphy.gif)\n"
      ]
    },
    {
      "cell_type": "markdown",
      "metadata": {
        "collapsed": true,
        "id": "5gjTZE5rs6IW"
      },
      "source": [
        "## For loops\n",
        "\n",
        "Executes a sequence of statements multiple times and abbreviates the code that manages the loop variable."
      ]
    },
    {
      "cell_type": "code",
      "metadata": {
        "id": "0Mi4fltSs6IX",
        "colab": {
          "base_uri": "https://localhost:8080/"
        },
        "outputId": "591b0868-56f4-478b-eb72-6b10ce6b8077"
      },
      "source": [
        "#simple loops\n",
        "\n",
        "\n",
        "for l in [\"a\",\"b\",\"c\"]: # for each letter in the list, print each letter\n",
        "    print(l)\n",
        "    \n"
      ],
      "execution_count": null,
      "outputs": [
        {
          "output_type": "stream",
          "text": [
            "a\n",
            "b\n",
            "c\n"
          ],
          "name": "stdout"
        }
      ]
    },
    {
      "cell_type": "code",
      "metadata": {
        "id": "7eif9TfLs6IX",
        "colab": {
          "base_uri": "https://localhost:8080/"
        },
        "outputId": "dc4d6562-8501-44f8-d8c3-4e302c4f8116"
      },
      "source": [
        "for number in [\"100\",\"300\",\"8\"]: # for each number in the list, print each number\n",
        "    print(number)"
      ],
      "execution_count": null,
      "outputs": [
        {
          "output_type": "stream",
          "text": [
            "100\n",
            "300\n",
            "8\n"
          ],
          "name": "stdout"
        }
      ]
    },
    {
      "cell_type": "code",
      "metadata": {
        "id": "_iTW9r1ys6IY",
        "colab": {
          "base_uri": "https://localhost:8080/"
        },
        "outputId": "266a1c2a-1c62-4073-f892-ba0d3134123a"
      },
      "source": [
        "#range\n",
        "\n",
        "for x in range(2, 7):\n",
        "    print(x)"
      ],
      "execution_count": null,
      "outputs": [
        {
          "output_type": "stream",
          "text": [
            "2\n",
            "3\n",
            "4\n",
            "5\n",
            "6\n"
          ],
          "name": "stdout"
        }
      ]
    },
    {
      "cell_type": "code",
      "metadata": {
        "id": "JL38ZM94s6IY",
        "colab": {
          "base_uri": "https://localhost:8080/"
        },
        "outputId": "5116b50c-c37b-4841-a414-ce037bcb2568"
      },
      "source": [
        "#we can try with tuples\n",
        "tuple1 = (\"new\", 'tuple', 1,2,2)\n",
        "\n",
        "for i in tuple1:\n",
        "    print(i)"
      ],
      "execution_count": null,
      "outputs": [
        {
          "output_type": "stream",
          "text": [
            "new\n",
            "tuple\n",
            "1\n",
            "2\n",
            "2\n"
          ],
          "name": "stdout"
        }
      ]
    },
    {
      "cell_type": "code",
      "metadata": {
        "id": "v-O3d9ETs6IY",
        "colab": {
          "base_uri": "https://localhost:8080/"
        },
        "outputId": "9af781d2-5c71-4978-b803-f1084b31d1f1"
      },
      "source": [
        "#tuples within a list\n",
        "cities_continents = [('Alexandria', 'Africa'),('Berlin', 'Europe')\\\n",
        "                     ,('New York', 'North America'),\\\n",
        "                     ('Mexico City', 'North America')]\n",
        "cities_continents"
      ],
      "execution_count": null,
      "outputs": [
        {
          "output_type": "execute_result",
          "data": {
            "text/plain": [
              "[('Alexandria', 'Africa'),\n",
              " ('Berlin', 'Europe'),\n",
              " ('New York', 'North America'),\n",
              " ('Mexico City', 'North America')]"
            ]
          },
          "metadata": {
            "tags": []
          },
          "execution_count": 78
        }
      ]
    },
    {
      "cell_type": "markdown",
      "metadata": {
        "id": "QiBhvsY5s6IZ"
      },
      "source": [
        "**Excercise**"
      ]
    },
    {
      "cell_type": "code",
      "metadata": {
        "collapsed": true,
        "id": "_VUtEbSys6IZ"
      },
      "source": [
        "#what if we want to always print out the the city and its corresponding continent\n",
        "#there are several ways to do this\n"
      ],
      "execution_count": null,
      "outputs": []
    },
    {
      "cell_type": "code",
      "metadata": {
        "id": "fcrvs4gws6IZ",
        "colab": {
          "base_uri": "https://localhost:8080/"
        },
        "outputId": "055b070a-43bb-4771-d393-e971f70b5a41"
      },
      "source": [
        "#answer \n",
        "\n",
        "for i in cities_continents:\n",
        "    print(i[0],i[1])\n"
      ],
      "execution_count": null,
      "outputs": [
        {
          "output_type": "stream",
          "text": [
            "Alexandria Africa\n",
            "Berlin Europe\n",
            "New York North America\n",
            "Mexico City North America\n"
          ],
          "name": "stdout"
        }
      ]
    },
    {
      "cell_type": "markdown",
      "metadata": {
        "id": "hfEU5UT1p8Z5"
      },
      "source": [
        "**Indentation is important**"
      ]
    },
    {
      "cell_type": "code",
      "metadata": {
        "id": "GKMwRgcis6Ia",
        "colab": {
          "base_uri": "https://localhost:8080/"
        },
        "outputId": "d2dc9df3-1b98-4b5e-b27f-4364c4853cb8"
      },
      "source": [
        "counter=0\n",
        "for i in range(10):\n",
        "    counter = counter + 1\n",
        "print (counter)"
      ],
      "execution_count": null,
      "outputs": [
        {
          "output_type": "stream",
          "text": [
            "10\n"
          ],
          "name": "stdout"
        }
      ]
    },
    {
      "cell_type": "markdown",
      "metadata": {
        "id": "1zonxdMIs6Ia"
      },
      "source": [
        "We set the value 0 to the variable counter<br/>\n",
        "we tell python for numbers in the range 10, keep adding 1 to each of them<br/>\n",
        "*important: we start with 0*\n",
        "\n",
        "\n",
        "|Iteration #|Calculation|Result|\n",
        "|-----------|:----------|:-----|\n",
        "|1| 0+1|=1|\n",
        "|2| 1+1|=2|\n",
        "|3| 2+1|=3|\n",
        "|4| 3+1|=4|\n",
        "|5| 4+1|=5|\n",
        "|6| 5+1|=6|\n",
        "|7| 6+1|=7|\n",
        "|8| 7+1|=8|\n",
        "|9| 8+1|=9|\n",
        "|10| 9+1|=10|"
      ]
    },
    {
      "cell_type": "code",
      "metadata": {
        "collapsed": true,
        "id": "tk9jxbcqs6Ia"
      },
      "source": [
        "\n"
      ],
      "execution_count": null,
      "outputs": []
    },
    {
      "cell_type": "markdown",
      "metadata": {
        "id": "j0A549tDs6Ib"
      },
      "source": [
        "**Continue and break statements in for-loops**\n",
        "\n",
        "- Use break when you want to escape the loop\n",
        "- Use continue to continue with the next iteration of the loop after a specified value"
      ]
    },
    {
      "cell_type": "code",
      "metadata": {
        "id": "7vITHgzms6Ib",
        "colab": {
          "base_uri": "https://localhost:8080/"
        },
        "outputId": "a0f215fb-449c-46cd-cfcd-31d1e9025187"
      },
      "source": [
        "greeting = \"Good-morning\"\n",
        "\n",
        "for l in greeting:\n",
        "    print(l)\n",
        "    if l ==\"m\":\n",
        "        break"
      ],
      "execution_count": null,
      "outputs": [
        {
          "output_type": "stream",
          "text": [
            "G\n",
            "o\n",
            "o\n",
            "d\n",
            "-\n",
            "m\n"
          ],
          "name": "stdout"
        }
      ]
    },
    {
      "cell_type": "code",
      "metadata": {
        "id": "hCay3xvMs6Ib",
        "colab": {
          "base_uri": "https://localhost:8080/"
        },
        "outputId": "947cb071-5db7-4330-b429-6ff73173de7e"
      },
      "source": [
        "word = \"Good-morning\"\n",
        "\n",
        "for letter in word:\n",
        "    if letter ==\"o\":\n",
        "        continue\n",
        "    print(letter)"
      ],
      "execution_count": null,
      "outputs": [
        {
          "output_type": "stream",
          "text": [
            "G\n",
            "d\n",
            "-\n",
            "m\n",
            "r\n",
            "n\n",
            "i\n",
            "n\n",
            "g\n"
          ],
          "name": "stdout"
        }
      ]
    },
    {
      "cell_type": "markdown",
      "metadata": {
        "collapsed": true,
        "id": "iX0DW8nes6Ib"
      },
      "source": [
        "## If-else-statements with loops - Conditional Statements\n",
        "\n"
      ]
    },
    {
      "cell_type": "markdown",
      "metadata": {
        "id": "zp7SgZeWs6Ic"
      },
      "source": [
        "### Lets start with simple cases"
      ]
    },
    {
      "cell_type": "code",
      "metadata": {
        "id": "BLsrr8COs6Ic",
        "colab": {
          "base_uri": "https://localhost:8080/"
        },
        "outputId": "58bd3cef-f070-4781-f7f6-c9690c53785d"
      },
      "source": [
        "#if then loop\n",
        "\n",
        "for i in range(10): #for all numbers in the range from 0-9\n",
        "    if i < 5: # print the numbers that are less then 5\n",
        "        print (i)\n",
        "        \n",
        "    "
      ],
      "execution_count": null,
      "outputs": [
        {
          "output_type": "stream",
          "text": [
            "0\n",
            "1\n",
            "2\n",
            "3\n",
            "4\n"
          ],
          "name": "stdout"
        }
      ]
    },
    {
      "cell_type": "code",
      "metadata": {
        "collapsed": true,
        "id": "j-yl4DFKs6Ic",
        "colab": {
          "base_uri": "https://localhost:8080/"
        },
        "outputId": "17f9d5ba-2bc2-4313-982a-f8bbf7f64a25"
      },
      "source": [
        "time_appointment = 13\n",
        "time_showup = 14\n",
        "\n",
        "\n",
        "if(time_showup > 13):\n",
        "    print(\"You are late!\")"
      ],
      "execution_count": null,
      "outputs": [
        {
          "output_type": "stream",
          "text": [
            "You are late!\n"
          ],
          "name": "stdout"
        }
      ]
    },
    {
      "cell_type": "markdown",
      "metadata": {
        "id": "0cRvmPxOs6Ic"
      },
      "source": [
        "### If-else statements\n"
      ]
    },
    {
      "cell_type": "code",
      "metadata": {
        "id": "XMpdiBWws6Id",
        "colab": {
          "base_uri": "https://localhost:8080/"
        },
        "outputId": "730b9e92-597a-4fa0-d13a-38078479b0d3"
      },
      "source": [
        "#indentation matters\n",
        "#check the structure\n",
        "\n",
        "for item in ['Python', 'is', 'really', 'useful', 'right?']:\n",
        "    if item.startswith('r'): # important function to note\n",
        "        print(item, '- starts with the letter r')\n",
        "    else:\n",
        "        print(item, '- doesnt start with the letter r')"
      ],
      "execution_count": null,
      "outputs": [
        {
          "output_type": "stream",
          "text": [
            "Python - doesnt start with the letter r\n",
            "is - doesnt start with the letter r\n",
            "really - starts with the letter r\n",
            "useful - doesnt start with the letter r\n",
            "right? - starts with the letter r\n"
          ],
          "name": "stdout"
        }
      ]
    },
    {
      "cell_type": "markdown",
      "metadata": {
        "id": "K6hnRoP2s6Id"
      },
      "source": [
        "What is going on in here?\n",
        "\n",
        "- For each item in the list\n",
        "- iIf the item starts with the letter r (use startswith() function)\n",
        "- Then print the item name and the sentence \"starts with letter r\"\n",
        "- ELSE: If the item doesnt start with the letter r - this is why we use else\n",
        "- Then print the item name and the sentence \"doesnt starts with letter r\""
      ]
    },
    {
      "cell_type": "markdown",
      "metadata": {
        "id": "cLlakrbNs6Id"
      },
      "source": [
        "### If-elif-else statement\n",
        "\n",
        "We check different conditions if they hold\n",
        "\n",
        "- check multiple expressions for TRUE \n",
        "- run code until one of the conditions becomes to TRUE\n",
        "- if no condition is found to be TRUE, else will be executed"
      ]
    },
    {
      "cell_type": "code",
      "metadata": {
        "id": "JCLlX9lIs6Id",
        "colab": {
          "base_uri": "https://localhost:8080/"
        },
        "outputId": "f070da93-0c98-46a3-cdf9-a0ac71da63f8"
      },
      "source": [
        "luckynumber = 100\n",
        "\n",
        "if luckynumber == 200:\n",
        "    print (\"Nop\")\n",
        "elif luckynumber == 150:\n",
        "    print (\"Still no\")\n",
        "elif luckynumber == 100:\n",
        "    print (\"Yes thats it\")\n",
        "elif luckynumber == 90:\n",
        "    print (\"so close\")\n",
        "else:\n",
        "    print (\"You are not even close\")\n"
      ],
      "execution_count": null,
      "outputs": [
        {
          "output_type": "stream",
          "text": [
            "Yes thats it\n"
          ],
          "name": "stdout"
        }
      ]
    },
    {
      "cell_type": "code",
      "metadata": {
        "id": "bfEn_Nd2s6Ie",
        "colab": {
          "base_uri": "https://localhost:8080/"
        },
        "outputId": "3803b5dd-116a-4619-bea7-344c82752eb7"
      },
      "source": [
        "if luckynumber == 200:\n",
        "    print (\"Nop\")\n",
        "elif luckynumber == 150:\n",
        "    print (\"Still no\")\n",
        "elif luckynumber == 90:\n",
        "    print (\"close\")\n",
        "elif luckynumber == 99:\n",
        "    print (\"so close\")\n",
        "else:\n",
        "    print (\"You dont know my lucky number\")"
      ],
      "execution_count": null,
      "outputs": [
        {
          "output_type": "stream",
          "text": [
            "You dont know my lucky number\n"
          ],
          "name": "stdout"
        }
      ]
    },
    {
      "cell_type": "markdown",
      "metadata": {
        "id": "4aJ-vm1Ds6If"
      },
      "source": [
        "## While statements in Python\n",
        "\n",
        "**Repeats a statement while a given condition is TRUE. **\n",
        "\n",
        "**Difference while and for loops**\n",
        "\n",
        "while loop - used for looping until a condition is satisfied and when we are unsure how many times the code should be running in the loop\n",
        "\n",
        "for loop - used for looping until a condition is satisfied but it is used when you know how many times the code needs to run in the loop"
      ]
    },
    {
      "cell_type": "code",
      "metadata": {
        "id": "lFMYz4OZs6If",
        "colab": {
          "base_uri": "https://localhost:8080/"
        },
        "outputId": "52909292-1619-4b4c-bd95-e4a1f83f860d"
      },
      "source": [
        "count = 0\n",
        "while count < 5:\n",
        "    print(count)\n",
        "    count += 1  # This is a statement to update the counter, add 1 to count and put the result of that addition back into acount."
      ],
      "execution_count": null,
      "outputs": [
        {
          "output_type": "stream",
          "text": [
            "0\n",
            "1\n",
            "2\n",
            "3\n",
            "4\n"
          ],
          "name": "stdout"
        }
      ]
    },
    {
      "cell_type": "code",
      "metadata": {
        "id": "3E8WPseKs6If"
      },
      "source": [
        "#count = 0\n",
        "#while count < 5:\n",
        "   # print(count)\n",
        "      #indefinite loop"
      ],
      "execution_count": null,
      "outputs": []
    },
    {
      "cell_type": "code",
      "metadata": {
        "id": "VgyTmoPHs6Ig",
        "colab": {
          "base_uri": "https://localhost:8080/"
        },
        "outputId": "c4af595a-ccca-4f46-d017-39cc35066e39"
      },
      "source": [
        "#remove one by one\n",
        "a = ['a', 'b', 'c']\n",
        "while a:\n",
        "     print(a.pop(-1))"
      ],
      "execution_count": null,
      "outputs": [
        {
          "output_type": "stream",
          "text": [
            "c\n",
            "b\n",
            "a\n"
          ],
          "name": "stdout"
        }
      ]
    },
    {
      "cell_type": "code",
      "metadata": {
        "colab": {
          "base_uri": "https://localhost:8080/"
        },
        "id": "L4ooVognwSbG",
        "outputId": "e0b122ea-d8b5-4bec-a98c-ac759a4d5840"
      },
      "source": [
        "a"
      ],
      "execution_count": null,
      "outputs": [
        {
          "output_type": "execute_result",
          "data": {
            "text/plain": [
              "[]"
            ]
          },
          "metadata": {
            "tags": []
          },
          "execution_count": 92
        }
      ]
    },
    {
      "cell_type": "code",
      "metadata": {
        "id": "Xn7nYh5Rs6Ig",
        "colab": {
          "base_uri": "https://localhost:8080/"
        },
        "outputId": "ac9484cd-e6e6-4f1b-c1b5-5282243b219f"
      },
      "source": [
        "n = 5\n",
        "while n > 0:\n",
        "    n -= 1 #Accummulator loop pattern a-=d same as a=a-d\n",
        "    if n == 2:\n",
        "        continue\n",
        "    print(n)\n",
        "print('End')"
      ],
      "execution_count": null,
      "outputs": [
        {
          "output_type": "stream",
          "text": [
            "4\n",
            "3\n",
            "1\n",
            "0\n",
            "End\n"
          ],
          "name": "stdout"
        }
      ]
    },
    {
      "cell_type": "markdown",
      "metadata": {
        "id": "DKC7115Ts6Ig"
      },
      "source": [
        "# Appending: Storing items in a list"
      ]
    },
    {
      "cell_type": "code",
      "metadata": {
        "id": "ASxw6VR-s6Ig",
        "colab": {
          "base_uri": "https://localhost:8080/"
        },
        "outputId": "0d2dbc5b-2cad-411a-caef-fefae0da36cc"
      },
      "source": [
        "list1 = []\n",
        "for i in range(2, 4): # python will discard in that range the last number which is 4\n",
        "    list1.append(i*2)\n",
        "    \n",
        "list1"
      ],
      "execution_count": null,
      "outputs": [
        {
          "output_type": "execute_result",
          "data": {
            "text/plain": [
              "[4, 6]"
            ]
          },
          "metadata": {
            "tags": []
          },
          "execution_count": 94
        }
      ]
    },
    {
      "cell_type": "code",
      "metadata": {
        "id": "V786o89Ns6Ih",
        "colab": {
          "base_uri": "https://localhost:8080/"
        },
        "outputId": "4f65720a-afa6-4985-d376-d5de7d846e8f"
      },
      "source": [
        "#list of lists\n",
        "\n",
        "\n",
        "cities = [ ['Alexandria', 'Cairo', 'Suez', 'Ismalia',\"Africa\",4], \n",
        "             ['Berlin', 'Mannheim', 'Cologne', 'Munich',\"Europe\",4], \n",
        "             ['London', 'Oxford','Cambridge', 'Manchester',\"Europe\",5] ]\n",
        "\n",
        "european_list = []\n",
        "\"\"\"I want to save a new list that I will call european_list.\n",
        "Where if the nested list mentions Europe, I will extract the second city,\n",
        "which means my list will have Mannheim and Oxford in them.\n",
        "How can I do this?\n",
        "\"\"\"\n",
        "for city in cities:\n",
        "    if city[4]==\"Europe\":\n",
        "        european_list.append(city[1])\n",
        "european_list"
      ],
      "execution_count": null,
      "outputs": [
        {
          "output_type": "execute_result",
          "data": {
            "text/plain": [
              "['Mannheim', 'Oxford']"
            ]
          },
          "metadata": {
            "tags": []
          },
          "execution_count": 95
        }
      ]
    },
    {
      "cell_type": "markdown",
      "metadata": {
        "id": "vSQleGHQs6Ih"
      },
      "source": [
        "## Small overview of list comprehension again - reviewing what we have learned\n",
        "list_variable = [x for x in iterable]\n",
        "\n"
      ]
    },
    {
      "cell_type": "code",
      "metadata": {
        "id": "LDf__f7cs6Ih",
        "colab": {
          "base_uri": "https://localhost:8080/"
        },
        "outputId": "e642cb08-25d1-4dbb-8a1c-6436ce100495"
      },
      "source": [
        "a = [x**2 for x in range(10)]\n",
        "b = [2*m for m in range(13)]\n",
        "c = [i for i in b if i== 12] #here we add a conditional statement\n",
        "print(a)\n",
        "print(b)\n",
        "print(c)\n",
        "list2 = [\"a\" for x in range(10)]\n",
        "print(list2)"
      ],
      "execution_count": null,
      "outputs": [
        {
          "output_type": "stream",
          "text": [
            "[0, 1, 4, 9, 16, 25, 36, 49, 64, 81]\n",
            "[0, 2, 4, 6, 8, 10, 12, 14, 16, 18, 20, 22, 24]\n",
            "[12]\n",
            "['a', 'a', 'a', 'a', 'a', 'a', 'a', 'a', 'a', 'a']\n"
          ],
          "name": "stdout"
        }
      ]
    },
    {
      "cell_type": "markdown",
      "metadata": {
        "id": "lhWsv2aEs6Ii"
      },
      "source": [
        "**Alternative to for loops**\n",
        "\n",
        "Lets say I want to create a list"
      ]
    },
    {
      "cell_type": "code",
      "metadata": {
        "id": "W_yA4wGls6Ii",
        "colab": {
          "base_uri": "https://localhost:8080/"
        },
        "outputId": "4cd4d987-570e-49e9-c416-0b1d28ab2edb"
      },
      "source": [
        "randomrange=range(5)#[0,1,2,3,4]\n",
        "loopoption = []\n",
        "\n",
        "# Add values to `new_list`\n",
        "for x in randomrange:\n",
        "    if x/2==0:\n",
        "        loopoption.append(x+1)\n",
        "\n",
        "# Print `new_list`\n",
        "print(loopoption)"
      ],
      "execution_count": null,
      "outputs": [
        {
          "output_type": "stream",
          "text": [
            "[1]\n"
          ],
          "name": "stdout"
        }
      ]
    },
    {
      "cell_type": "code",
      "metadata": {
        "id": "gJYTxpBQs6Ii",
        "colab": {
          "base_uri": "https://localhost:8080/"
        },
        "outputId": "161befe5-0654-41e2-f5e5-18a83dfe3f48"
      },
      "source": [
        "comprehesionoption = [x+1 for x in randomrange if x/2==0]\n",
        "comprehesionoption"
      ],
      "execution_count": null,
      "outputs": [
        {
          "output_type": "execute_result",
          "data": {
            "text/plain": [
              "[1]"
            ]
          },
          "metadata": {
            "tags": []
          },
          "execution_count": 98
        }
      ]
    },
    {
      "cell_type": "markdown",
      "metadata": {
        "id": "iXZfyQdcs6Ii"
      },
      "source": [
        "From earlier"
      ]
    },
    {
      "cell_type": "code",
      "metadata": {
        "collapsed": true,
        "id": "lB-s3_YEs6Ij"
      },
      "source": [
        "random = 'Today is a sunny day, I need some Vitamin D'\n"
      ],
      "execution_count": null,
      "outputs": []
    },
    {
      "cell_type": "code",
      "metadata": {
        "id": "03XIKTGbs6Ij",
        "colab": {
          "base_uri": "https://localhost:8080/"
        },
        "outputId": "7f4749f2-ad10-4c43-e74c-20dfb8174da3"
      },
      "source": [
        "random_lower = [x.lower() for x in random.split()] #What does split do here?\n",
        "random_lower"
      ],
      "execution_count": null,
      "outputs": [
        {
          "output_type": "execute_result",
          "data": {
            "text/plain": [
              "['today', 'is', 'a', 'sunny', 'day,', 'i', 'need', 'some', 'vitamin', 'd']"
            ]
          },
          "metadata": {
            "tags": []
          },
          "execution_count": 100
        }
      ]
    },
    {
      "cell_type": "code",
      "metadata": {
        "collapsed": true,
        "id": "lzlAxQsYs6Ij"
      },
      "source": [
        "#What does split do?\n",
        "random_lower = [x.lower() for x in random] "
      ],
      "execution_count": null,
      "outputs": []
    },
    {
      "cell_type": "markdown",
      "metadata": {
        "id": "XorNJsshs6Ij"
      },
      "source": [
        "# Functions\n",
        "\n",
        "Why do we need functions?\n",
        "\n",
        "- Lets say I have 100 different datasets that have different column names.\n",
        "- I want uniform column names to all of them to be able to merge them\n",
        "- I can rename the variables of each of the 100 datasets by writing 100 lines of code\n",
        "- *OR I can write one function that takes the names of the different datasets in and does the work for me*\n",
        "\n",
        "How do we use functions\n",
        "\n",
        "- A function starts with the def command\n",
        "- return ends the function and prints out the results"
      ]
    },
    {
      "cell_type": "code",
      "metadata": {
        "collapsed": true,
        "id": "VbmaCXVYs6Ij"
      },
      "source": [
        "def anything(x):\n",
        "    result = x**1 + 100\n",
        "    return (result) # ends the "
      ],
      "execution_count": null,
      "outputs": []
    },
    {
      "cell_type": "markdown",
      "metadata": {
        "id": "li3r1lfJs6Ik"
      },
      "source": [
        "to call a function"
      ]
    },
    {
      "cell_type": "code",
      "metadata": {
        "id": "p5eR-9n2s6Ik",
        "colab": {
          "base_uri": "https://localhost:8080/"
        },
        "outputId": "1e67ecc4-1216-41dd-ba45-994bbaaabdf7"
      },
      "source": [
        "anything(5)"
      ],
      "execution_count": null,
      "outputs": [
        {
          "output_type": "execute_result",
          "data": {
            "text/plain": [
              "105"
            ]
          },
          "metadata": {
            "tags": []
          },
          "execution_count": 103
        }
      ]
    },
    {
      "cell_type": "markdown",
      "metadata": {
        "id": "YJfC0cSbyo-I"
      },
      "source": [
        "Using functions and appending lists"
      ]
    },
    {
      "cell_type": "code",
      "metadata": {
        "collapsed": true,
        "id": "hNiCIojzs6Ik"
      },
      "source": [
        "def y(x):\n",
        "    result=pow(2,x)/2 #The pow() function returns the value of x to the power of y\n",
        "    return (result)\n",
        "\n"
      ],
      "execution_count": null,
      "outputs": []
    },
    {
      "cell_type": "code",
      "metadata": {
        "collapsed": true,
        "id": "qBWcfSzds6Ik"
      },
      "source": [
        "#Appending lists\n",
        "xvalues=[]\n",
        "yvalues=[]\n",
        "for x in range(0,10): \n",
        "    xvalues.append(x)\n",
        "    yvalues.append(y(x))"
      ],
      "execution_count": null,
      "outputs": []
    },
    {
      "cell_type": "code",
      "metadata": {
        "id": "fMUDaQgAs6Il",
        "colab": {
          "base_uri": "https://localhost:8080/"
        },
        "outputId": "6d3b2705-29d4-43d8-c714-19999277d8e8"
      },
      "source": [
        "xvalues"
      ],
      "execution_count": null,
      "outputs": [
        {
          "output_type": "execute_result",
          "data": {
            "text/plain": [
              "[0, 1, 2, 3, 4, 5, 6, 7, 8, 9]"
            ]
          },
          "metadata": {
            "tags": []
          },
          "execution_count": 106
        }
      ]
    },
    {
      "cell_type": "code",
      "metadata": {
        "id": "mZFHTv9Vs6Il",
        "colab": {
          "base_uri": "https://localhost:8080/"
        },
        "outputId": "75b5b849-e6fb-48b3-9ce7-1f39a0788ba6"
      },
      "source": [
        "yvalues"
      ],
      "execution_count": null,
      "outputs": [
        {
          "output_type": "execute_result",
          "data": {
            "text/plain": [
              "[0.5, 1.0, 2.0, 4.0, 8.0, 16.0, 32.0, 64.0, 128.0, 256.0]"
            ]
          },
          "metadata": {
            "tags": []
          },
          "execution_count": 107
        }
      ]
    },
    {
      "cell_type": "code",
      "metadata": {
        "collapsed": true,
        "id": "NqQn-QwXs6Il"
      },
      "source": [
        ""
      ],
      "execution_count": null,
      "outputs": []
    },
    {
      "cell_type": "code",
      "metadata": {
        "collapsed": true,
        "id": "oUWIvXjUs6Il"
      },
      "source": [
        ""
      ],
      "execution_count": null,
      "outputs": []
    },
    {
      "cell_type": "markdown",
      "metadata": {
        "id": "yKyVPsads6I9"
      },
      "source": [
        "# Excercises"
      ]
    },
    {
      "cell_type": "markdown",
      "metadata": {
        "id": "AHx6he-plbBm"
      },
      "source": [
        "**Excercise 1**\n",
        "\n",
        "Focusing on manipulating lists!\n",
        "\n",
        "1. count how many times bananas occur\n",
        "2. save last item in the list in the variable \"oneitem\"\n",
        "3. save the third item in the list in the variable \"thirditem\"\n",
        "4. return the items from the beginning to \"chocolate\"\n",
        "5. add a new element to the list called \"beef\"\n",
        "6. remove first element of list, uses pop function\n",
        "7. Insert \"grapes\" instead of oranges\n",
        "8. sort this list in ascending numbers, numbers=[1,9,8,5,2,7]\n",
        "Make sure you dont overwrite the original list (by creating new lists)"
      ]
    },
    {
      "cell_type": "code",
      "metadata": {
        "id": "O1GzZHxV0D2c"
      },
      "source": [
        "food=[\"apples\",\"oranges\",\"bananas\",\"chocolate\",\"strawberries\",\"bananas\"]\n"
      ],
      "execution_count": null,
      "outputs": []
    },
    {
      "cell_type": "code",
      "metadata": {
        "colab": {
          "base_uri": "https://localhost:8080/"
        },
        "id": "dVTpVdp_0ERr",
        "outputId": "81de39b6-f9b7-4845-eb26-c5f71be70865"
      },
      "source": [
        "#solution\n",
        "#1\n",
        "food.count(\"bananas\")"
      ],
      "execution_count": null,
      "outputs": [
        {
          "output_type": "execute_result",
          "data": {
            "text/plain": [
              "2"
            ]
          },
          "metadata": {
            "tags": []
          },
          "execution_count": 109
        }
      ]
    },
    {
      "cell_type": "code",
      "metadata": {
        "colab": {
          "base_uri": "https://localhost:8080/",
          "height": 35
        },
        "id": "buVZYi4O0KdS",
        "outputId": "25864627-4a9f-4d72-853b-b19f9e022cbf"
      },
      "source": [
        "#2\n",
        "#negative indexing, you receive last item\n",
        "oneitem=food[-1] \n",
        "oneitem"
      ],
      "execution_count": null,
      "outputs": [
        {
          "output_type": "execute_result",
          "data": {
            "application/vnd.google.colaboratory.intrinsic+json": {
              "type": "string"
            },
            "text/plain": [
              "'bananas'"
            ]
          },
          "metadata": {
            "tags": []
          },
          "execution_count": 110
        }
      ]
    },
    {
      "cell_type": "code",
      "metadata": {
        "colab": {
          "base_uri": "https://localhost:8080/",
          "height": 35
        },
        "id": "7mvfQy0w0KjA",
        "outputId": "62fb136c-cd76-4b31-df62-a59d3e0c7381"
      },
      "source": [
        "#3\n",
        "thirditem=food[2] \n",
        "thirditem"
      ],
      "execution_count": null,
      "outputs": [
        {
          "output_type": "execute_result",
          "data": {
            "application/vnd.google.colaboratory.intrinsic+json": {
              "type": "string"
            },
            "text/plain": [
              "'bananas'"
            ]
          },
          "metadata": {
            "tags": []
          },
          "execution_count": 111
        }
      ]
    },
    {
      "cell_type": "code",
      "metadata": {
        "colab": {
          "base_uri": "https://localhost:8080/"
        },
        "id": "b1aOI8Cf0Kn2",
        "outputId": "eb3b8cc2-5220-4518-b042-d7de250d4313"
      },
      "source": [
        "#4\n",
        "print(food[:4]) #By leaving out the end value, the range will go on to the end of the list\n"
      ],
      "execution_count": null,
      "outputs": [
        {
          "output_type": "stream",
          "text": [
            "['apples', 'oranges', 'bananas', 'chocolate']\n"
          ],
          "name": "stdout"
        }
      ]
    },
    {
      "cell_type": "code",
      "metadata": {
        "colab": {
          "base_uri": "https://localhost:8080/"
        },
        "id": "P2RIiqqG0KsM",
        "outputId": "3e5d6423-e07b-42b9-a7a9-834cf4661053"
      },
      "source": [
        "#5\n",
        "# add a new element\n",
        "food2=food\n",
        "food2.append(\"beef\")\n",
        "\n",
        "print(food)"
      ],
      "execution_count": null,
      "outputs": [
        {
          "output_type": "stream",
          "text": [
            "['apples', 'oranges', 'bananas', 'chocolate', 'strawberries', 'bananas', 'beef']\n"
          ],
          "name": "stdout"
        }
      ]
    },
    {
      "cell_type": "code",
      "metadata": {
        "colab": {
          "base_uri": "https://localhost:8080/"
        },
        "id": "i-Pbx1YD0K2P",
        "outputId": "fae32542-b49b-4220-f9e0-aa703025c238"
      },
      "source": [
        "# 6\n",
        "# remove an element\n",
        "food3=food\n",
        "food3.pop(0)\n",
        "\n",
        "print (food)"
      ],
      "execution_count": null,
      "outputs": [
        {
          "output_type": "stream",
          "text": [
            "['oranges', 'bananas', 'chocolate', 'strawberries', 'bananas', 'beef']\n"
          ],
          "name": "stdout"
        }
      ]
    },
    {
      "cell_type": "code",
      "metadata": {
        "colab": {
          "base_uri": "https://localhost:8080/"
        },
        "id": "18kQMvj80K_F",
        "outputId": "4cb3984e-5c61-487d-8d7a-1bec46c6d4a5"
      },
      "source": [
        "#7\n",
        "food4=food\n",
        "food4.insert(2,\"grapes\")   # Insert item at position i\n",
        "food"
      ],
      "execution_count": null,
      "outputs": [
        {
          "output_type": "execute_result",
          "data": {
            "text/plain": [
              "['oranges',\n",
              " 'bananas',\n",
              " 'grapes',\n",
              " 'chocolate',\n",
              " 'strawberries',\n",
              " 'bananas',\n",
              " 'beef']"
            ]
          },
          "metadata": {
            "tags": []
          },
          "execution_count": 115
        }
      ]
    },
    {
      "cell_type": "code",
      "metadata": {
        "colab": {
          "base_uri": "https://localhost:8080/"
        },
        "id": "NGqjo2Np0LHq",
        "outputId": "baaa4665-ab4f-4ff2-ce2e-707923fb589c"
      },
      "source": [
        "#8\n",
        "numbers=[1,9,8,5,2,7]\n",
        "numbers.sort()\n",
        "numbers"
      ],
      "execution_count": null,
      "outputs": [
        {
          "output_type": "execute_result",
          "data": {
            "text/plain": [
              "[1, 2, 5, 7, 8, 9]"
            ]
          },
          "metadata": {
            "tags": []
          },
          "execution_count": 116
        }
      ]
    },
    {
      "cell_type": "markdown",
      "metadata": {
        "id": "uAZh6NSSlbG6"
      },
      "source": [
        "**Excercise 2**\n",
        "\n",
        "Add space between every letter of the string below"
      ]
    },
    {
      "cell_type": "code",
      "metadata": {
        "id": "VvPbKxjalbLA"
      },
      "source": [
        "string4=\"Test String\"\n"
      ],
      "execution_count": null,
      "outputs": []
    },
    {
      "cell_type": "code",
      "metadata": {
        "colab": {
          "base_uri": "https://localhost:8080/"
        },
        "id": "lh4dJlih0a0m",
        "outputId": "c7ced0d6-b73f-4902-ca9a-1831931d7967"
      },
      "source": [
        "#solution\n",
        "\n",
        "string_revised=\" \".join(string4)\n",
        "print (string_revised)"
      ],
      "execution_count": null,
      "outputs": [
        {
          "output_type": "stream",
          "text": [
            "T e s t   S t r i n g\n"
          ],
          "name": "stdout"
        }
      ]
    },
    {
      "cell_type": "markdown",
      "metadata": {
        "id": "bvD4LNyClbPe"
      },
      "source": [
        "**Excercise 3**\n",
        "\n",
        "Dictionaries\n",
        "\n",
        "1. print all keys in the dictionary below\n",
        "2. print all values in the dictionary below"
      ]
    },
    {
      "cell_type": "code",
      "metadata": {
        "id": "0ZVsO2wflbXD"
      },
      "source": [
        "phd_dictionary={\"teaching\": 2,\"dissertation\":10,\"coffee\":20}"
      ],
      "execution_count": null,
      "outputs": []
    },
    {
      "cell_type": "code",
      "metadata": {
        "colab": {
          "base_uri": "https://localhost:8080/"
        },
        "id": "4nIDdeIF0dkD",
        "outputId": "f572e00e-b1c9-4574-db7a-ad68398d2c6d"
      },
      "source": [
        "#solution\n",
        "phd_dictionary_keys = phd_dictionary.keys()\n",
        "phd_dictionary_keys"
      ],
      "execution_count": null,
      "outputs": [
        {
          "output_type": "execute_result",
          "data": {
            "text/plain": [
              "dict_keys(['teaching', 'dissertation', 'coffee'])"
            ]
          },
          "metadata": {
            "tags": []
          },
          "execution_count": 120
        }
      ]
    },
    {
      "cell_type": "code",
      "metadata": {
        "colab": {
          "base_uri": "https://localhost:8080/"
        },
        "id": "ywasz53R0h5d",
        "outputId": "bd3b7ad2-2d8d-4219-bffe-b850dc8a7270"
      },
      "source": [
        "phd_dictionary_values = phd_dictionary.values()\n",
        "phd_dictionary_values"
      ],
      "execution_count": null,
      "outputs": [
        {
          "output_type": "execute_result",
          "data": {
            "text/plain": [
              "dict_values([2, 10, 20])"
            ]
          },
          "metadata": {
            "tags": []
          },
          "execution_count": 121
        }
      ]
    },
    {
      "cell_type": "markdown",
      "metadata": {
        "id": "6BATThvDlbbn"
      },
      "source": [
        "**Excercise 4**\n",
        "\n",
        "List comprehension: <br>\n",
        "1. Split the sentece below, into list items\n",
        "2. Lowercase all words\n",
        "2. Count the number of charcters for every word in the list, excluding the word \"the\"\n",
        "\n",
        "Use list comprehesion to perform 2 and 3"
      ]
    },
    {
      "cell_type": "code",
      "metadata": {
        "id": "oOeJ2mBAlbfX"
      },
      "source": [
        "sentence = \"The hand sanitizer was actually clear glue.\"\n"
      ],
      "execution_count": null,
      "outputs": []
    },
    {
      "cell_type": "code",
      "metadata": {
        "colab": {
          "base_uri": "https://localhost:8080/"
        },
        "id": "aB4-z6940mJ1",
        "outputId": "01730a4c-f61c-4b95-969a-4c8266dc60c3"
      },
      "source": [
        "#solution\n",
        "words = sentence.split()\n",
        "words"
      ],
      "execution_count": null,
      "outputs": [
        {
          "output_type": "execute_result",
          "data": {
            "text/plain": [
              "['The', 'hand', 'sanitizer', 'was', 'actually', 'clear', 'glue.']"
            ]
          },
          "metadata": {
            "tags": []
          },
          "execution_count": 123
        }
      ]
    },
    {
      "cell_type": "code",
      "metadata": {
        "colab": {
          "base_uri": "https://localhost:8080/"
        },
        "id": "UgJbQzoe0ooh",
        "outputId": "53bf1c32-90b4-4cde-f98f-69655ee8dd27"
      },
      "source": [
        "words_lower = [item.lower() for item in words]\n",
        "words_lower"
      ],
      "execution_count": null,
      "outputs": [
        {
          "output_type": "execute_result",
          "data": {
            "text/plain": [
              "['the', 'hand', 'sanitizer', 'was', 'actually', 'clear', 'glue.']"
            ]
          },
          "metadata": {
            "tags": []
          },
          "execution_count": 124
        }
      ]
    },
    {
      "cell_type": "code",
      "metadata": {
        "colab": {
          "base_uri": "https://localhost:8080/"
        },
        "id": "GgdidEIW0otE",
        "outputId": "6e3ed098-2cbe-4fe3-c006-2e8789ae7e59"
      },
      "source": [
        "word_lengths = [len(word) for word in words_lower if word != \"the\"]\n",
        "print(word_lengths)"
      ],
      "execution_count": null,
      "outputs": [
        {
          "output_type": "stream",
          "text": [
            "[4, 9, 3, 8, 5, 5]\n"
          ],
          "name": "stdout"
        }
      ]
    },
    {
      "cell_type": "markdown",
      "metadata": {
        "id": "N3-ra1nolbtr"
      },
      "source": [
        "**Excercise 5**\n",
        "\n",
        "1. Please find the numbers that are common from list1 and list2 using list comprehesion. There are several ways to solve this. Hint: remember boolean operations, and check the usage of if in list comprehensions\n",
        "2. Please find the numbers that are common from list1 and list2 using intersection. Hint: Think how sets can come handy here"
      ]
    },
    {
      "cell_type": "code",
      "metadata": {
        "id": "fIbpeaeXlbzh"
      },
      "source": [
        "list_a = [1, 2, 3, 4]\n",
        "list_b = [2, 3, 4, 5]\n"
      ],
      "execution_count": null,
      "outputs": []
    },
    {
      "cell_type": "code",
      "metadata": {
        "colab": {
          "base_uri": "https://localhost:8080/"
        },
        "id": "MdnDVkW20t6h",
        "outputId": "96f5df57-7cf3-40e2-c689-ac9736d9b8f7"
      },
      "source": [
        "#solution\n",
        "#1\n",
        "common_num = [a for a in list_a for b in list_b if a == b]\n",
        "common_num"
      ],
      "execution_count": null,
      "outputs": [
        {
          "output_type": "execute_result",
          "data": {
            "text/plain": [
              "[2, 3, 4]"
            ]
          },
          "metadata": {
            "tags": []
          },
          "execution_count": 127
        }
      ]
    },
    {
      "cell_type": "code",
      "metadata": {
        "colab": {
          "base_uri": "https://localhost:8080/"
        },
        "id": "YCJwRYN90wUB",
        "outputId": "a38699ac-81cb-4617-d835-e1cc2be6419d"
      },
      "source": [
        "common_num1= [element for element in list_a if element in list_b]\n",
        "common_num1"
      ],
      "execution_count": null,
      "outputs": [
        {
          "output_type": "execute_result",
          "data": {
            "text/plain": [
              "[2, 3, 4]"
            ]
          },
          "metadata": {
            "tags": []
          },
          "execution_count": 128
        }
      ]
    },
    {
      "cell_type": "code",
      "metadata": {
        "colab": {
          "base_uri": "https://localhost:8080/"
        },
        "id": "WCwIZQPE0wY9",
        "outputId": "3b69c124-5cbb-4383-c72f-02cd37cd245c"
      },
      "source": [
        "#2\n",
        "list_a_set = set(list_a)\n",
        "intersection = list_a_set.intersection(list_b)\n",
        "intersection"
      ],
      "execution_count": null,
      "outputs": [
        {
          "output_type": "execute_result",
          "data": {
            "text/plain": [
              "{2, 3, 4}"
            ]
          },
          "metadata": {
            "tags": []
          },
          "execution_count": 129
        }
      ]
    },
    {
      "cell_type": "code",
      "metadata": {
        "colab": {
          "base_uri": "https://localhost:8080/"
        },
        "id": "866hS6UY0wfM",
        "outputId": "eab09227-2646-42ee-c4ec-86e1fbaa4230"
      },
      "source": [
        "#another way to do two\n",
        "list(set(list_a).intersection(list_b))"
      ],
      "execution_count": null,
      "outputs": [
        {
          "output_type": "execute_result",
          "data": {
            "text/plain": [
              "[2, 3, 4]"
            ]
          },
          "metadata": {
            "tags": []
          },
          "execution_count": 130
        }
      ]
    },
    {
      "cell_type": "markdown",
      "metadata": {
        "id": "sE7SqzTSs6I9"
      },
      "source": [
        "**Excercise 6**\n",
        "\n",
        "print the items in the list below in reverse one by one. <br/>\n",
        "Outcome should look like: <br/>\n",
        "10<br/>\n",
        "7<br/>\n",
        "3<br/>\n",
        "2<br/>\n",
        "1<br/>\n",
        "800<br/>\n",
        "100<br/>\n",
        "66<br/>"
      ]
    },
    {
      "cell_type": "code",
      "metadata": {
        "collapsed": true,
        "id": "aApDAUM3s6I-"
      },
      "source": [
        "a_random_list = [66,100,800,1,2,3,7,10]\n"
      ],
      "execution_count": 1,
      "outputs": []
    },
    {
      "cell_type": "code",
      "metadata": {
        "colab": {
          "base_uri": "https://localhost:8080/"
        },
        "id": "GE3t3kew078U",
        "outputId": "050e1349-7292-4881-e6af-f8148f48a772"
      },
      "source": [
        "#solution - a slice that steps backwards\n",
        "\n",
        "#start at the end of the string and end at position 0,\n",
        "#move with the step -1, negative one --> stepping backwards\n",
        "\n",
        "for a in a_random_list[::-1]:\n",
        "    print(a)"
      ],
      "execution_count": 4,
      "outputs": [
        {
          "output_type": "stream",
          "text": [
            "10\n",
            "7\n",
            "3\n",
            "2\n",
            "1\n",
            "800\n",
            "100\n",
            "66\n"
          ],
          "name": "stdout"
        }
      ]
    },
    {
      "cell_type": "markdown",
      "metadata": {
        "id": "wcOIEo3Ts6I-"
      },
      "source": [
        "**Excercise 7**\n",
        "\n",
        "1. Requests the name of the user\n",
        "2. Ask users how many carbs they have eaten today \n",
        "3. Print a message saying that they have eaten too much carbs, if they ate over 2000, if they didnt print \"youre good\""
      ]
    },
    {
      "cell_type": "code",
      "metadata": {
        "colab": {
          "base_uri": "https://localhost:8080/"
        },
        "id": "7qKw5WiA1E_j",
        "outputId": "aebf186b-de3c-4985-e7b2-85e755f25dcc"
      },
      "source": [
        "#solution\n",
        "name=input(\"Whats your name? \\t\")\n"
      ],
      "execution_count": 5,
      "outputs": [
        {
          "output_type": "stream",
          "text": [
            "Whats your name? \tash\n"
          ],
          "name": "stdout"
        }
      ]
    },
    {
      "cell_type": "code",
      "metadata": {
        "colab": {
          "base_uri": "https://localhost:8080/"
        },
        "id": "j7DnSXb11FEK",
        "outputId": "c895d09e-559b-4b39-9123-c4d13e987684"
      },
      "source": [
        "carbs=input(\"How many carbs have you consumed today ?\\t\")\n",
        "carbs=int(carbs)\n",
        "carbs"
      ],
      "execution_count": 6,
      "outputs": [
        {
          "output_type": "stream",
          "text": [
            "How many carbs have you consumed today ?\t0\n"
          ],
          "name": "stdout"
        },
        {
          "output_type": "execute_result",
          "data": {
            "text/plain": [
              "0"
            ]
          },
          "metadata": {
            "tags": []
          },
          "execution_count": 6
        }
      ]
    },
    {
      "cell_type": "code",
      "metadata": {
        "colab": {
          "base_uri": "https://localhost:8080/"
        },
        "id": "YaMlvM7m1FI4",
        "outputId": "aeef4470-7193-4676-d541-340f7a1972c6"
      },
      "source": [
        "print(type(carbs))"
      ],
      "execution_count": null,
      "outputs": [
        {
          "output_type": "stream",
          "text": [
            "<class 'int'>\n"
          ],
          "name": "stdout"
        }
      ]
    },
    {
      "cell_type": "code",
      "metadata": {
        "colab": {
          "base_uri": "https://localhost:8080/"
        },
        "id": "B2902_-f1FM7",
        "outputId": "b19f346b-a29f-4041-c83b-c1e5eb9bca9a"
      },
      "source": [
        "if carbs>2000:\n",
        "    print(name, \"you have eaten too many carbs for today\")\n",
        "else:\n",
        "    print(name, \"youre good\")"
      ],
      "execution_count": 7,
      "outputs": [
        {
          "output_type": "stream",
          "text": [
            "ash youre good\n"
          ],
          "name": "stdout"
        }
      ]
    },
    {
      "cell_type": "markdown",
      "metadata": {
        "id": "itzOYISDs6I-"
      },
      "source": [
        "**Excercise 8**\n",
        "\n",
        "- Define a varibale x to take a number as *input*, you will ask the user to enter any number. Tip:  you will need to understand and use the eval() function, why is it important here?\n",
        "- Store in a list called \"todolist\", x (the number you have chose) items one at a time that the user has to do today. You do that by using the input function. So to say if the x variable is 2, users should be asked twice. Hint: To do that you need a for loop.\n",
        "- Print the todolist"
      ]
    },
    {
      "cell_type": "code",
      "metadata": {
        "colab": {
          "base_uri": "https://localhost:8080/"
        },
        "id": "RxPrNUMX1Moh",
        "outputId": "2b3461df-5967-4f8e-850a-c0b5c1143c8d"
      },
      "source": [
        "#solution\n",
        "x=eval(input(\"Please enter any number\"))\n"
      ],
      "execution_count": 8,
      "outputs": [
        {
          "output_type": "stream",
          "text": [
            "Please enter any number7\n"
          ],
          "name": "stdout"
        }
      ]
    },
    {
      "cell_type": "code",
      "metadata": {
        "colab": {
          "base_uri": "https://localhost:8080/"
        },
        "id": "u9JIIrNq1MyG",
        "outputId": "f7aa8d9d-4fdf-44b0-b441-37c64658c682"
      },
      "source": [
        "for i in range (x):\n",
        "    todo=input(\"\")"
      ],
      "execution_count": 9,
      "outputs": [
        {
          "output_type": "stream",
          "text": [
            "d\n",
            "d\n",
            "d\n",
            "d\n",
            "f\n",
            "f\n",
            "f\n"
          ],
          "name": "stdout"
        }
      ]
    },
    {
      "cell_type": "code",
      "metadata": {
        "colab": {
          "base_uri": "https://localhost:8080/"
        },
        "id": "An9geNmx1M2I",
        "outputId": "7b6d58dc-4469-4af7-cd18-cbc50d951d5c"
      },
      "source": [
        "todolist=[]\n",
        "for i in range(x):\n",
        "    todo=input(\"What do you have to do?\")\n",
        "    todolist.append(todo)\n",
        "print(todolist)"
      ],
      "execution_count": 18,
      "outputs": [
        {
          "output_type": "stream",
          "text": [
            "What do you have to do?clean\n",
            "What do you have to do?organize\n",
            "What do you have to do?work\n",
            "What do you have to do?teach\n",
            "What do you have to do?sleep\n",
            "What do you have to do?sleep\n",
            "What do you have to do?sleep lol\n",
            "['clean', 'organize', 'work', 'teach', 'sleep', 'sleep', 'sleep lol']\n"
          ],
          "name": "stdout"
        }
      ]
    },
    {
      "cell_type": "markdown",
      "metadata": {
        "id": "jRVpIWcYs6I-"
      },
      "source": [
        "**Excercise 9**\n",
        "\n",
        "Use a loop over the number and letter lists below.  Think about how to write code that will produce the output below. Hint: you need two loops\n",
        "\n",
        "1 <br>\n",
        "a <br>\n",
        "b<br>\n",
        "c<br>\n",
        "2<br>\n",
        "a<br>\n",
        "b<br>\n",
        "c<br>\n",
        "3<br>\n",
        "a<br>\n",
        "b<br>\n",
        "c<br>"
      ]
    },
    {
      "cell_type": "code",
      "metadata": {
        "collapsed": true,
        "id": "M7P6igEXs6I_"
      },
      "source": [
        "numbers = [1, 2, 3]\n",
        "letters = ['a', 'b', 'c']"
      ],
      "execution_count": null,
      "outputs": []
    },
    {
      "cell_type": "code",
      "metadata": {
        "collapsed": true,
        "id": "HH6l74XMs6I_",
        "colab": {
          "base_uri": "https://localhost:8080/"
        },
        "outputId": "c85372d8-363d-48eb-a201-8f1f83ae60ed"
      },
      "source": [
        "#solution\n",
        "for x in numbers:\n",
        "    print(x)\n",
        "    for a in letters:\n",
        "        print(a)"
      ],
      "execution_count": null,
      "outputs": [
        {
          "output_type": "stream",
          "text": [
            "1\n",
            "a\n",
            "b\n",
            "c\n",
            "2\n",
            "a\n",
            "b\n",
            "c\n",
            "3\n",
            "a\n",
            "b\n",
            "c\n"
          ],
          "name": "stdout"
        }
      ]
    },
    {
      "cell_type": "markdown",
      "metadata": {
        "id": "yQyP6IJPs6I_"
      },
      "source": [
        "**Excercise 10**\n",
        "\n",
        "- Define a function that returns absolute values. This function will use if and else statetemts so that it always returns the absolute value even if the inputted number is negative.\n",
        "- Try this function out, once with the numbers -222 and 100\n"
      ]
    },
    {
      "cell_type": "code",
      "metadata": {
        "id": "qFFNkmPv1dpw"
      },
      "source": [
        "#solution\n",
        "def absolute(x):\n",
        "    if x >= 0:\n",
        "        print( x)\n",
        "    else:\n",
        "        print( -x)"
      ],
      "execution_count": 11,
      "outputs": []
    },
    {
      "cell_type": "code",
      "metadata": {
        "colab": {
          "base_uri": "https://localhost:8080/"
        },
        "id": "XBGbfuD91f0H",
        "outputId": "6972f22c-c9cf-4741-f840-7dc8540ce55c"
      },
      "source": [
        "absolute(-222)\n",
        "absolute(100)"
      ],
      "execution_count": 12,
      "outputs": [
        {
          "output_type": "stream",
          "text": [
            "222\n",
            "100\n"
          ],
          "name": "stdout"
        }
      ]
    },
    {
      "cell_type": "markdown",
      "metadata": {
        "id": "fV3D9o55s6I_"
      },
      "source": [
        "**Excersise 11**\n",
        "\n",
        "Looping over dictionaries\n",
        "\n",
        "1. Create a dictionary with keys that have names of states in the US and the values are their capital\n",
        "2. Print the keys of the dictionar\n",
        "3. Print the values of the dictionary\n"
      ]
    },
    {
      "cell_type": "code",
      "metadata": {
        "colab": {
          "base_uri": "https://localhost:8080/"
        },
        "id": "qs9LwiwW1iGg",
        "outputId": "ff18eb4b-f0ad-43b5-9487-05110f744e80"
      },
      "source": [
        "#solution\n",
        "states_capital= {'Texas' : 'Austin', 'California' : 'Sacramento', \n",
        "                'Ohio' : 'Columbus', 'Pennsylvania' : 'Harrisburg'} \n",
        "states_capital"
      ],
      "execution_count": null,
      "outputs": [
        {
          "output_type": "execute_result",
          "data": {
            "text/plain": [
              "{'California': 'Sacramento',\n",
              " 'Ohio': 'Columbus',\n",
              " 'Pennsylvania': 'Harrisburg',\n",
              " 'Texas': 'Austin'}"
            ]
          },
          "metadata": {
            "tags": []
          },
          "execution_count": 144
        }
      ]
    },
    {
      "cell_type": "code",
      "metadata": {
        "colab": {
          "base_uri": "https://localhost:8080/"
        },
        "id": "q_-GtkDs1knk",
        "outputId": "1f3b8919-b525-4998-b4dd-bf90cd20b42f"
      },
      "source": [
        "for key in states_capital:\n",
        "    print(key)"
      ],
      "execution_count": null,
      "outputs": [
        {
          "output_type": "stream",
          "text": [
            "Texas\n",
            "California\n",
            "Ohio\n",
            "Pennsylvania\n"
          ],
          "name": "stdout"
        }
      ]
    },
    {
      "cell_type": "code",
      "metadata": {
        "colab": {
          "base_uri": "https://localhost:8080/"
        },
        "id": "4cnMPkFa1mza",
        "outputId": "a7180812-803f-4e33-dc8c-8c6752fa164f"
      },
      "source": [
        "for value in states_capital.values(): \n",
        "    print(value)"
      ],
      "execution_count": null,
      "outputs": [
        {
          "output_type": "stream",
          "text": [
            "Austin\n",
            "Sacramento\n",
            "Columbus\n",
            "Harrisburg\n"
          ],
          "name": "stdout"
        }
      ]
    },
    {
      "cell_type": "markdown",
      "metadata": {
        "id": "tHheNao1s6I_"
      },
      "source": [
        "**Excercise 12**\n",
        "\n",
        "Looping and indexing. \n",
        "\n",
        "Print each letter in the word \"awesome\". Do that by using a for loop. \n",
        "\n",
        "Hint: Check out the range function."
      ]
    },
    {
      "cell_type": "code",
      "metadata": {
        "collapsed": true,
        "id": "ycIHy5QNs6JA"
      },
      "source": [
        "word= (\"awesome\")\n",
        "\n"
      ],
      "execution_count": 15,
      "outputs": []
    },
    {
      "cell_type": "code",
      "metadata": {
        "collapsed": true,
        "id": "qc7NzRsWs6JA",
        "colab": {
          "base_uri": "https://localhost:8080/"
        },
        "outputId": "732d4287-3b27-4a1c-9903-a470a7eecd45"
      },
      "source": [
        "#solution\n",
        "for i in range(len(word)):#pull out all elements you wanna work with\n",
        "    print(word[i])"
      ],
      "execution_count": 16,
      "outputs": [
        {
          "output_type": "stream",
          "text": [
            "a\n",
            "w\n",
            "e\n",
            "s\n",
            "o\n",
            "m\n",
            "e\n"
          ],
          "name": "stdout"
        }
      ]
    },
    {
      "cell_type": "code",
      "metadata": {
        "collapsed": true,
        "id": "xOnvLhuxs6JA",
        "colab": {
          "base_uri": "https://localhost:8080/",
          "height": 35
        },
        "outputId": "cacb5f7a-9929-4f81-cff7-2ec98e59da11"
      },
      "source": [
        "word[2]"
      ],
      "execution_count": null,
      "outputs": [
        {
          "output_type": "execute_result",
          "data": {
            "application/vnd.google.colaboratory.intrinsic+json": {
              "type": "string"
            },
            "text/plain": [
              "'e'"
            ]
          },
          "metadata": {
            "tags": []
          },
          "execution_count": 149
        }
      ]
    },
    {
      "cell_type": "code",
      "metadata": {
        "collapsed": true,
        "id": "N3BfDqkMs6JA"
      },
      "source": [
        ""
      ],
      "execution_count": null,
      "outputs": []
    },
    {
      "cell_type": "code",
      "metadata": {
        "collapsed": true,
        "id": "sOIZNZf3s6JB"
      },
      "source": [
        ""
      ],
      "execution_count": null,
      "outputs": []
    },
    {
      "cell_type": "code",
      "metadata": {
        "collapsed": true,
        "id": "egwIOolKs6JB"
      },
      "source": [
        ""
      ],
      "execution_count": null,
      "outputs": []
    },
    {
      "cell_type": "code",
      "metadata": {
        "collapsed": true,
        "id": "t6E9nt2Ns6JB"
      },
      "source": [
        ""
      ],
      "execution_count": null,
      "outputs": []
    },
    {
      "cell_type": "code",
      "metadata": {
        "collapsed": true,
        "id": "VGU_vJ4Bs6JB"
      },
      "source": [
        ""
      ],
      "execution_count": null,
      "outputs": []
    },
    {
      "cell_type": "code",
      "metadata": {
        "collapsed": true,
        "id": "DbjUHrgFs6JB"
      },
      "source": [
        " "
      ],
      "execution_count": null,
      "outputs": []
    },
    {
      "cell_type": "code",
      "metadata": {
        "collapsed": true,
        "id": "OfK73Nkls6JB"
      },
      "source": [
        ""
      ],
      "execution_count": null,
      "outputs": []
    },
    {
      "cell_type": "code",
      "metadata": {
        "collapsed": true,
        "id": "hFk0EjvTs6JB"
      },
      "source": [
        ""
      ],
      "execution_count": null,
      "outputs": []
    },
    {
      "cell_type": "markdown",
      "metadata": {
        "id": "heBAj3ous6JC"
      },
      "source": [
        " "
      ]
    },
    {
      "cell_type": "code",
      "metadata": {
        "collapsed": true,
        "id": "_KowaWe6s6JC"
      },
      "source": [
        ""
      ],
      "execution_count": null,
      "outputs": []
    }
  ]
}